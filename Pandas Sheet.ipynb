{
 "cells": [
  {
   "cell_type": "markdown",
   "metadata": {},
   "source": [
    "Pandas is fast, flexible ,most powerful, and  easy to use open source library. It is used for data analysis, ans data manipulation , built on top of python programming. Pandas would be 2-D array"
   ]
  },
  {
   "cell_type": "markdown",
   "metadata": {},
   "source": [
    "Pandas Series  is like a column in a table. It's 1-D array"
   ]
  },
  {
   "cell_type": "code",
   "execution_count": 232,
   "metadata": {},
   "outputs": [],
   "source": [
    "import pandas as pd\n",
    "import numpy as np"
   ]
  },
  {
   "cell_type": "markdown",
   "metadata": {},
   "source": [
    "### Read the Data"
   ]
  },
  {
   "cell_type": "code",
   "execution_count": 233,
   "metadata": {},
   "outputs": [
    {
     "data": {
      "text/html": [
       "<div>\n",
       "<style scoped>\n",
       "    .dataframe tbody tr th:only-of-type {\n",
       "        vertical-align: middle;\n",
       "    }\n",
       "\n",
       "    .dataframe tbody tr th {\n",
       "        vertical-align: top;\n",
       "    }\n",
       "\n",
       "    .dataframe thead th {\n",
       "        text-align: right;\n",
       "    }\n",
       "</style>\n",
       "<table border=\"1\" class=\"dataframe\">\n",
       "  <thead>\n",
       "    <tr style=\"text-align: right;\">\n",
       "      <th></th>\n",
       "      <th>EMPLOYEE_ID</th>\n",
       "      <th>FIRST_NAME</th>\n",
       "      <th>LAST_NAME</th>\n",
       "      <th>EMAIL</th>\n",
       "      <th>PHONE_NUMBER</th>\n",
       "      <th>HIRE_DATE</th>\n",
       "      <th>JOB_ID</th>\n",
       "      <th>SALARY</th>\n",
       "      <th>COMMISSION_PCT</th>\n",
       "      <th>MANAGER_ID</th>\n",
       "      <th>DEPARTMENT_ID</th>\n",
       "    </tr>\n",
       "  </thead>\n",
       "  <tbody>\n",
       "    <tr>\n",
       "      <th>0</th>\n",
       "      <td>198</td>\n",
       "      <td>Donald</td>\n",
       "      <td>OConnell</td>\n",
       "      <td>DOCONNEL</td>\n",
       "      <td>650.507.9833</td>\n",
       "      <td>21-JUN-07</td>\n",
       "      <td>SH_CLERK</td>\n",
       "      <td>2600</td>\n",
       "      <td>-</td>\n",
       "      <td>124</td>\n",
       "      <td>50</td>\n",
       "    </tr>\n",
       "    <tr>\n",
       "      <th>1</th>\n",
       "      <td>199</td>\n",
       "      <td>Douglas</td>\n",
       "      <td>Grant</td>\n",
       "      <td>DGRANT</td>\n",
       "      <td>650.507.9844</td>\n",
       "      <td>13-JAN-08</td>\n",
       "      <td>SH_CLERK</td>\n",
       "      <td>2600</td>\n",
       "      <td>-</td>\n",
       "      <td>124</td>\n",
       "      <td>50</td>\n",
       "    </tr>\n",
       "    <tr>\n",
       "      <th>2</th>\n",
       "      <td>200</td>\n",
       "      <td>Jennifer</td>\n",
       "      <td>Whalen</td>\n",
       "      <td>JWHALEN</td>\n",
       "      <td>515.123.4444</td>\n",
       "      <td>17-SEP-03</td>\n",
       "      <td>AD_ASST</td>\n",
       "      <td>4400</td>\n",
       "      <td>-</td>\n",
       "      <td>101</td>\n",
       "      <td>10</td>\n",
       "    </tr>\n",
       "    <tr>\n",
       "      <th>3</th>\n",
       "      <td>201</td>\n",
       "      <td>Michael</td>\n",
       "      <td>Hartstein</td>\n",
       "      <td>MHARTSTE</td>\n",
       "      <td>515.123.5555</td>\n",
       "      <td>17-FEB-04</td>\n",
       "      <td>MK_MAN</td>\n",
       "      <td>13000</td>\n",
       "      <td>-</td>\n",
       "      <td>100</td>\n",
       "      <td>20</td>\n",
       "    </tr>\n",
       "    <tr>\n",
       "      <th>4</th>\n",
       "      <td>202</td>\n",
       "      <td>Pat</td>\n",
       "      <td>Fay</td>\n",
       "      <td>PFAY</td>\n",
       "      <td>603.123.6666</td>\n",
       "      <td>17-AUG-05</td>\n",
       "      <td>MK_REP</td>\n",
       "      <td>6000</td>\n",
       "      <td>-</td>\n",
       "      <td>201</td>\n",
       "      <td>20</td>\n",
       "    </tr>\n",
       "  </tbody>\n",
       "</table>\n",
       "</div>"
      ],
      "text/plain": [
       "   EMPLOYEE_ID FIRST_NAME  LAST_NAME     EMAIL  PHONE_NUMBER  HIRE_DATE  \\\n",
       "0          198     Donald   OConnell  DOCONNEL  650.507.9833  21-JUN-07   \n",
       "1          199    Douglas      Grant    DGRANT  650.507.9844  13-JAN-08   \n",
       "2          200   Jennifer     Whalen   JWHALEN  515.123.4444  17-SEP-03   \n",
       "3          201    Michael  Hartstein  MHARTSTE  515.123.5555  17-FEB-04   \n",
       "4          202        Pat        Fay      PFAY  603.123.6666  17-AUG-05   \n",
       "\n",
       "     JOB_ID  SALARY COMMISSION_PCT MANAGER_ID  DEPARTMENT_ID  \n",
       "0  SH_CLERK    2600             -         124             50  \n",
       "1  SH_CLERK    2600             -         124             50  \n",
       "2   AD_ASST    4400             -         101             10  \n",
       "3    MK_MAN   13000             -         100             20  \n",
       "4    MK_REP    6000             -         201             20  "
      ]
     },
     "execution_count": 233,
     "metadata": {},
     "output_type": "execute_result"
    }
   ],
   "source": [
    "data = pd.read_csv('employees.csv')\n",
    "data.head()"
   ]
  },
  {
   "cell_type": "code",
   "execution_count": 234,
   "metadata": {},
   "outputs": [],
   "source": [
    "### Delete the COMMISSION_PCT column"
   ]
  },
  {
   "cell_type": "code",
   "execution_count": 235,
   "metadata": {},
   "outputs": [
    {
     "data": {
      "text/html": [
       "<div>\n",
       "<style scoped>\n",
       "    .dataframe tbody tr th:only-of-type {\n",
       "        vertical-align: middle;\n",
       "    }\n",
       "\n",
       "    .dataframe tbody tr th {\n",
       "        vertical-align: top;\n",
       "    }\n",
       "\n",
       "    .dataframe thead th {\n",
       "        text-align: right;\n",
       "    }\n",
       "</style>\n",
       "<table border=\"1\" class=\"dataframe\">\n",
       "  <thead>\n",
       "    <tr style=\"text-align: right;\">\n",
       "      <th></th>\n",
       "      <th>EMPLOYEE_ID</th>\n",
       "      <th>FIRST_NAME</th>\n",
       "      <th>LAST_NAME</th>\n",
       "      <th>EMAIL</th>\n",
       "      <th>PHONE_NUMBER</th>\n",
       "      <th>HIRE_DATE</th>\n",
       "      <th>JOB_ID</th>\n",
       "      <th>SALARY</th>\n",
       "      <th>MANAGER_ID</th>\n",
       "      <th>DEPARTMENT_ID</th>\n",
       "    </tr>\n",
       "  </thead>\n",
       "  <tbody>\n",
       "    <tr>\n",
       "      <th>0</th>\n",
       "      <td>198</td>\n",
       "      <td>Donald</td>\n",
       "      <td>OConnell</td>\n",
       "      <td>DOCONNEL</td>\n",
       "      <td>650.507.9833</td>\n",
       "      <td>21-JUN-07</td>\n",
       "      <td>SH_CLERK</td>\n",
       "      <td>2600</td>\n",
       "      <td>124</td>\n",
       "      <td>50</td>\n",
       "    </tr>\n",
       "    <tr>\n",
       "      <th>1</th>\n",
       "      <td>199</td>\n",
       "      <td>Douglas</td>\n",
       "      <td>Grant</td>\n",
       "      <td>DGRANT</td>\n",
       "      <td>650.507.9844</td>\n",
       "      <td>13-JAN-08</td>\n",
       "      <td>SH_CLERK</td>\n",
       "      <td>2600</td>\n",
       "      <td>124</td>\n",
       "      <td>50</td>\n",
       "    </tr>\n",
       "    <tr>\n",
       "      <th>2</th>\n",
       "      <td>200</td>\n",
       "      <td>Jennifer</td>\n",
       "      <td>Whalen</td>\n",
       "      <td>JWHALEN</td>\n",
       "      <td>515.123.4444</td>\n",
       "      <td>17-SEP-03</td>\n",
       "      <td>AD_ASST</td>\n",
       "      <td>4400</td>\n",
       "      <td>101</td>\n",
       "      <td>10</td>\n",
       "    </tr>\n",
       "    <tr>\n",
       "      <th>3</th>\n",
       "      <td>201</td>\n",
       "      <td>Michael</td>\n",
       "      <td>Hartstein</td>\n",
       "      <td>MHARTSTE</td>\n",
       "      <td>515.123.5555</td>\n",
       "      <td>17-FEB-04</td>\n",
       "      <td>MK_MAN</td>\n",
       "      <td>13000</td>\n",
       "      <td>100</td>\n",
       "      <td>20</td>\n",
       "    </tr>\n",
       "    <tr>\n",
       "      <th>4</th>\n",
       "      <td>202</td>\n",
       "      <td>Pat</td>\n",
       "      <td>Fay</td>\n",
       "      <td>PFAY</td>\n",
       "      <td>603.123.6666</td>\n",
       "      <td>17-AUG-05</td>\n",
       "      <td>MK_REP</td>\n",
       "      <td>6000</td>\n",
       "      <td>201</td>\n",
       "      <td>20</td>\n",
       "    </tr>\n",
       "  </tbody>\n",
       "</table>\n",
       "</div>"
      ],
      "text/plain": [
       "   EMPLOYEE_ID FIRST_NAME  LAST_NAME     EMAIL  PHONE_NUMBER  HIRE_DATE  \\\n",
       "0          198     Donald   OConnell  DOCONNEL  650.507.9833  21-JUN-07   \n",
       "1          199    Douglas      Grant    DGRANT  650.507.9844  13-JAN-08   \n",
       "2          200   Jennifer     Whalen   JWHALEN  515.123.4444  17-SEP-03   \n",
       "3          201    Michael  Hartstein  MHARTSTE  515.123.5555  17-FEB-04   \n",
       "4          202        Pat        Fay      PFAY  603.123.6666  17-AUG-05   \n",
       "\n",
       "     JOB_ID  SALARY MANAGER_ID  DEPARTMENT_ID  \n",
       "0  SH_CLERK    2600        124             50  \n",
       "1  SH_CLERK    2600        124             50  \n",
       "2   AD_ASST    4400        101             10  \n",
       "3    MK_MAN   13000        100             20  \n",
       "4    MK_REP    6000        201             20  "
      ]
     },
     "execution_count": 235,
     "metadata": {},
     "output_type": "execute_result"
    }
   ],
   "source": [
    "data.drop('COMMISSION_PCT',axis=1,inplace=True)\n",
    "data.head()"
   ]
  },
  {
   "cell_type": "code",
   "execution_count": 236,
   "metadata": {},
   "outputs": [],
   "source": [
    "### Series Using String"
   ]
  },
  {
   "cell_type": "code",
   "execution_count": 237,
   "metadata": {},
   "outputs": [],
   "source": [
    "job_id = data.iloc[:,-4]"
   ]
  },
  {
   "cell_type": "code",
   "execution_count": 238,
   "metadata": {},
   "outputs": [
    {
     "data": {
      "text/plain": [
       "pandas.core.series.Series"
      ]
     },
     "execution_count": 238,
     "metadata": {},
     "output_type": "execute_result"
    }
   ],
   "source": [
    "type(job_id)"
   ]
  },
  {
   "cell_type": "code",
   "execution_count": 239,
   "metadata": {},
   "outputs": [
    {
     "data": {
      "text/plain": [
       "0       SH_CLERK\n",
       "1       SH_CLERK\n",
       "2        AD_ASST\n",
       "3         MK_MAN\n",
       "4         MK_REP\n",
       "5         HR_REP\n",
       "6         PR_REP\n",
       "7         AC_MGR\n",
       "8     AC_ACCOUNT\n",
       "9        AD_PRES\n",
       "10         AD_VP\n",
       "11         AD_VP\n",
       "12       IT_PROG\n",
       "13       IT_PROG\n",
       "14       IT_PROG\n",
       "15       IT_PROG\n",
       "16       IT_PROG\n",
       "17        FI_MGR\n",
       "18    FI_ACCOUNT\n",
       "19    FI_ACCOUNT\n",
       "20    FI_ACCOUNT\n",
       "21    FI_ACCOUNT\n",
       "22    FI_ACCOUNT\n",
       "23        PU_MAN\n",
       "24      PU_CLERK\n",
       "25      PU_CLERK\n",
       "26      PU_CLERK\n",
       "27      PU_CLERK\n",
       "28      PU_CLERK\n",
       "29        ST_MAN\n",
       "30        ST_MAN\n",
       "31        ST_MAN\n",
       "32        ST_MAN\n",
       "33        ST_MAN\n",
       "34      ST_CLERK\n",
       "35      ST_CLERK\n",
       "36      ST_CLERK\n",
       "37      ST_CLERK\n",
       "38      ST_CLERK\n",
       "39      ST_CLERK\n",
       "40      ST_CLERK\n",
       "41      ST_CLERK\n",
       "42      ST_CLERK\n",
       "43      ST_CLERK\n",
       "44      ST_CLERK\n",
       "45      ST_CLERK\n",
       "46      ST_CLERK\n",
       "47      ST_CLERK\n",
       "48      ST_CLERK\n",
       "49      ST_CLERK\n",
       "Name: JOB_ID, dtype: object"
      ]
     },
     "execution_count": 239,
     "metadata": {},
     "output_type": "execute_result"
    }
   ],
   "source": [
    "job_id"
   ]
  },
  {
   "cell_type": "code",
   "execution_count": 240,
   "metadata": {},
   "outputs": [
    {
     "data": {
      "text/plain": [
       "pandas.core.frame.DataFrame"
      ]
     },
     "execution_count": 240,
     "metadata": {},
     "output_type": "execute_result"
    }
   ],
   "source": [
    "type(data)"
   ]
  },
  {
   "cell_type": "code",
   "execution_count": 241,
   "metadata": {},
   "outputs": [
    {
     "data": {
      "text/plain": [
       "EMPLOYEE_ID  FIRST_NAME   LAST_NAME    EMAIL     PHONE_NUMBER  HIRE_DATE  JOB_ID      SALARY  MANAGER_ID  DEPARTMENT_ID\n",
       "206          William      Gietz        WGIETZ    515.123.8181  07-JUN-02  AC_ACCOUNT  8300    205         110              1\n",
       "112          Jose Manuel  Urman        JMURMAN   515.124.4469  07-MAR-06  FI_ACCOUNT  7800    108         100              1\n",
       "122          Payam        Kaufling     PKAUFLIN  650.123.3234  01-MAY-03  ST_MAN      7900    100         50               1\n",
       "121          Adam         Fripp        AFRIPP    650.123.2234  10-APR-05  ST_MAN      8200    100         50               1\n",
       "120          Matthew      Weiss        MWEISS    650.123.1234  18-JUL-04  ST_MAN      8000    100         50               1\n",
       "119          Karen        Colmenares   KCOLMENA  515.127.4566  10-AUG-07  PU_CLERK    2500    114         30               1\n",
       "118          Guy          Himuro       GHIMURO   515.127.4565  15-NOV-06  PU_CLERK    2600    114         30               1\n",
       "117          Sigal        Tobias       STOBIAS   515.127.4564  24-JUL-05  PU_CLERK    2800    114         30               1\n",
       "116          Shelli       Baida        SBAIDA    515.127.4563  24-DEC-05  PU_CLERK    2900    114         30               1\n",
       "115          Alexander    Khoo         AKHOO     515.127.4562  18-MAY-03  PU_CLERK    3100    114         30               1\n",
       "114          Den          Raphaely     DRAPHEAL  515.127.4561  07-DEC-02  PU_MAN      11000   100         30               1\n",
       "113          Luis         Popp         LPOPP     515.124.4567  07-DEC-07  FI_ACCOUNT  6900    108         100              1\n",
       "111          Ismael       Sciarra      ISCIARRA  515.124.4369  30-SEP-05  FI_ACCOUNT  7700    108         100              1\n",
       "205          Shelley      Higgins      SHIGGINS  515.123.8080  07-JUN-02  AC_MGR      12008   101         110              1\n",
       "110          John         Chen         JCHEN     515.124.4269  28-SEP-05  FI_ACCOUNT  8200    108         100              1\n",
       "109          Daniel       Faviet       DFAVIET   515.124.4169  16-AUG-02  FI_ACCOUNT  9000    108         100              1\n",
       "108          Nancy        Greenberg    NGREENBE  515.124.4569  17-AUG-02  FI_MGR      12008   101         100              1\n",
       "107          Diana        Lorentz      DLORENTZ  590.423.5567  07-FEB-07  IT_PROG     4200    103         60               1\n",
       "106          Valli        Pataballa    VPATABAL  590.423.4560  05-FEB-06  IT_PROG     4800    103         60               1\n",
       "105          David        Austin       DAUSTIN   590.423.4569  25-JUN-05  IT_PROG     4800    103         60               1\n",
       "104          Bruce        Ernst        BERNST    590.423.4568  21-MAY-07  IT_PROG     6000    103         60               1\n",
       "103          Alexander    Hunold       AHUNOLD   590.423.4567  03-JAN-06  IT_PROG     9000    102         60               1\n",
       "102          Lex          De Haan      LDEHAAN   515.123.4569  13-JAN-01  AD_VP       17000   100         90               1\n",
       "101          Neena        Kochhar      NKOCHHAR  515.123.4568  21-SEP-05  AD_VP       17000   100         90               1\n",
       "123          Shanta       Vollman      SVOLLMAN  650.123.4234  10-OCT-05  ST_MAN      6500    100         50               1\n",
       "124          Kevin        Mourgos      KMOURGOS  650.123.5234  16-NOV-07  ST_MAN      5800    100         50               1\n",
       "125          Julia        Nayer        JNAYER    650.124.1214  16-JUL-05  ST_CLERK    3200    120         50               1\n",
       "126          Irene        Mikkilineni  IMIKKILI  650.124.1224  28-SEP-06  ST_CLERK    2700    120         50               1\n",
       "204          Hermann      Baer         HBAER     515.123.8888  07-JUN-02  PR_REP      10000   101         70               1\n",
       "203          Susan        Mavris       SMAVRIS   515.123.7777  07-JUN-02  HR_REP      6500    101         40               1\n",
       "202          Pat          Fay          PFAY      603.123.6666  17-AUG-05  MK_REP      6000    201         20               1\n",
       "201          Michael      Hartstein    MHARTSTE  515.123.5555  17-FEB-04  MK_MAN      13000   100         20               1\n",
       "200          Jennifer     Whalen       JWHALEN   515.123.4444  17-SEP-03  AD_ASST     4400    101         10               1\n",
       "199          Douglas      Grant        DGRANT    650.507.9844  13-JAN-08  SH_CLERK    2600    124         50               1\n",
       "198          Donald       OConnell     DOCONNEL  650.507.9833  21-JUN-07  SH_CLERK    2600    124         50               1\n",
       "140          Joshua       Patel        JPATEL    650.121.1834  06-APR-06  ST_CLERK    2500    123         50               1\n",
       "139          John         Seo          JSEO      650.121.2019  12-FEB-06  ST_CLERK    2700    123         50               1\n",
       "138          Stephen      Stiles       SSTILES   650.121.2034  26-OCT-05  ST_CLERK    3200    123         50               1\n",
       "137          Renske       Ladwig       RLADWIG   650.121.1234  14-JUL-03  ST_CLERK    3600    123         50               1\n",
       "136          Hazel        Philtanker   HPHILTAN  650.127.1634  06-FEB-08  ST_CLERK    2200    122         50               1\n",
       "135          Ki           Gee          KGEE      650.127.1734  12-DEC-07  ST_CLERK    2400    122         50               1\n",
       "134          Michael      Rogers       MROGERS   650.127.1834  26-AUG-06  ST_CLERK    2900    122         50               1\n",
       "133          Jason        Mallin       JMALLIN   650.127.1934  14-JUN-04  ST_CLERK    3300    122         50               1\n",
       "132          TJ           Olson        TJOLSON   650.124.8234  10-APR-07  ST_CLERK    2100    121         50               1\n",
       "131          James        Marlow       JAMRLOW   650.124.7234  16-FEB-05  ST_CLERK    2500    121         50               1\n",
       "130          Mozhe        Atkinson     MATKINSO  650.124.6234  30-OCT-05  ST_CLERK    2800    121         50               1\n",
       "129          Laura        Bissot       LBISSOT   650.124.5234  20-AUG-05  ST_CLERK    3300    121         50               1\n",
       "128          Steven       Markle       SMARKLE   650.124.1434  08-MAR-08  ST_CLERK    2200    120         50               1\n",
       "127          James        Landry       JLANDRY   650.124.1334  14-JAN-07  ST_CLERK    2400    120         50               1\n",
       "100          Steven       King         SKING     515.123.4567  17-JUN-03  AD_PRES     24000    -          90               1\n",
       "dtype: int64"
      ]
     },
     "execution_count": 241,
     "metadata": {},
     "output_type": "execute_result"
    }
   ],
   "source": [
    "# It's count the values\n",
    "data.value_counts()"
   ]
  },
  {
   "cell_type": "code",
   "execution_count": 242,
   "metadata": {},
   "outputs": [
    {
     "data": {
      "text/plain": [
       "(50, 10)"
      ]
     },
     "execution_count": 242,
     "metadata": {},
     "output_type": "execute_result"
    }
   ],
   "source": [
    "# total numbers of record\n",
    "data.shape"
   ]
  },
  {
   "cell_type": "code",
   "execution_count": 243,
   "metadata": {},
   "outputs": [
    {
     "data": {
      "text/plain": [
       "EMPLOYEE_ID       int64\n",
       "FIRST_NAME       object\n",
       "LAST_NAME        object\n",
       "EMAIL            object\n",
       "PHONE_NUMBER     object\n",
       "HIRE_DATE        object\n",
       "JOB_ID           object\n",
       "SALARY            int64\n",
       "MANAGER_ID       object\n",
       "DEPARTMENT_ID     int64\n",
       "dtype: object"
      ]
     },
     "execution_count": 243,
     "metadata": {},
     "output_type": "execute_result"
    }
   ],
   "source": [
    "# find the datatype of each columns in the records\n",
    "data.dtypes"
   ]
  },
  {
   "cell_type": "code",
   "execution_count": 244,
   "metadata": {},
   "outputs": [
    {
     "data": {
      "text/html": [
       "<div>\n",
       "<style scoped>\n",
       "    .dataframe tbody tr th:only-of-type {\n",
       "        vertical-align: middle;\n",
       "    }\n",
       "\n",
       "    .dataframe tbody tr th {\n",
       "        vertical-align: top;\n",
       "    }\n",
       "\n",
       "    .dataframe thead th {\n",
       "        text-align: right;\n",
       "    }\n",
       "</style>\n",
       "<table border=\"1\" class=\"dataframe\">\n",
       "  <thead>\n",
       "    <tr style=\"text-align: right;\">\n",
       "      <th></th>\n",
       "      <th>FIRST_NAME</th>\n",
       "      <th>LAST_NAME</th>\n",
       "      <th>EMAIL</th>\n",
       "      <th>PHONE_NUMBER</th>\n",
       "      <th>HIRE_DATE</th>\n",
       "      <th>JOB_ID</th>\n",
       "      <th>MANAGER_ID</th>\n",
       "    </tr>\n",
       "  </thead>\n",
       "  <tbody>\n",
       "    <tr>\n",
       "      <th>0</th>\n",
       "      <td>Donald</td>\n",
       "      <td>OConnell</td>\n",
       "      <td>DOCONNEL</td>\n",
       "      <td>650.507.9833</td>\n",
       "      <td>21-JUN-07</td>\n",
       "      <td>SH_CLERK</td>\n",
       "      <td>124</td>\n",
       "    </tr>\n",
       "    <tr>\n",
       "      <th>1</th>\n",
       "      <td>Douglas</td>\n",
       "      <td>Grant</td>\n",
       "      <td>DGRANT</td>\n",
       "      <td>650.507.9844</td>\n",
       "      <td>13-JAN-08</td>\n",
       "      <td>SH_CLERK</td>\n",
       "      <td>124</td>\n",
       "    </tr>\n",
       "    <tr>\n",
       "      <th>2</th>\n",
       "      <td>Jennifer</td>\n",
       "      <td>Whalen</td>\n",
       "      <td>JWHALEN</td>\n",
       "      <td>515.123.4444</td>\n",
       "      <td>17-SEP-03</td>\n",
       "      <td>AD_ASST</td>\n",
       "      <td>101</td>\n",
       "    </tr>\n",
       "    <tr>\n",
       "      <th>3</th>\n",
       "      <td>Michael</td>\n",
       "      <td>Hartstein</td>\n",
       "      <td>MHARTSTE</td>\n",
       "      <td>515.123.5555</td>\n",
       "      <td>17-FEB-04</td>\n",
       "      <td>MK_MAN</td>\n",
       "      <td>100</td>\n",
       "    </tr>\n",
       "    <tr>\n",
       "      <th>4</th>\n",
       "      <td>Pat</td>\n",
       "      <td>Fay</td>\n",
       "      <td>PFAY</td>\n",
       "      <td>603.123.6666</td>\n",
       "      <td>17-AUG-05</td>\n",
       "      <td>MK_REP</td>\n",
       "      <td>201</td>\n",
       "    </tr>\n",
       "  </tbody>\n",
       "</table>\n",
       "</div>"
      ],
      "text/plain": [
       "  FIRST_NAME  LAST_NAME     EMAIL  PHONE_NUMBER  HIRE_DATE    JOB_ID  \\\n",
       "0     Donald   OConnell  DOCONNEL  650.507.9833  21-JUN-07  SH_CLERK   \n",
       "1    Douglas      Grant    DGRANT  650.507.9844  13-JAN-08  SH_CLERK   \n",
       "2   Jennifer     Whalen   JWHALEN  515.123.4444  17-SEP-03   AD_ASST   \n",
       "3    Michael  Hartstein  MHARTSTE  515.123.5555  17-FEB-04    MK_MAN   \n",
       "4        Pat        Fay      PFAY  603.123.6666  17-AUG-05    MK_REP   \n",
       "\n",
       "  MANAGER_ID  \n",
       "0        124  \n",
       "1        124  \n",
       "2        101  \n",
       "3        100  \n",
       "4        201  "
      ]
     },
     "execution_count": 244,
     "metadata": {},
     "output_type": "execute_result"
    }
   ],
   "source": [
    "# take all the object type variable\n",
    "data.select_dtypes(include='object').head()"
   ]
  },
  {
   "cell_type": "code",
   "execution_count": 245,
   "metadata": {},
   "outputs": [
    {
     "data": {
      "text/plain": [
       "array([[198, 'Donald', 'OConnell', 'DOCONNEL', '650.507.9833',\n",
       "        '21-JUN-07', 'SH_CLERK', 2600, '124', 50],\n",
       "       [199, 'Douglas', 'Grant', 'DGRANT', '650.507.9844', '13-JAN-08',\n",
       "        'SH_CLERK', 2600, '124', 50],\n",
       "       [200, 'Jennifer', 'Whalen', 'JWHALEN', '515.123.4444',\n",
       "        '17-SEP-03', 'AD_ASST', 4400, '101', 10],\n",
       "       [201, 'Michael', 'Hartstein', 'MHARTSTE', '515.123.5555',\n",
       "        '17-FEB-04', 'MK_MAN', 13000, '100', 20],\n",
       "       [202, 'Pat', 'Fay', 'PFAY', '603.123.6666', '17-AUG-05', 'MK_REP',\n",
       "        6000, '201', 20],\n",
       "       [203, 'Susan', 'Mavris', 'SMAVRIS', '515.123.7777', '07-JUN-02',\n",
       "        'HR_REP', 6500, '101', 40],\n",
       "       [204, 'Hermann', 'Baer', 'HBAER', '515.123.8888', '07-JUN-02',\n",
       "        'PR_REP', 10000, '101', 70],\n",
       "       [205, 'Shelley', 'Higgins', 'SHIGGINS', '515.123.8080',\n",
       "        '07-JUN-02', 'AC_MGR', 12008, '101', 110],\n",
       "       [206, 'William', 'Gietz', 'WGIETZ', '515.123.8181', '07-JUN-02',\n",
       "        'AC_ACCOUNT', 8300, '205', 110],\n",
       "       [100, 'Steven', 'King', 'SKING', '515.123.4567', '17-JUN-03',\n",
       "        'AD_PRES', 24000, ' - ', 90],\n",
       "       [101, 'Neena', 'Kochhar', 'NKOCHHAR', '515.123.4568', '21-SEP-05',\n",
       "        'AD_VP', 17000, '100', 90],\n",
       "       [102, 'Lex', 'De Haan', 'LDEHAAN', '515.123.4569', '13-JAN-01',\n",
       "        'AD_VP', 17000, '100', 90],\n",
       "       [103, 'Alexander', 'Hunold', 'AHUNOLD', '590.423.4567',\n",
       "        '03-JAN-06', 'IT_PROG', 9000, '102', 60],\n",
       "       [104, 'Bruce', 'Ernst', 'BERNST', '590.423.4568', '21-MAY-07',\n",
       "        'IT_PROG', 6000, '103', 60],\n",
       "       [105, 'David', 'Austin', 'DAUSTIN', '590.423.4569', '25-JUN-05',\n",
       "        'IT_PROG', 4800, '103', 60],\n",
       "       [106, 'Valli', 'Pataballa', 'VPATABAL', '590.423.4560',\n",
       "        '05-FEB-06', 'IT_PROG', 4800, '103', 60],\n",
       "       [107, 'Diana', 'Lorentz', 'DLORENTZ', '590.423.5567', '07-FEB-07',\n",
       "        'IT_PROG', 4200, '103', 60],\n",
       "       [108, 'Nancy', 'Greenberg', 'NGREENBE', '515.124.4569',\n",
       "        '17-AUG-02', 'FI_MGR', 12008, '101', 100],\n",
       "       [109, 'Daniel', 'Faviet', 'DFAVIET', '515.124.4169', '16-AUG-02',\n",
       "        'FI_ACCOUNT', 9000, '108', 100],\n",
       "       [110, 'John', 'Chen', 'JCHEN', '515.124.4269', '28-SEP-05',\n",
       "        'FI_ACCOUNT', 8200, '108', 100],\n",
       "       [111, 'Ismael', 'Sciarra', 'ISCIARRA', '515.124.4369',\n",
       "        '30-SEP-05', 'FI_ACCOUNT', 7700, '108', 100],\n",
       "       [112, 'Jose Manuel', 'Urman', 'JMURMAN', '515.124.4469',\n",
       "        '07-MAR-06', 'FI_ACCOUNT', 7800, '108', 100],\n",
       "       [113, 'Luis', 'Popp', 'LPOPP', '515.124.4567', '07-DEC-07',\n",
       "        'FI_ACCOUNT', 6900, '108', 100],\n",
       "       [114, 'Den', 'Raphaely', 'DRAPHEAL', '515.127.4561', '07-DEC-02',\n",
       "        'PU_MAN', 11000, '100', 30],\n",
       "       [115, 'Alexander', 'Khoo', 'AKHOO', '515.127.4562', '18-MAY-03',\n",
       "        'PU_CLERK', 3100, '114', 30],\n",
       "       [116, 'Shelli', 'Baida', 'SBAIDA', '515.127.4563', '24-DEC-05',\n",
       "        'PU_CLERK', 2900, '114', 30],\n",
       "       [117, 'Sigal', 'Tobias', 'STOBIAS', '515.127.4564', '24-JUL-05',\n",
       "        'PU_CLERK', 2800, '114', 30],\n",
       "       [118, 'Guy', 'Himuro', 'GHIMURO', '515.127.4565', '15-NOV-06',\n",
       "        'PU_CLERK', 2600, '114', 30],\n",
       "       [119, 'Karen', 'Colmenares', 'KCOLMENA', '515.127.4566',\n",
       "        '10-AUG-07', 'PU_CLERK', 2500, '114', 30],\n",
       "       [120, 'Matthew', 'Weiss', 'MWEISS', '650.123.1234', '18-JUL-04',\n",
       "        'ST_MAN', 8000, '100', 50],\n",
       "       [121, 'Adam', 'Fripp', 'AFRIPP', '650.123.2234', '10-APR-05',\n",
       "        'ST_MAN', 8200, '100', 50],\n",
       "       [122, 'Payam', 'Kaufling', 'PKAUFLIN', '650.123.3234',\n",
       "        '01-MAY-03', 'ST_MAN', 7900, '100', 50],\n",
       "       [123, 'Shanta', 'Vollman', 'SVOLLMAN', '650.123.4234',\n",
       "        '10-OCT-05', 'ST_MAN', 6500, '100', 50],\n",
       "       [124, 'Kevin', 'Mourgos', 'KMOURGOS', '650.123.5234', '16-NOV-07',\n",
       "        'ST_MAN', 5800, '100', 50],\n",
       "       [125, 'Julia', 'Nayer', 'JNAYER', '650.124.1214', '16-JUL-05',\n",
       "        'ST_CLERK', 3200, '120', 50],\n",
       "       [126, 'Irene', 'Mikkilineni', 'IMIKKILI', '650.124.1224',\n",
       "        '28-SEP-06', 'ST_CLERK', 2700, '120', 50],\n",
       "       [127, 'James', 'Landry', 'JLANDRY', '650.124.1334', '14-JAN-07',\n",
       "        'ST_CLERK', 2400, '120', 50],\n",
       "       [128, 'Steven', 'Markle', 'SMARKLE', '650.124.1434', '08-MAR-08',\n",
       "        'ST_CLERK', 2200, '120', 50],\n",
       "       [129, 'Laura', 'Bissot', 'LBISSOT', '650.124.5234', '20-AUG-05',\n",
       "        'ST_CLERK', 3300, '121', 50],\n",
       "       [130, 'Mozhe', 'Atkinson', 'MATKINSO', '650.124.6234',\n",
       "        '30-OCT-05', 'ST_CLERK', 2800, '121', 50],\n",
       "       [131, 'James', 'Marlow', 'JAMRLOW', '650.124.7234', '16-FEB-05',\n",
       "        'ST_CLERK', 2500, '121', 50],\n",
       "       [132, 'TJ', 'Olson', 'TJOLSON', '650.124.8234', '10-APR-07',\n",
       "        'ST_CLERK', 2100, '121', 50],\n",
       "       [133, 'Jason', 'Mallin', 'JMALLIN', '650.127.1934', '14-JUN-04',\n",
       "        'ST_CLERK', 3300, '122', 50],\n",
       "       [134, 'Michael', 'Rogers', 'MROGERS', '650.127.1834', '26-AUG-06',\n",
       "        'ST_CLERK', 2900, '122', 50],\n",
       "       [135, 'Ki', 'Gee', 'KGEE', '650.127.1734', '12-DEC-07',\n",
       "        'ST_CLERK', 2400, '122', 50],\n",
       "       [136, 'Hazel', 'Philtanker', 'HPHILTAN', '650.127.1634',\n",
       "        '06-FEB-08', 'ST_CLERK', 2200, '122', 50],\n",
       "       [137, 'Renske', 'Ladwig', 'RLADWIG', '650.121.1234', '14-JUL-03',\n",
       "        'ST_CLERK', 3600, '123', 50],\n",
       "       [138, 'Stephen', 'Stiles', 'SSTILES', '650.121.2034', '26-OCT-05',\n",
       "        'ST_CLERK', 3200, '123', 50],\n",
       "       [139, 'John', 'Seo', 'JSEO', '650.121.2019', '12-FEB-06',\n",
       "        'ST_CLERK', 2700, '123', 50],\n",
       "       [140, 'Joshua', 'Patel', 'JPATEL', '650.121.1834', '06-APR-06',\n",
       "        'ST_CLERK', 2500, '123', 50]], dtype=object)"
      ]
     },
     "execution_count": 245,
     "metadata": {},
     "output_type": "execute_result"
    }
   ],
   "source": [
    "# Only the values in the DataFrame will be returned\n",
    "data.values"
   ]
  },
  {
   "cell_type": "code",
   "execution_count": 246,
   "metadata": {},
   "outputs": [
    {
     "data": {
      "text/plain": [
       "2"
      ]
     },
     "execution_count": 246,
     "metadata": {},
     "output_type": "execute_result"
    }
   ],
   "source": [
    "# Return 1 if Series otherwise return 2 if DataFrame\n",
    "data.ndim"
   ]
  },
  {
   "cell_type": "code",
   "execution_count": 247,
   "metadata": {},
   "outputs": [
    {
     "data": {
      "text/plain": [
       "Index            128\n",
       "EMPLOYEE_ID      400\n",
       "FIRST_NAME       400\n",
       "LAST_NAME        400\n",
       "EMAIL            400\n",
       "PHONE_NUMBER     400\n",
       "HIRE_DATE        400\n",
       "JOB_ID           400\n",
       "SALARY           400\n",
       "MANAGER_ID       400\n",
       "DEPARTMENT_ID    400\n",
       "dtype: int64"
      ]
     },
     "execution_count": 247,
     "metadata": {},
     "output_type": "execute_result"
    }
   ],
   "source": [
    "# Return the memory usage of each column in dataframe in \"byte\"\n",
    "data.memory_usage()"
   ]
  },
  {
   "cell_type": "code",
   "execution_count": 248,
   "metadata": {},
   "outputs": [
    {
     "data": {
      "text/plain": [
       "EMPLOYEE_ID      400\n",
       "FIRST_NAME       400\n",
       "LAST_NAME        400\n",
       "EMAIL            400\n",
       "PHONE_NUMBER     400\n",
       "HIRE_DATE        400\n",
       "JOB_ID           400\n",
       "SALARY           400\n",
       "MANAGER_ID       400\n",
       "DEPARTMENT_ID    400\n",
       "dtype: int64"
      ]
     },
     "execution_count": 248,
     "metadata": {},
     "output_type": "execute_result"
    }
   ],
   "source": [
    "# if we want to remove index\n",
    "data.memory_usage(index=False)"
   ]
  },
  {
   "cell_type": "code",
   "execution_count": 249,
   "metadata": {},
   "outputs": [
    {
     "data": {
      "text/html": [
       "<div>\n",
       "<style scoped>\n",
       "    .dataframe tbody tr th:only-of-type {\n",
       "        vertical-align: middle;\n",
       "    }\n",
       "\n",
       "    .dataframe tbody tr th {\n",
       "        vertical-align: top;\n",
       "    }\n",
       "\n",
       "    .dataframe thead th {\n",
       "        text-align: right;\n",
       "    }\n",
       "</style>\n",
       "<table border=\"1\" class=\"dataframe\">\n",
       "  <thead>\n",
       "    <tr style=\"text-align: right;\">\n",
       "      <th></th>\n",
       "      <th>EMPLOYEE_ID</th>\n",
       "      <th>FIRST_NAME</th>\n",
       "      <th>LAST_NAME</th>\n",
       "      <th>EMAIL</th>\n",
       "      <th>PHONE_NUMBER</th>\n",
       "      <th>HIRE_DATE</th>\n",
       "      <th>JOB_ID</th>\n",
       "      <th>SALARY</th>\n",
       "      <th>MANAGER_ID</th>\n",
       "      <th>DEPARTMENT_ID</th>\n",
       "    </tr>\n",
       "  </thead>\n",
       "  <tbody>\n",
       "    <tr>\n",
       "      <th>0</th>\n",
       "      <td>False</td>\n",
       "      <td>True</td>\n",
       "      <td>False</td>\n",
       "      <td>False</td>\n",
       "      <td>False</td>\n",
       "      <td>False</td>\n",
       "      <td>False</td>\n",
       "      <td>False</td>\n",
       "      <td>False</td>\n",
       "      <td>False</td>\n",
       "    </tr>\n",
       "    <tr>\n",
       "      <th>1</th>\n",
       "      <td>False</td>\n",
       "      <td>False</td>\n",
       "      <td>True</td>\n",
       "      <td>False</td>\n",
       "      <td>False</td>\n",
       "      <td>False</td>\n",
       "      <td>False</td>\n",
       "      <td>False</td>\n",
       "      <td>False</td>\n",
       "      <td>False</td>\n",
       "    </tr>\n",
       "    <tr>\n",
       "      <th>2</th>\n",
       "      <td>False</td>\n",
       "      <td>False</td>\n",
       "      <td>False</td>\n",
       "      <td>False</td>\n",
       "      <td>False</td>\n",
       "      <td>False</td>\n",
       "      <td>False</td>\n",
       "      <td>False</td>\n",
       "      <td>False</td>\n",
       "      <td>False</td>\n",
       "    </tr>\n",
       "    <tr>\n",
       "      <th>3</th>\n",
       "      <td>False</td>\n",
       "      <td>False</td>\n",
       "      <td>False</td>\n",
       "      <td>False</td>\n",
       "      <td>False</td>\n",
       "      <td>False</td>\n",
       "      <td>False</td>\n",
       "      <td>False</td>\n",
       "      <td>False</td>\n",
       "      <td>False</td>\n",
       "    </tr>\n",
       "    <tr>\n",
       "      <th>4</th>\n",
       "      <td>False</td>\n",
       "      <td>False</td>\n",
       "      <td>False</td>\n",
       "      <td>False</td>\n",
       "      <td>False</td>\n",
       "      <td>False</td>\n",
       "      <td>False</td>\n",
       "      <td>False</td>\n",
       "      <td>False</td>\n",
       "      <td>False</td>\n",
       "    </tr>\n",
       "  </tbody>\n",
       "</table>\n",
       "</div>"
      ],
      "text/plain": [
       "   EMPLOYEE_ID  FIRST_NAME  LAST_NAME  EMAIL  PHONE_NUMBER  HIRE_DATE  JOB_ID  \\\n",
       "0        False        True      False  False         False      False   False   \n",
       "1        False       False       True  False         False      False   False   \n",
       "2        False       False      False  False         False      False   False   \n",
       "3        False       False      False  False         False      False   False   \n",
       "4        False       False      False  False         False      False   False   \n",
       "\n",
       "   SALARY  MANAGER_ID  DEPARTMENT_ID  \n",
       "0   False       False          False  \n",
       "1   False       False          False  \n",
       "2   False       False          False  \n",
       "3   False       False          False  \n",
       "4   False       False          False  "
      ]
     },
     "execution_count": 249,
     "metadata": {},
     "output_type": "execute_result"
    }
   ],
   "source": [
    "# We want to check data with FIRST_NAME = Meera and LAST_NAME = \"Sharma\"\n",
    "\n",
    "data.isin({'FIRST_NAME': ['Mera','Donald'],'LAST_NAME':['Sharma','Grant']}).head()"
   ]
  },
  {
   "cell_type": "code",
   "execution_count": 250,
   "metadata": {},
   "outputs": [],
   "source": [
    "# There is another way to check the below list of salary is existing in the dataframe/ To retrieve the record of given list of\n",
    "# salary from dataframe\n",
    "\n",
    "new=data['SALARY'].isin([20000,30000,6000,13000])"
   ]
  },
  {
   "cell_type": "code",
   "execution_count": 251,
   "metadata": {},
   "outputs": [
    {
     "data": {
      "text/html": [
       "<div>\n",
       "<style scoped>\n",
       "    .dataframe tbody tr th:only-of-type {\n",
       "        vertical-align: middle;\n",
       "    }\n",
       "\n",
       "    .dataframe tbody tr th {\n",
       "        vertical-align: top;\n",
       "    }\n",
       "\n",
       "    .dataframe thead th {\n",
       "        text-align: right;\n",
       "    }\n",
       "</style>\n",
       "<table border=\"1\" class=\"dataframe\">\n",
       "  <thead>\n",
       "    <tr style=\"text-align: right;\">\n",
       "      <th></th>\n",
       "      <th>EMPLOYEE_ID</th>\n",
       "      <th>FIRST_NAME</th>\n",
       "      <th>LAST_NAME</th>\n",
       "      <th>EMAIL</th>\n",
       "      <th>PHONE_NUMBER</th>\n",
       "      <th>HIRE_DATE</th>\n",
       "      <th>JOB_ID</th>\n",
       "      <th>SALARY</th>\n",
       "      <th>MANAGER_ID</th>\n",
       "      <th>DEPARTMENT_ID</th>\n",
       "    </tr>\n",
       "  </thead>\n",
       "  <tbody>\n",
       "    <tr>\n",
       "      <th>3</th>\n",
       "      <td>201</td>\n",
       "      <td>Michael</td>\n",
       "      <td>Hartstein</td>\n",
       "      <td>MHARTSTE</td>\n",
       "      <td>515.123.5555</td>\n",
       "      <td>17-FEB-04</td>\n",
       "      <td>MK_MAN</td>\n",
       "      <td>13000</td>\n",
       "      <td>100</td>\n",
       "      <td>20</td>\n",
       "    </tr>\n",
       "    <tr>\n",
       "      <th>4</th>\n",
       "      <td>202</td>\n",
       "      <td>Pat</td>\n",
       "      <td>Fay</td>\n",
       "      <td>PFAY</td>\n",
       "      <td>603.123.6666</td>\n",
       "      <td>17-AUG-05</td>\n",
       "      <td>MK_REP</td>\n",
       "      <td>6000</td>\n",
       "      <td>201</td>\n",
       "      <td>20</td>\n",
       "    </tr>\n",
       "    <tr>\n",
       "      <th>13</th>\n",
       "      <td>104</td>\n",
       "      <td>Bruce</td>\n",
       "      <td>Ernst</td>\n",
       "      <td>BERNST</td>\n",
       "      <td>590.423.4568</td>\n",
       "      <td>21-MAY-07</td>\n",
       "      <td>IT_PROG</td>\n",
       "      <td>6000</td>\n",
       "      <td>103</td>\n",
       "      <td>60</td>\n",
       "    </tr>\n",
       "  </tbody>\n",
       "</table>\n",
       "</div>"
      ],
      "text/plain": [
       "    EMPLOYEE_ID FIRST_NAME  LAST_NAME     EMAIL  PHONE_NUMBER  HIRE_DATE  \\\n",
       "3           201    Michael  Hartstein  MHARTSTE  515.123.5555  17-FEB-04   \n",
       "4           202        Pat        Fay      PFAY  603.123.6666  17-AUG-05   \n",
       "13          104      Bruce      Ernst    BERNST  590.423.4568  21-MAY-07   \n",
       "\n",
       "     JOB_ID  SALARY MANAGER_ID  DEPARTMENT_ID  \n",
       "3    MK_MAN   13000        100             20  \n",
       "4    MK_REP    6000        201             20  \n",
       "13  IT_PROG    6000        103             60  "
      ]
     },
     "execution_count": 251,
     "metadata": {},
     "output_type": "execute_result"
    }
   ],
   "source": [
    "data[new]"
   ]
  },
  {
   "cell_type": "markdown",
   "metadata": {},
   "source": [
    "#### Based on above record we are able to see that records are not there of salary 20000 and 30000."
   ]
  },
  {
   "cell_type": "markdown",
   "metadata": {},
   "source": [
    "### .loc: Access a group of row and columns by label(s) or boolean array. Multiple Conditional related problems work on .loc method"
   ]
  },
  {
   "cell_type": "markdown",
   "metadata": {},
   "source": [
    "####  Scenario 1 : Returns all the records between FIRST_NAME and EMAIL"
   ]
  },
  {
   "cell_type": "code",
   "execution_count": 252,
   "metadata": {},
   "outputs": [
    {
     "data": {
      "text/plain": [
       "Index(['EMPLOYEE_ID', 'FIRST_NAME', 'LAST_NAME', 'EMAIL', 'PHONE_NUMBER',\n",
       "       'HIRE_DATE', 'JOB_ID', 'SALARY', 'MANAGER_ID', 'DEPARTMENT_ID'],\n",
       "      dtype='object')"
      ]
     },
     "execution_count": 252,
     "metadata": {},
     "output_type": "execute_result"
    }
   ],
   "source": [
    "data.columns"
   ]
  },
  {
   "cell_type": "code",
   "execution_count": 253,
   "metadata": {},
   "outputs": [
    {
     "data": {
      "text/html": [
       "<div>\n",
       "<style scoped>\n",
       "    .dataframe tbody tr th:only-of-type {\n",
       "        vertical-align: middle;\n",
       "    }\n",
       "\n",
       "    .dataframe tbody tr th {\n",
       "        vertical-align: top;\n",
       "    }\n",
       "\n",
       "    .dataframe thead th {\n",
       "        text-align: right;\n",
       "    }\n",
       "</style>\n",
       "<table border=\"1\" class=\"dataframe\">\n",
       "  <thead>\n",
       "    <tr style=\"text-align: right;\">\n",
       "      <th></th>\n",
       "      <th>FIRST_NAME</th>\n",
       "      <th>LAST_NAME</th>\n",
       "      <th>EMAIL</th>\n",
       "    </tr>\n",
       "  </thead>\n",
       "  <tbody>\n",
       "    <tr>\n",
       "      <th>0</th>\n",
       "      <td>Donald</td>\n",
       "      <td>OConnell</td>\n",
       "      <td>DOCONNEL</td>\n",
       "    </tr>\n",
       "    <tr>\n",
       "      <th>1</th>\n",
       "      <td>Douglas</td>\n",
       "      <td>Grant</td>\n",
       "      <td>DGRANT</td>\n",
       "    </tr>\n",
       "    <tr>\n",
       "      <th>2</th>\n",
       "      <td>Jennifer</td>\n",
       "      <td>Whalen</td>\n",
       "      <td>JWHALEN</td>\n",
       "    </tr>\n",
       "    <tr>\n",
       "      <th>3</th>\n",
       "      <td>Michael</td>\n",
       "      <td>Hartstein</td>\n",
       "      <td>MHARTSTE</td>\n",
       "    </tr>\n",
       "    <tr>\n",
       "      <th>4</th>\n",
       "      <td>Pat</td>\n",
       "      <td>Fay</td>\n",
       "      <td>PFAY</td>\n",
       "    </tr>\n",
       "  </tbody>\n",
       "</table>\n",
       "</div>"
      ],
      "text/plain": [
       "  FIRST_NAME  LAST_NAME     EMAIL\n",
       "0     Donald   OConnell  DOCONNEL\n",
       "1    Douglas      Grant    DGRANT\n",
       "2   Jennifer     Whalen   JWHALEN\n",
       "3    Michael  Hartstein  MHARTSTE\n",
       "4        Pat        Fay      PFAY"
      ]
     },
     "execution_count": 253,
     "metadata": {},
     "output_type": "execute_result"
    }
   ],
   "source": [
    "data.loc[:,'FIRST_NAME':'EMAIL'].head()"
   ]
  },
  {
   "cell_type": "markdown",
   "metadata": {},
   "source": [
    "#### Scenario 2 : a. Return the records where Salary > 6000"
   ]
  },
  {
   "cell_type": "code",
   "execution_count": 254,
   "metadata": {},
   "outputs": [
    {
     "data": {
      "text/html": [
       "<div>\n",
       "<style scoped>\n",
       "    .dataframe tbody tr th:only-of-type {\n",
       "        vertical-align: middle;\n",
       "    }\n",
       "\n",
       "    .dataframe tbody tr th {\n",
       "        vertical-align: top;\n",
       "    }\n",
       "\n",
       "    .dataframe thead th {\n",
       "        text-align: right;\n",
       "    }\n",
       "</style>\n",
       "<table border=\"1\" class=\"dataframe\">\n",
       "  <thead>\n",
       "    <tr style=\"text-align: right;\">\n",
       "      <th></th>\n",
       "      <th>EMPLOYEE_ID</th>\n",
       "      <th>FIRST_NAME</th>\n",
       "      <th>LAST_NAME</th>\n",
       "      <th>EMAIL</th>\n",
       "      <th>PHONE_NUMBER</th>\n",
       "      <th>HIRE_DATE</th>\n",
       "      <th>JOB_ID</th>\n",
       "      <th>SALARY</th>\n",
       "      <th>MANAGER_ID</th>\n",
       "      <th>DEPARTMENT_ID</th>\n",
       "    </tr>\n",
       "  </thead>\n",
       "  <tbody>\n",
       "    <tr>\n",
       "      <th>3</th>\n",
       "      <td>201</td>\n",
       "      <td>Michael</td>\n",
       "      <td>Hartstein</td>\n",
       "      <td>MHARTSTE</td>\n",
       "      <td>515.123.5555</td>\n",
       "      <td>17-FEB-04</td>\n",
       "      <td>MK_MAN</td>\n",
       "      <td>13000</td>\n",
       "      <td>100</td>\n",
       "      <td>20</td>\n",
       "    </tr>\n",
       "    <tr>\n",
       "      <th>5</th>\n",
       "      <td>203</td>\n",
       "      <td>Susan</td>\n",
       "      <td>Mavris</td>\n",
       "      <td>SMAVRIS</td>\n",
       "      <td>515.123.7777</td>\n",
       "      <td>07-JUN-02</td>\n",
       "      <td>HR_REP</td>\n",
       "      <td>6500</td>\n",
       "      <td>101</td>\n",
       "      <td>40</td>\n",
       "    </tr>\n",
       "    <tr>\n",
       "      <th>6</th>\n",
       "      <td>204</td>\n",
       "      <td>Hermann</td>\n",
       "      <td>Baer</td>\n",
       "      <td>HBAER</td>\n",
       "      <td>515.123.8888</td>\n",
       "      <td>07-JUN-02</td>\n",
       "      <td>PR_REP</td>\n",
       "      <td>10000</td>\n",
       "      <td>101</td>\n",
       "      <td>70</td>\n",
       "    </tr>\n",
       "    <tr>\n",
       "      <th>7</th>\n",
       "      <td>205</td>\n",
       "      <td>Shelley</td>\n",
       "      <td>Higgins</td>\n",
       "      <td>SHIGGINS</td>\n",
       "      <td>515.123.8080</td>\n",
       "      <td>07-JUN-02</td>\n",
       "      <td>AC_MGR</td>\n",
       "      <td>12008</td>\n",
       "      <td>101</td>\n",
       "      <td>110</td>\n",
       "    </tr>\n",
       "    <tr>\n",
       "      <th>8</th>\n",
       "      <td>206</td>\n",
       "      <td>William</td>\n",
       "      <td>Gietz</td>\n",
       "      <td>WGIETZ</td>\n",
       "      <td>515.123.8181</td>\n",
       "      <td>07-JUN-02</td>\n",
       "      <td>AC_ACCOUNT</td>\n",
       "      <td>8300</td>\n",
       "      <td>205</td>\n",
       "      <td>110</td>\n",
       "    </tr>\n",
       "    <tr>\n",
       "      <th>9</th>\n",
       "      <td>100</td>\n",
       "      <td>Steven</td>\n",
       "      <td>King</td>\n",
       "      <td>SKING</td>\n",
       "      <td>515.123.4567</td>\n",
       "      <td>17-JUN-03</td>\n",
       "      <td>AD_PRES</td>\n",
       "      <td>24000</td>\n",
       "      <td>-</td>\n",
       "      <td>90</td>\n",
       "    </tr>\n",
       "    <tr>\n",
       "      <th>10</th>\n",
       "      <td>101</td>\n",
       "      <td>Neena</td>\n",
       "      <td>Kochhar</td>\n",
       "      <td>NKOCHHAR</td>\n",
       "      <td>515.123.4568</td>\n",
       "      <td>21-SEP-05</td>\n",
       "      <td>AD_VP</td>\n",
       "      <td>17000</td>\n",
       "      <td>100</td>\n",
       "      <td>90</td>\n",
       "    </tr>\n",
       "    <tr>\n",
       "      <th>11</th>\n",
       "      <td>102</td>\n",
       "      <td>Lex</td>\n",
       "      <td>De Haan</td>\n",
       "      <td>LDEHAAN</td>\n",
       "      <td>515.123.4569</td>\n",
       "      <td>13-JAN-01</td>\n",
       "      <td>AD_VP</td>\n",
       "      <td>17000</td>\n",
       "      <td>100</td>\n",
       "      <td>90</td>\n",
       "    </tr>\n",
       "    <tr>\n",
       "      <th>12</th>\n",
       "      <td>103</td>\n",
       "      <td>Alexander</td>\n",
       "      <td>Hunold</td>\n",
       "      <td>AHUNOLD</td>\n",
       "      <td>590.423.4567</td>\n",
       "      <td>03-JAN-06</td>\n",
       "      <td>IT_PROG</td>\n",
       "      <td>9000</td>\n",
       "      <td>102</td>\n",
       "      <td>60</td>\n",
       "    </tr>\n",
       "    <tr>\n",
       "      <th>17</th>\n",
       "      <td>108</td>\n",
       "      <td>Nancy</td>\n",
       "      <td>Greenberg</td>\n",
       "      <td>NGREENBE</td>\n",
       "      <td>515.124.4569</td>\n",
       "      <td>17-AUG-02</td>\n",
       "      <td>FI_MGR</td>\n",
       "      <td>12008</td>\n",
       "      <td>101</td>\n",
       "      <td>100</td>\n",
       "    </tr>\n",
       "    <tr>\n",
       "      <th>18</th>\n",
       "      <td>109</td>\n",
       "      <td>Daniel</td>\n",
       "      <td>Faviet</td>\n",
       "      <td>DFAVIET</td>\n",
       "      <td>515.124.4169</td>\n",
       "      <td>16-AUG-02</td>\n",
       "      <td>FI_ACCOUNT</td>\n",
       "      <td>9000</td>\n",
       "      <td>108</td>\n",
       "      <td>100</td>\n",
       "    </tr>\n",
       "    <tr>\n",
       "      <th>19</th>\n",
       "      <td>110</td>\n",
       "      <td>John</td>\n",
       "      <td>Chen</td>\n",
       "      <td>JCHEN</td>\n",
       "      <td>515.124.4269</td>\n",
       "      <td>28-SEP-05</td>\n",
       "      <td>FI_ACCOUNT</td>\n",
       "      <td>8200</td>\n",
       "      <td>108</td>\n",
       "      <td>100</td>\n",
       "    </tr>\n",
       "    <tr>\n",
       "      <th>20</th>\n",
       "      <td>111</td>\n",
       "      <td>Ismael</td>\n",
       "      <td>Sciarra</td>\n",
       "      <td>ISCIARRA</td>\n",
       "      <td>515.124.4369</td>\n",
       "      <td>30-SEP-05</td>\n",
       "      <td>FI_ACCOUNT</td>\n",
       "      <td>7700</td>\n",
       "      <td>108</td>\n",
       "      <td>100</td>\n",
       "    </tr>\n",
       "    <tr>\n",
       "      <th>21</th>\n",
       "      <td>112</td>\n",
       "      <td>Jose Manuel</td>\n",
       "      <td>Urman</td>\n",
       "      <td>JMURMAN</td>\n",
       "      <td>515.124.4469</td>\n",
       "      <td>07-MAR-06</td>\n",
       "      <td>FI_ACCOUNT</td>\n",
       "      <td>7800</td>\n",
       "      <td>108</td>\n",
       "      <td>100</td>\n",
       "    </tr>\n",
       "    <tr>\n",
       "      <th>22</th>\n",
       "      <td>113</td>\n",
       "      <td>Luis</td>\n",
       "      <td>Popp</td>\n",
       "      <td>LPOPP</td>\n",
       "      <td>515.124.4567</td>\n",
       "      <td>07-DEC-07</td>\n",
       "      <td>FI_ACCOUNT</td>\n",
       "      <td>6900</td>\n",
       "      <td>108</td>\n",
       "      <td>100</td>\n",
       "    </tr>\n",
       "    <tr>\n",
       "      <th>23</th>\n",
       "      <td>114</td>\n",
       "      <td>Den</td>\n",
       "      <td>Raphaely</td>\n",
       "      <td>DRAPHEAL</td>\n",
       "      <td>515.127.4561</td>\n",
       "      <td>07-DEC-02</td>\n",
       "      <td>PU_MAN</td>\n",
       "      <td>11000</td>\n",
       "      <td>100</td>\n",
       "      <td>30</td>\n",
       "    </tr>\n",
       "    <tr>\n",
       "      <th>29</th>\n",
       "      <td>120</td>\n",
       "      <td>Matthew</td>\n",
       "      <td>Weiss</td>\n",
       "      <td>MWEISS</td>\n",
       "      <td>650.123.1234</td>\n",
       "      <td>18-JUL-04</td>\n",
       "      <td>ST_MAN</td>\n",
       "      <td>8000</td>\n",
       "      <td>100</td>\n",
       "      <td>50</td>\n",
       "    </tr>\n",
       "    <tr>\n",
       "      <th>30</th>\n",
       "      <td>121</td>\n",
       "      <td>Adam</td>\n",
       "      <td>Fripp</td>\n",
       "      <td>AFRIPP</td>\n",
       "      <td>650.123.2234</td>\n",
       "      <td>10-APR-05</td>\n",
       "      <td>ST_MAN</td>\n",
       "      <td>8200</td>\n",
       "      <td>100</td>\n",
       "      <td>50</td>\n",
       "    </tr>\n",
       "    <tr>\n",
       "      <th>31</th>\n",
       "      <td>122</td>\n",
       "      <td>Payam</td>\n",
       "      <td>Kaufling</td>\n",
       "      <td>PKAUFLIN</td>\n",
       "      <td>650.123.3234</td>\n",
       "      <td>01-MAY-03</td>\n",
       "      <td>ST_MAN</td>\n",
       "      <td>7900</td>\n",
       "      <td>100</td>\n",
       "      <td>50</td>\n",
       "    </tr>\n",
       "    <tr>\n",
       "      <th>32</th>\n",
       "      <td>123</td>\n",
       "      <td>Shanta</td>\n",
       "      <td>Vollman</td>\n",
       "      <td>SVOLLMAN</td>\n",
       "      <td>650.123.4234</td>\n",
       "      <td>10-OCT-05</td>\n",
       "      <td>ST_MAN</td>\n",
       "      <td>6500</td>\n",
       "      <td>100</td>\n",
       "      <td>50</td>\n",
       "    </tr>\n",
       "  </tbody>\n",
       "</table>\n",
       "</div>"
      ],
      "text/plain": [
       "    EMPLOYEE_ID   FIRST_NAME  LAST_NAME     EMAIL  PHONE_NUMBER  HIRE_DATE  \\\n",
       "3           201      Michael  Hartstein  MHARTSTE  515.123.5555  17-FEB-04   \n",
       "5           203        Susan     Mavris   SMAVRIS  515.123.7777  07-JUN-02   \n",
       "6           204      Hermann       Baer     HBAER  515.123.8888  07-JUN-02   \n",
       "7           205      Shelley    Higgins  SHIGGINS  515.123.8080  07-JUN-02   \n",
       "8           206      William      Gietz    WGIETZ  515.123.8181  07-JUN-02   \n",
       "9           100       Steven       King     SKING  515.123.4567  17-JUN-03   \n",
       "10          101        Neena    Kochhar  NKOCHHAR  515.123.4568  21-SEP-05   \n",
       "11          102          Lex    De Haan   LDEHAAN  515.123.4569  13-JAN-01   \n",
       "12          103    Alexander     Hunold   AHUNOLD  590.423.4567  03-JAN-06   \n",
       "17          108        Nancy  Greenberg  NGREENBE  515.124.4569  17-AUG-02   \n",
       "18          109       Daniel     Faviet   DFAVIET  515.124.4169  16-AUG-02   \n",
       "19          110         John       Chen     JCHEN  515.124.4269  28-SEP-05   \n",
       "20          111       Ismael    Sciarra  ISCIARRA  515.124.4369  30-SEP-05   \n",
       "21          112  Jose Manuel      Urman   JMURMAN  515.124.4469  07-MAR-06   \n",
       "22          113         Luis       Popp     LPOPP  515.124.4567  07-DEC-07   \n",
       "23          114          Den   Raphaely  DRAPHEAL  515.127.4561  07-DEC-02   \n",
       "29          120      Matthew      Weiss    MWEISS  650.123.1234  18-JUL-04   \n",
       "30          121         Adam      Fripp    AFRIPP  650.123.2234  10-APR-05   \n",
       "31          122        Payam   Kaufling  PKAUFLIN  650.123.3234  01-MAY-03   \n",
       "32          123       Shanta    Vollman  SVOLLMAN  650.123.4234  10-OCT-05   \n",
       "\n",
       "        JOB_ID  SALARY MANAGER_ID  DEPARTMENT_ID  \n",
       "3       MK_MAN   13000        100             20  \n",
       "5       HR_REP    6500        101             40  \n",
       "6       PR_REP   10000        101             70  \n",
       "7       AC_MGR   12008        101            110  \n",
       "8   AC_ACCOUNT    8300        205            110  \n",
       "9      AD_PRES   24000         -              90  \n",
       "10       AD_VP   17000        100             90  \n",
       "11       AD_VP   17000        100             90  \n",
       "12     IT_PROG    9000        102             60  \n",
       "17      FI_MGR   12008        101            100  \n",
       "18  FI_ACCOUNT    9000        108            100  \n",
       "19  FI_ACCOUNT    8200        108            100  \n",
       "20  FI_ACCOUNT    7700        108            100  \n",
       "21  FI_ACCOUNT    7800        108            100  \n",
       "22  FI_ACCOUNT    6900        108            100  \n",
       "23      PU_MAN   11000        100             30  \n",
       "29      ST_MAN    8000        100             50  \n",
       "30      ST_MAN    8200        100             50  \n",
       "31      ST_MAN    7900        100             50  \n",
       "32      ST_MAN    6500        100             50  "
      ]
     },
     "execution_count": 254,
     "metadata": {},
     "output_type": "execute_result"
    }
   ],
   "source": [
    "data.loc[data['SALARY']>6000]"
   ]
  },
  {
   "cell_type": "markdown",
   "metadata": {},
   "source": [
    "#### b. Get the total count of records that have salary > 6000"
   ]
  },
  {
   "cell_type": "code",
   "execution_count": 255,
   "metadata": {},
   "outputs": [
    {
     "data": {
      "text/plain": [
       "20"
      ]
     },
     "execution_count": 255,
     "metadata": {},
     "output_type": "execute_result"
    }
   ],
   "source": [
    "# we have put the condition inside the loc[] and based on EMPLOYEE_ID, We do total count\n",
    "data.loc[data['SALARY']>6000]['EMPLOYEE_ID'].count()"
   ]
  },
  {
   "cell_type": "markdown",
   "metadata": {},
   "source": [
    "#### Scenario 3:  which kind of jobs are having more than 10000 salary"
   ]
  },
  {
   "cell_type": "code",
   "execution_count": 256,
   "metadata": {},
   "outputs": [
    {
     "data": {
      "text/html": [
       "<div>\n",
       "<style scoped>\n",
       "    .dataframe tbody tr th:only-of-type {\n",
       "        vertical-align: middle;\n",
       "    }\n",
       "\n",
       "    .dataframe tbody tr th {\n",
       "        vertical-align: top;\n",
       "    }\n",
       "\n",
       "    .dataframe thead th {\n",
       "        text-align: right;\n",
       "    }\n",
       "</style>\n",
       "<table border=\"1\" class=\"dataframe\">\n",
       "  <thead>\n",
       "    <tr style=\"text-align: right;\">\n",
       "      <th></th>\n",
       "      <th>SALARY</th>\n",
       "      <th>DEPARTMENT_ID</th>\n",
       "      <th>JOB_ID</th>\n",
       "    </tr>\n",
       "  </thead>\n",
       "  <tbody>\n",
       "    <tr>\n",
       "      <th>3</th>\n",
       "      <td>13000</td>\n",
       "      <td>20</td>\n",
       "      <td>MK_MAN</td>\n",
       "    </tr>\n",
       "    <tr>\n",
       "      <th>7</th>\n",
       "      <td>12008</td>\n",
       "      <td>110</td>\n",
       "      <td>AC_MGR</td>\n",
       "    </tr>\n",
       "    <tr>\n",
       "      <th>9</th>\n",
       "      <td>24000</td>\n",
       "      <td>90</td>\n",
       "      <td>AD_PRES</td>\n",
       "    </tr>\n",
       "    <tr>\n",
       "      <th>10</th>\n",
       "      <td>17000</td>\n",
       "      <td>90</td>\n",
       "      <td>AD_VP</td>\n",
       "    </tr>\n",
       "    <tr>\n",
       "      <th>11</th>\n",
       "      <td>17000</td>\n",
       "      <td>90</td>\n",
       "      <td>AD_VP</td>\n",
       "    </tr>\n",
       "    <tr>\n",
       "      <th>17</th>\n",
       "      <td>12008</td>\n",
       "      <td>100</td>\n",
       "      <td>FI_MGR</td>\n",
       "    </tr>\n",
       "    <tr>\n",
       "      <th>23</th>\n",
       "      <td>11000</td>\n",
       "      <td>30</td>\n",
       "      <td>PU_MAN</td>\n",
       "    </tr>\n",
       "  </tbody>\n",
       "</table>\n",
       "</div>"
      ],
      "text/plain": [
       "    SALARY  DEPARTMENT_ID   JOB_ID\n",
       "3    13000             20   MK_MAN\n",
       "7    12008            110   AC_MGR\n",
       "9    24000             90  AD_PRES\n",
       "10   17000             90    AD_VP\n",
       "11   17000             90    AD_VP\n",
       "17   12008            100   FI_MGR\n",
       "23   11000             30   PU_MAN"
      ]
     },
     "execution_count": 256,
     "metadata": {},
     "output_type": "execute_result"
    }
   ],
   "source": [
    "new1 = data.loc[data['SALARY']>10000,['SALARY','DEPARTMENT_ID','JOB_ID']]\n",
    "new1"
   ]
  },
  {
   "cell_type": "markdown",
   "metadata": {},
   "source": [
    "#### Scenario 3: Get  the record that have salary less than 6000 and Department id,JOB_ID  or Which Department's  and JOB's employees are having less than 6000 salary"
   ]
  },
  {
   "cell_type": "code",
   "execution_count": 257,
   "metadata": {},
   "outputs": [
    {
     "data": {
      "text/html": [
       "<div>\n",
       "<style scoped>\n",
       "    .dataframe tbody tr th:only-of-type {\n",
       "        vertical-align: middle;\n",
       "    }\n",
       "\n",
       "    .dataframe tbody tr th {\n",
       "        vertical-align: top;\n",
       "    }\n",
       "\n",
       "    .dataframe thead th {\n",
       "        text-align: right;\n",
       "    }\n",
       "</style>\n",
       "<table border=\"1\" class=\"dataframe\">\n",
       "  <thead>\n",
       "    <tr style=\"text-align: right;\">\n",
       "      <th></th>\n",
       "      <th>SALARY</th>\n",
       "      <th>DEPARTMENT_ID</th>\n",
       "      <th>JOB_ID</th>\n",
       "    </tr>\n",
       "  </thead>\n",
       "  <tbody>\n",
       "    <tr>\n",
       "      <th>0</th>\n",
       "      <td>2600</td>\n",
       "      <td>50</td>\n",
       "      <td>SH_CLERK</td>\n",
       "    </tr>\n",
       "    <tr>\n",
       "      <th>1</th>\n",
       "      <td>2600</td>\n",
       "      <td>50</td>\n",
       "      <td>SH_CLERK</td>\n",
       "    </tr>\n",
       "    <tr>\n",
       "      <th>2</th>\n",
       "      <td>4400</td>\n",
       "      <td>10</td>\n",
       "      <td>AD_ASST</td>\n",
       "    </tr>\n",
       "    <tr>\n",
       "      <th>14</th>\n",
       "      <td>4800</td>\n",
       "      <td>60</td>\n",
       "      <td>IT_PROG</td>\n",
       "    </tr>\n",
       "    <tr>\n",
       "      <th>15</th>\n",
       "      <td>4800</td>\n",
       "      <td>60</td>\n",
       "      <td>IT_PROG</td>\n",
       "    </tr>\n",
       "  </tbody>\n",
       "</table>\n",
       "</div>"
      ],
      "text/plain": [
       "    SALARY  DEPARTMENT_ID    JOB_ID\n",
       "0     2600             50  SH_CLERK\n",
       "1     2600             50  SH_CLERK\n",
       "2     4400             10   AD_ASST\n",
       "14    4800             60   IT_PROG\n",
       "15    4800             60   IT_PROG"
      ]
     },
     "execution_count": 257,
     "metadata": {},
     "output_type": "execute_result"
    }
   ],
   "source": [
    "new2 = data.loc[data['SALARY']<6000,['SALARY','DEPARTMENT_ID','JOB_ID']]\n",
    "new2.head()"
   ]
  },
  {
   "cell_type": "code",
   "execution_count": 258,
   "metadata": {},
   "outputs": [
    {
     "data": {
      "text/plain": [
       "28"
      ]
     },
     "execution_count": 258,
     "metadata": {},
     "output_type": "execute_result"
    }
   ],
   "source": [
    "# find total records of above scenario\n",
    "new2['DEPARTMENT_ID'].count()"
   ]
  },
  {
   "cell_type": "code",
   "execution_count": 259,
   "metadata": {},
   "outputs": [
    {
     "data": {
      "text/html": [
       "<div>\n",
       "<style scoped>\n",
       "    .dataframe tbody tr th:only-of-type {\n",
       "        vertical-align: middle;\n",
       "    }\n",
       "\n",
       "    .dataframe tbody tr th {\n",
       "        vertical-align: top;\n",
       "    }\n",
       "\n",
       "    .dataframe thead th {\n",
       "        text-align: right;\n",
       "    }\n",
       "</style>\n",
       "<table border=\"1\" class=\"dataframe\">\n",
       "  <thead>\n",
       "    <tr style=\"text-align: right;\">\n",
       "      <th></th>\n",
       "      <th>FIRST_NAME</th>\n",
       "      <th>SALARY</th>\n",
       "    </tr>\n",
       "  </thead>\n",
       "  <tbody>\n",
       "    <tr>\n",
       "      <th>0</th>\n",
       "      <td>Donald</td>\n",
       "      <td>2600</td>\n",
       "    </tr>\n",
       "    <tr>\n",
       "      <th>1</th>\n",
       "      <td>Douglas</td>\n",
       "      <td>2600</td>\n",
       "    </tr>\n",
       "    <tr>\n",
       "      <th>2</th>\n",
       "      <td>Jennifer</td>\n",
       "      <td>4400</td>\n",
       "    </tr>\n",
       "    <tr>\n",
       "      <th>3</th>\n",
       "      <td>Michael</td>\n",
       "      <td>13000</td>\n",
       "    </tr>\n",
       "    <tr>\n",
       "      <th>4</th>\n",
       "      <td>Pat</td>\n",
       "      <td>6000</td>\n",
       "    </tr>\n",
       "    <tr>\n",
       "      <th>5</th>\n",
       "      <td>Susan</td>\n",
       "      <td>6500</td>\n",
       "    </tr>\n",
       "    <tr>\n",
       "      <th>6</th>\n",
       "      <td>Hermann</td>\n",
       "      <td>10000</td>\n",
       "    </tr>\n",
       "    <tr>\n",
       "      <th>7</th>\n",
       "      <td>Shelley</td>\n",
       "      <td>12008</td>\n",
       "    </tr>\n",
       "    <tr>\n",
       "      <th>8</th>\n",
       "      <td>William</td>\n",
       "      <td>8300</td>\n",
       "    </tr>\n",
       "    <tr>\n",
       "      <th>9</th>\n",
       "      <td>Steven</td>\n",
       "      <td>24000</td>\n",
       "    </tr>\n",
       "  </tbody>\n",
       "</table>\n",
       "</div>"
      ],
      "text/plain": [
       "  FIRST_NAME  SALARY\n",
       "0     Donald    2600\n",
       "1    Douglas    2600\n",
       "2   Jennifer    4400\n",
       "3    Michael   13000\n",
       "4        Pat    6000\n",
       "5      Susan    6500\n",
       "6    Hermann   10000\n",
       "7    Shelley   12008\n",
       "8    William    8300\n",
       "9     Steven   24000"
      ]
     },
     "execution_count": 259,
     "metadata": {},
     "output_type": "execute_result"
    }
   ],
   "source": [
    "# Return the records with First name and Salary\n",
    "data.loc[:,['FIRST_NAME','SALARY']].head(10)"
   ]
  },
  {
   "cell_type": "markdown",
   "metadata": {},
   "source": [
    "#### Apply Lambda function to Pandas.\n",
    "\n",
    "#### 1. Syntax to apply lambda function on series:\n",
    "      \n",
    "      series.apply(lambda x:expression)\n",
    "#### 2. Syntax to apply lambda function on dataframe\n",
    "    \n",
    "      df.apply(lambda x: expression)\n",
    "     \n",
    "#### 3. We can also use assign() method on dataframe for applying lambda\n",
    "\n",
    "       df.assign(new_column_name = lambda x : expression)\n",
    "       \n",
    "#### 4. Apply lambda function on pandas column\n",
    "      df['new_column'] = df['original_column'].apply(lamnda x: expression)\n",
    "      \n",
    "#### 5. Apply lambda on Multiple column\n",
    "      df[['new_column1','new_column2']] = df[['original_col_name1, 'original_col_name2]].apply(lambda x : expression,axis=1)\n",
    "      \n",
    "      \n",
    "#### 6. Reference of lambda function\n",
    "https://www.geeksforgeeks.org/applying-lambda-functions-to-pandas-dataframe/?re\n",
    "      "
   ]
  },
  {
   "cell_type": "code",
   "execution_count": 260,
   "metadata": {},
   "outputs": [
    {
     "data": {
      "text/html": [
       "<div>\n",
       "<style scoped>\n",
       "    .dataframe tbody tr th:only-of-type {\n",
       "        vertical-align: middle;\n",
       "    }\n",
       "\n",
       "    .dataframe tbody tr th {\n",
       "        vertical-align: top;\n",
       "    }\n",
       "\n",
       "    .dataframe thead th {\n",
       "        text-align: right;\n",
       "    }\n",
       "</style>\n",
       "<table border=\"1\" class=\"dataframe\">\n",
       "  <thead>\n",
       "    <tr style=\"text-align: right;\">\n",
       "      <th></th>\n",
       "      <th>Name</th>\n",
       "      <th>Age</th>\n",
       "      <th>City</th>\n",
       "    </tr>\n",
       "  </thead>\n",
       "  <tbody>\n",
       "    <tr>\n",
       "      <th>0</th>\n",
       "      <td>Alice</td>\n",
       "      <td>32</td>\n",
       "      <td>New York</td>\n",
       "    </tr>\n",
       "    <tr>\n",
       "      <th>1</th>\n",
       "      <td>Bob</td>\n",
       "      <td>24</td>\n",
       "      <td>Los Angeles</td>\n",
       "    </tr>\n",
       "    <tr>\n",
       "      <th>2</th>\n",
       "      <td>Charlie</td>\n",
       "      <td>51</td>\n",
       "      <td>Chicago</td>\n",
       "    </tr>\n",
       "    <tr>\n",
       "      <th>3</th>\n",
       "      <td>David</td>\n",
       "      <td>67</td>\n",
       "      <td>Houseton</td>\n",
       "    </tr>\n",
       "  </tbody>\n",
       "</table>\n",
       "</div>"
      ],
      "text/plain": [
       "      Name  Age         City\n",
       "0    Alice   32     New York\n",
       "1      Bob   24  Los Angeles\n",
       "2  Charlie   51      Chicago\n",
       "3    David   67     Houseton"
      ]
     },
     "execution_count": 260,
     "metadata": {},
     "output_type": "execute_result"
    }
   ],
   "source": [
    "df = {'Name':['Alice','Bob','Charlie','David'],'Age':[32,24,51,67],'City':['New York','Los Angeles','Chicago','Houseton']}\n",
    "\n",
    "data1 = pd.DataFrame(df)\n",
    "data1.head()"
   ]
  },
  {
   "cell_type": "code",
   "execution_count": 261,
   "metadata": {},
   "outputs": [
    {
     "name": "stdout",
     "output_type": "stream",
     "text": [
      "      Name  Age         City Total Name Age\n",
      "0    Alice   32     New York       Alice 32\n",
      "1      Bob   24  Los Angeles         Bob 24\n",
      "2  Charlie   51      Chicago     Charlie 51\n",
      "3    David   67     Houseton       David 67\n"
     ]
    }
   ],
   "source": [
    "data1[['Total Name Age']] = data1[['Name','Age']].apply(lambda x: x['Name'] + ' '+ str(x['Age']), axis=1)\n",
    "\n",
    "print(data1)"
   ]
  },
  {
   "cell_type": "code",
   "execution_count": 262,
   "metadata": {},
   "outputs": [
    {
     "name": "stdout",
     "output_type": "stream",
     "text": [
      "      Name  Age         City Total Name Age Age Category\n",
      "0    Alice   32     New York       Alice 32        Adult\n",
      "1      Bob   24  Los Angeles         Bob 24        Adult\n",
      "2  Charlie   51      Chicago     Charlie 51        Adult\n",
      "3    David   67     Houseton       David 67       Senior\n"
     ]
    }
   ],
   "source": [
    "## Apply lambda function  if-else condition\n",
    "data1['Age Category'] = data1['Age'].apply(lambda x: 'Child' if x < 18 else 'Adult' if x < 65 else 'Senior')\n",
    "print(data1)"
   ]
  },
  {
   "cell_type": "code",
   "execution_count": 263,
   "metadata": {},
   "outputs": [
    {
     "data": {
      "text/html": [
       "<div>\n",
       "<style scoped>\n",
       "    .dataframe tbody tr th:only-of-type {\n",
       "        vertical-align: middle;\n",
       "    }\n",
       "\n",
       "    .dataframe tbody tr th {\n",
       "        vertical-align: top;\n",
       "    }\n",
       "\n",
       "    .dataframe thead th {\n",
       "        text-align: right;\n",
       "    }\n",
       "</style>\n",
       "<table border=\"1\" class=\"dataframe\">\n",
       "  <thead>\n",
       "    <tr style=\"text-align: right;\">\n",
       "      <th></th>\n",
       "      <th>EMPLOYEE_ID</th>\n",
       "      <th>FIRST_NAME</th>\n",
       "      <th>LAST_NAME</th>\n",
       "      <th>EMAIL</th>\n",
       "      <th>PHONE_NUMBER</th>\n",
       "      <th>HIRE_DATE</th>\n",
       "      <th>JOB_ID</th>\n",
       "      <th>SALARY</th>\n",
       "      <th>MANAGER_ID</th>\n",
       "      <th>DEPARTMENT_ID</th>\n",
       "      <th>Salary Category</th>\n",
       "    </tr>\n",
       "  </thead>\n",
       "  <tbody>\n",
       "    <tr>\n",
       "      <th>0</th>\n",
       "      <td>198</td>\n",
       "      <td>Donald</td>\n",
       "      <td>OConnell</td>\n",
       "      <td>DOCONNEL</td>\n",
       "      <td>650.507.9833</td>\n",
       "      <td>21-JUN-07</td>\n",
       "      <td>SH_CLERK</td>\n",
       "      <td>2600</td>\n",
       "      <td>124</td>\n",
       "      <td>50</td>\n",
       "      <td>Survival</td>\n",
       "    </tr>\n",
       "    <tr>\n",
       "      <th>1</th>\n",
       "      <td>199</td>\n",
       "      <td>Douglas</td>\n",
       "      <td>Grant</td>\n",
       "      <td>DGRANT</td>\n",
       "      <td>650.507.9844</td>\n",
       "      <td>13-JAN-08</td>\n",
       "      <td>SH_CLERK</td>\n",
       "      <td>2600</td>\n",
       "      <td>124</td>\n",
       "      <td>50</td>\n",
       "      <td>Survival</td>\n",
       "    </tr>\n",
       "    <tr>\n",
       "      <th>2</th>\n",
       "      <td>200</td>\n",
       "      <td>Jennifer</td>\n",
       "      <td>Whalen</td>\n",
       "      <td>JWHALEN</td>\n",
       "      <td>515.123.4444</td>\n",
       "      <td>17-SEP-03</td>\n",
       "      <td>AD_ASST</td>\n",
       "      <td>4400</td>\n",
       "      <td>101</td>\n",
       "      <td>10</td>\n",
       "      <td>Survival</td>\n",
       "    </tr>\n",
       "    <tr>\n",
       "      <th>3</th>\n",
       "      <td>201</td>\n",
       "      <td>Michael</td>\n",
       "      <td>Hartstein</td>\n",
       "      <td>MHARTSTE</td>\n",
       "      <td>515.123.5555</td>\n",
       "      <td>17-FEB-04</td>\n",
       "      <td>MK_MAN</td>\n",
       "      <td>13000</td>\n",
       "      <td>100</td>\n",
       "      <td>20</td>\n",
       "      <td>Survival</td>\n",
       "    </tr>\n",
       "    <tr>\n",
       "      <th>4</th>\n",
       "      <td>202</td>\n",
       "      <td>Pat</td>\n",
       "      <td>Fay</td>\n",
       "      <td>PFAY</td>\n",
       "      <td>603.123.6666</td>\n",
       "      <td>17-AUG-05</td>\n",
       "      <td>MK_REP</td>\n",
       "      <td>6000</td>\n",
       "      <td>201</td>\n",
       "      <td>20</td>\n",
       "      <td>Survival</td>\n",
       "    </tr>\n",
       "  </tbody>\n",
       "</table>\n",
       "</div>"
      ],
      "text/plain": [
       "   EMPLOYEE_ID FIRST_NAME  LAST_NAME     EMAIL  PHONE_NUMBER  HIRE_DATE  \\\n",
       "0          198     Donald   OConnell  DOCONNEL  650.507.9833  21-JUN-07   \n",
       "1          199    Douglas      Grant    DGRANT  650.507.9844  13-JAN-08   \n",
       "2          200   Jennifer     Whalen   JWHALEN  515.123.4444  17-SEP-03   \n",
       "3          201    Michael  Hartstein  MHARTSTE  515.123.5555  17-FEB-04   \n",
       "4          202        Pat        Fay      PFAY  603.123.6666  17-AUG-05   \n",
       "\n",
       "     JOB_ID  SALARY MANAGER_ID  DEPARTMENT_ID Salary Category  \n",
       "0  SH_CLERK    2600        124             50        Survival  \n",
       "1  SH_CLERK    2600        124             50        Survival  \n",
       "2   AD_ASST    4400        101             10        Survival  \n",
       "3    MK_MAN   13000        100             20        Survival  \n",
       "4    MK_REP    6000        201             20        Survival  "
      ]
     },
     "execution_count": 263,
     "metadata": {},
     "output_type": "execute_result"
    }
   ],
   "source": [
    "#### we need to set salary 20000 as threshold that if salary is greater than 24000 set to fair otherwise survival\n",
    "\n",
    "data['Salary Category'] = data['SALARY'].apply(lambda x : 'fair' if x>20000 else 'Survival')\n",
    "data.head()"
   ]
  },
  {
   "cell_type": "markdown",
   "metadata": {},
   "source": [
    "###  Which Job_id  is having highest salary"
   ]
  },
  {
   "cell_type": "code",
   "execution_count": 264,
   "metadata": {},
   "outputs": [
    {
     "data": {
      "text/plain": [
       "9    AD_PRES\n",
       "Name: JOB_ID, dtype: object"
      ]
     },
     "execution_count": 264,
     "metadata": {},
     "output_type": "execute_result"
    }
   ],
   "source": [
    "highest_job_id = data['JOB_ID'][data['SALARY']==data['SALARY'].max()]\n",
    "highest_job_id"
   ]
  },
  {
   "cell_type": "markdown",
   "metadata": {},
   "source": [
    "### Which Job_id is having lowest salary"
   ]
  },
  {
   "cell_type": "code",
   "execution_count": 265,
   "metadata": {},
   "outputs": [
    {
     "data": {
      "text/plain": [
       "41    ST_CLERK\n",
       "Name: JOB_ID, dtype: object"
      ]
     },
     "execution_count": 265,
     "metadata": {},
     "output_type": "execute_result"
    }
   ],
   "source": [
    "lowest_job_id = data['JOB_ID'][data['SALARY']== data['SALARY'].min()]\n",
    "lowest_job_id"
   ]
  },
  {
   "cell_type": "markdown",
   "metadata": {},
   "source": [
    "### Get the number of characters of FIRST_NAME column"
   ]
  },
  {
   "cell_type": "code",
   "execution_count": 266,
   "metadata": {},
   "outputs": [],
   "source": [
    "data['characters_count'] = data['FIRST_NAME'].apply(lambda x : len(x))"
   ]
  },
  {
   "cell_type": "code",
   "execution_count": 267,
   "metadata": {},
   "outputs": [
    {
     "data": {
      "text/html": [
       "<div>\n",
       "<style scoped>\n",
       "    .dataframe tbody tr th:only-of-type {\n",
       "        vertical-align: middle;\n",
       "    }\n",
       "\n",
       "    .dataframe tbody tr th {\n",
       "        vertical-align: top;\n",
       "    }\n",
       "\n",
       "    .dataframe thead th {\n",
       "        text-align: right;\n",
       "    }\n",
       "</style>\n",
       "<table border=\"1\" class=\"dataframe\">\n",
       "  <thead>\n",
       "    <tr style=\"text-align: right;\">\n",
       "      <th></th>\n",
       "      <th>EMPLOYEE_ID</th>\n",
       "      <th>FIRST_NAME</th>\n",
       "      <th>LAST_NAME</th>\n",
       "      <th>EMAIL</th>\n",
       "      <th>PHONE_NUMBER</th>\n",
       "      <th>HIRE_DATE</th>\n",
       "      <th>JOB_ID</th>\n",
       "      <th>SALARY</th>\n",
       "      <th>MANAGER_ID</th>\n",
       "      <th>DEPARTMENT_ID</th>\n",
       "      <th>Salary Category</th>\n",
       "      <th>characters_count</th>\n",
       "    </tr>\n",
       "  </thead>\n",
       "  <tbody>\n",
       "    <tr>\n",
       "      <th>0</th>\n",
       "      <td>198</td>\n",
       "      <td>Donald</td>\n",
       "      <td>OConnell</td>\n",
       "      <td>DOCONNEL</td>\n",
       "      <td>650.507.9833</td>\n",
       "      <td>21-JUN-07</td>\n",
       "      <td>SH_CLERK</td>\n",
       "      <td>2600</td>\n",
       "      <td>124</td>\n",
       "      <td>50</td>\n",
       "      <td>Survival</td>\n",
       "      <td>6</td>\n",
       "    </tr>\n",
       "    <tr>\n",
       "      <th>1</th>\n",
       "      <td>199</td>\n",
       "      <td>Douglas</td>\n",
       "      <td>Grant</td>\n",
       "      <td>DGRANT</td>\n",
       "      <td>650.507.9844</td>\n",
       "      <td>13-JAN-08</td>\n",
       "      <td>SH_CLERK</td>\n",
       "      <td>2600</td>\n",
       "      <td>124</td>\n",
       "      <td>50</td>\n",
       "      <td>Survival</td>\n",
       "      <td>7</td>\n",
       "    </tr>\n",
       "    <tr>\n",
       "      <th>2</th>\n",
       "      <td>200</td>\n",
       "      <td>Jennifer</td>\n",
       "      <td>Whalen</td>\n",
       "      <td>JWHALEN</td>\n",
       "      <td>515.123.4444</td>\n",
       "      <td>17-SEP-03</td>\n",
       "      <td>AD_ASST</td>\n",
       "      <td>4400</td>\n",
       "      <td>101</td>\n",
       "      <td>10</td>\n",
       "      <td>Survival</td>\n",
       "      <td>8</td>\n",
       "    </tr>\n",
       "    <tr>\n",
       "      <th>3</th>\n",
       "      <td>201</td>\n",
       "      <td>Michael</td>\n",
       "      <td>Hartstein</td>\n",
       "      <td>MHARTSTE</td>\n",
       "      <td>515.123.5555</td>\n",
       "      <td>17-FEB-04</td>\n",
       "      <td>MK_MAN</td>\n",
       "      <td>13000</td>\n",
       "      <td>100</td>\n",
       "      <td>20</td>\n",
       "      <td>Survival</td>\n",
       "      <td>7</td>\n",
       "    </tr>\n",
       "    <tr>\n",
       "      <th>4</th>\n",
       "      <td>202</td>\n",
       "      <td>Pat</td>\n",
       "      <td>Fay</td>\n",
       "      <td>PFAY</td>\n",
       "      <td>603.123.6666</td>\n",
       "      <td>17-AUG-05</td>\n",
       "      <td>MK_REP</td>\n",
       "      <td>6000</td>\n",
       "      <td>201</td>\n",
       "      <td>20</td>\n",
       "      <td>Survival</td>\n",
       "      <td>3</td>\n",
       "    </tr>\n",
       "  </tbody>\n",
       "</table>\n",
       "</div>"
      ],
      "text/plain": [
       "   EMPLOYEE_ID FIRST_NAME  LAST_NAME     EMAIL  PHONE_NUMBER  HIRE_DATE  \\\n",
       "0          198     Donald   OConnell  DOCONNEL  650.507.9833  21-JUN-07   \n",
       "1          199    Douglas      Grant    DGRANT  650.507.9844  13-JAN-08   \n",
       "2          200   Jennifer     Whalen   JWHALEN  515.123.4444  17-SEP-03   \n",
       "3          201    Michael  Hartstein  MHARTSTE  515.123.5555  17-FEB-04   \n",
       "4          202        Pat        Fay      PFAY  603.123.6666  17-AUG-05   \n",
       "\n",
       "     JOB_ID  SALARY MANAGER_ID  DEPARTMENT_ID Salary Category  \\\n",
       "0  SH_CLERK    2600        124             50        Survival   \n",
       "1  SH_CLERK    2600        124             50        Survival   \n",
       "2   AD_ASST    4400        101             10        Survival   \n",
       "3    MK_MAN   13000        100             20        Survival   \n",
       "4    MK_REP    6000        201             20        Survival   \n",
       "\n",
       "   characters_count  \n",
       "0                 6  \n",
       "1                 7  \n",
       "2                 8  \n",
       "3                 7  \n",
       "4                 3  "
      ]
     },
     "execution_count": 267,
     "metadata": {},
     "output_type": "execute_result"
    }
   ],
   "source": [
    "data.head()"
   ]
  },
  {
   "cell_type": "code",
   "execution_count": 268,
   "metadata": {},
   "outputs": [],
   "source": [
    "df = pd.read_csv('Salary_Data.csv')"
   ]
  },
  {
   "cell_type": "code",
   "execution_count": 269,
   "metadata": {},
   "outputs": [
    {
     "data": {
      "text/html": [
       "<div>\n",
       "<style scoped>\n",
       "    .dataframe tbody tr th:only-of-type {\n",
       "        vertical-align: middle;\n",
       "    }\n",
       "\n",
       "    .dataframe tbody tr th {\n",
       "        vertical-align: top;\n",
       "    }\n",
       "\n",
       "    .dataframe thead th {\n",
       "        text-align: right;\n",
       "    }\n",
       "</style>\n",
       "<table border=\"1\" class=\"dataframe\">\n",
       "  <thead>\n",
       "    <tr style=\"text-align: right;\">\n",
       "      <th></th>\n",
       "      <th>YearsExperience</th>\n",
       "      <th>Age</th>\n",
       "      <th>Salary</th>\n",
       "    </tr>\n",
       "  </thead>\n",
       "  <tbody>\n",
       "    <tr>\n",
       "      <th>0</th>\n",
       "      <td>1.1</td>\n",
       "      <td>21.0</td>\n",
       "      <td>39343</td>\n",
       "    </tr>\n",
       "    <tr>\n",
       "      <th>1</th>\n",
       "      <td>1.3</td>\n",
       "      <td>21.5</td>\n",
       "      <td>46205</td>\n",
       "    </tr>\n",
       "    <tr>\n",
       "      <th>2</th>\n",
       "      <td>1.5</td>\n",
       "      <td>21.7</td>\n",
       "      <td>37731</td>\n",
       "    </tr>\n",
       "    <tr>\n",
       "      <th>3</th>\n",
       "      <td>2.0</td>\n",
       "      <td>22.0</td>\n",
       "      <td>43525</td>\n",
       "    </tr>\n",
       "    <tr>\n",
       "      <th>4</th>\n",
       "      <td>2.2</td>\n",
       "      <td>22.2</td>\n",
       "      <td>39891</td>\n",
       "    </tr>\n",
       "  </tbody>\n",
       "</table>\n",
       "</div>"
      ],
      "text/plain": [
       "   YearsExperience   Age  Salary\n",
       "0              1.1  21.0   39343\n",
       "1              1.3  21.5   46205\n",
       "2              1.5  21.7   37731\n",
       "3              2.0  22.0   43525\n",
       "4              2.2  22.2   39891"
      ]
     },
     "execution_count": 269,
     "metadata": {},
     "output_type": "execute_result"
    }
   ],
   "source": [
    "df.head()"
   ]
  },
  {
   "cell_type": "markdown",
   "metadata": {},
   "source": [
    "#### Find the data between Salary 25k to 50k"
   ]
  },
  {
   "cell_type": "code",
   "execution_count": 270,
   "metadata": {},
   "outputs": [
    {
     "data": {
      "text/html": [
       "<div>\n",
       "<style scoped>\n",
       "    .dataframe tbody tr th:only-of-type {\n",
       "        vertical-align: middle;\n",
       "    }\n",
       "\n",
       "    .dataframe tbody tr th {\n",
       "        vertical-align: top;\n",
       "    }\n",
       "\n",
       "    .dataframe thead th {\n",
       "        text-align: right;\n",
       "    }\n",
       "</style>\n",
       "<table border=\"1\" class=\"dataframe\">\n",
       "  <thead>\n",
       "    <tr style=\"text-align: right;\">\n",
       "      <th></th>\n",
       "      <th>YearsExperience</th>\n",
       "      <th>Age</th>\n",
       "      <th>Salary</th>\n",
       "    </tr>\n",
       "  </thead>\n",
       "  <tbody>\n",
       "    <tr>\n",
       "      <th>0</th>\n",
       "      <td>1.1</td>\n",
       "      <td>21.0</td>\n",
       "      <td>39343</td>\n",
       "    </tr>\n",
       "    <tr>\n",
       "      <th>1</th>\n",
       "      <td>1.3</td>\n",
       "      <td>21.5</td>\n",
       "      <td>46205</td>\n",
       "    </tr>\n",
       "    <tr>\n",
       "      <th>2</th>\n",
       "      <td>1.5</td>\n",
       "      <td>21.7</td>\n",
       "      <td>37731</td>\n",
       "    </tr>\n",
       "    <tr>\n",
       "      <th>3</th>\n",
       "      <td>2.0</td>\n",
       "      <td>22.0</td>\n",
       "      <td>43525</td>\n",
       "    </tr>\n",
       "    <tr>\n",
       "      <th>4</th>\n",
       "      <td>2.2</td>\n",
       "      <td>22.2</td>\n",
       "      <td>39891</td>\n",
       "    </tr>\n",
       "  </tbody>\n",
       "</table>\n",
       "</div>"
      ],
      "text/plain": [
       "   YearsExperience   Age  Salary\n",
       "0              1.1  21.0   39343\n",
       "1              1.3  21.5   46205\n",
       "2              1.5  21.7   37731\n",
       "3              2.0  22.0   43525\n",
       "4              2.2  22.2   39891"
      ]
     },
     "execution_count": 270,
     "metadata": {},
     "output_type": "execute_result"
    }
   ],
   "source": [
    "# make the bool series\n",
    "bool_series = df['Salary'].between(25000,50000)\n",
    "\n",
    "# returning data frame with salary between above range values\n",
    "df[bool_series]"
   ]
  },
  {
   "cell_type": "markdown",
   "metadata": {},
   "source": [
    "#### Get the size of data"
   ]
  },
  {
   "cell_type": "code",
   "execution_count": 271,
   "metadata": {},
   "outputs": [
    {
     "data": {
      "text/plain": [
       "(30, 3)"
      ]
     },
     "execution_count": 271,
     "metadata": {},
     "output_type": "execute_result"
    }
   ],
   "source": [
    "df.shape"
   ]
  },
  {
   "cell_type": "markdown",
   "metadata": {},
   "source": [
    "### Get  the highest salary"
   ]
  },
  {
   "cell_type": "code",
   "execution_count": 272,
   "metadata": {},
   "outputs": [
    {
     "name": "stdout",
     "output_type": "stream",
     "text": [
      "    YearsExperience   Age  Salary\n",
      "28             10.3  37.0  122391\n"
     ]
    }
   ],
   "source": [
    "highest_salary = df[df['Salary']==df['Salary'].max()]\n",
    "print(highest_salary)"
   ]
  },
  {
   "cell_type": "markdown",
   "metadata": {},
   "source": [
    "### Get the lowest Salary"
   ]
  },
  {
   "cell_type": "code",
   "execution_count": 273,
   "metadata": {},
   "outputs": [
    {
     "name": "stdout",
     "output_type": "stream",
     "text": [
      "   YearsExperience   Age  Salary\n",
      "2              1.5  21.7   37731\n"
     ]
    }
   ],
   "source": [
    "lowest_salary = df[df['Salary']==df['Salary'].min()]\n",
    "print(lowest_salary)"
   ]
  },
  {
   "cell_type": "markdown",
   "metadata": {},
   "source": [
    "### Operations"
   ]
  },
  {
   "cell_type": "code",
   "execution_count": 274,
   "metadata": {},
   "outputs": [
    {
     "data": {
      "text/html": [
       "<div>\n",
       "<style scoped>\n",
       "    .dataframe tbody tr th:only-of-type {\n",
       "        vertical-align: middle;\n",
       "    }\n",
       "\n",
       "    .dataframe tbody tr th {\n",
       "        vertical-align: top;\n",
       "    }\n",
       "\n",
       "    .dataframe thead th {\n",
       "        text-align: right;\n",
       "    }\n",
       "</style>\n",
       "<table border=\"1\" class=\"dataframe\">\n",
       "  <thead>\n",
       "    <tr style=\"text-align: right;\">\n",
       "      <th></th>\n",
       "      <th>YearsExperience</th>\n",
       "      <th>Age</th>\n",
       "      <th>Salary</th>\n",
       "      <th>Salary Category</th>\n",
       "    </tr>\n",
       "  </thead>\n",
       "  <tbody>\n",
       "    <tr>\n",
       "      <th>0</th>\n",
       "      <td>1.1</td>\n",
       "      <td>21.0</td>\n",
       "      <td>39343</td>\n",
       "      <td>Normal</td>\n",
       "    </tr>\n",
       "    <tr>\n",
       "      <th>1</th>\n",
       "      <td>1.3</td>\n",
       "      <td>21.5</td>\n",
       "      <td>46205</td>\n",
       "      <td>Normal</td>\n",
       "    </tr>\n",
       "    <tr>\n",
       "      <th>2</th>\n",
       "      <td>1.5</td>\n",
       "      <td>21.7</td>\n",
       "      <td>37731</td>\n",
       "      <td>Normal</td>\n",
       "    </tr>\n",
       "    <tr>\n",
       "      <th>3</th>\n",
       "      <td>2.0</td>\n",
       "      <td>22.0</td>\n",
       "      <td>43525</td>\n",
       "      <td>Normal</td>\n",
       "    </tr>\n",
       "    <tr>\n",
       "      <th>4</th>\n",
       "      <td>2.2</td>\n",
       "      <td>22.2</td>\n",
       "      <td>39891</td>\n",
       "      <td>Normal</td>\n",
       "    </tr>\n",
       "  </tbody>\n",
       "</table>\n",
       "</div>"
      ],
      "text/plain": [
       "   YearsExperience   Age  Salary Salary Category\n",
       "0              1.1  21.0   39343          Normal\n",
       "1              1.3  21.5   46205          Normal\n",
       "2              1.5  21.7   37731          Normal\n",
       "3              2.0  22.0   43525          Normal\n",
       "4              2.2  22.2   39891          Normal"
      ]
     },
     "execution_count": 274,
     "metadata": {},
     "output_type": "execute_result"
    }
   ],
   "source": [
    "df['Salary Category'] = df['Salary'].apply(lambda x : 'low' if x < 37000 else 'Normal' if x < 50000 else 'High' )\n",
    "df.head()"
   ]
  },
  {
   "cell_type": "markdown",
   "metadata": {},
   "source": [
    "#### Need to get if there is low salary in Salary category?"
   ]
  },
  {
   "cell_type": "code",
   "execution_count": 275,
   "metadata": {},
   "outputs": [
    {
     "data": {
      "text/html": [
       "<div>\n",
       "<style scoped>\n",
       "    .dataframe tbody tr th:only-of-type {\n",
       "        vertical-align: middle;\n",
       "    }\n",
       "\n",
       "    .dataframe tbody tr th {\n",
       "        vertical-align: top;\n",
       "    }\n",
       "\n",
       "    .dataframe thead th {\n",
       "        text-align: right;\n",
       "    }\n",
       "</style>\n",
       "<table border=\"1\" class=\"dataframe\">\n",
       "  <thead>\n",
       "    <tr style=\"text-align: right;\">\n",
       "      <th></th>\n",
       "      <th>YearsExperience</th>\n",
       "      <th>Age</th>\n",
       "      <th>Salary</th>\n",
       "      <th>Salary Category</th>\n",
       "    </tr>\n",
       "  </thead>\n",
       "  <tbody>\n",
       "  </tbody>\n",
       "</table>\n",
       "</div>"
      ],
      "text/plain": [
       "Empty DataFrame\n",
       "Columns: [YearsExperience, Age, Salary, Salary Category]\n",
       "Index: []"
      ]
     },
     "execution_count": 275,
     "metadata": {},
     "output_type": "execute_result"
    }
   ],
   "source": [
    "new = df['Salary Category'].isin(['low'])\n",
    "df[new]"
   ]
  },
  {
   "cell_type": "markdown",
   "metadata": {},
   "source": [
    "#### Aggregating Data Across All Columns : aggregation works with only  numeric type  columns"
   ]
  },
  {
   "cell_type": "code",
   "execution_count": 276,
   "metadata": {},
   "outputs": [
    {
     "data": {
      "text/html": [
       "<div>\n",
       "<style scoped>\n",
       "    .dataframe tbody tr th:only-of-type {\n",
       "        vertical-align: middle;\n",
       "    }\n",
       "\n",
       "    .dataframe tbody tr th {\n",
       "        vertical-align: top;\n",
       "    }\n",
       "\n",
       "    .dataframe thead th {\n",
       "        text-align: right;\n",
       "    }\n",
       "</style>\n",
       "<table border=\"1\" class=\"dataframe\">\n",
       "  <thead>\n",
       "    <tr style=\"text-align: right;\">\n",
       "      <th></th>\n",
       "      <th>YearsExperience</th>\n",
       "      <th>Age</th>\n",
       "      <th>Salary</th>\n",
       "    </tr>\n",
       "  </thead>\n",
       "  <tbody>\n",
       "    <tr>\n",
       "      <th>sum</th>\n",
       "      <td>159.4</td>\n",
       "      <td>816.5</td>\n",
       "      <td>2280090</td>\n",
       "    </tr>\n",
       "    <tr>\n",
       "      <th>min</th>\n",
       "      <td>1.1</td>\n",
       "      <td>21.0</td>\n",
       "      <td>37731</td>\n",
       "    </tr>\n",
       "  </tbody>\n",
       "</table>\n",
       "</div>"
      ],
      "text/plain": [
       "     YearsExperience    Age   Salary\n",
       "sum            159.4  816.5  2280090\n",
       "min              1.1   21.0    37731"
      ]
     },
     "execution_count": 276,
     "metadata": {},
     "output_type": "execute_result"
    }
   ],
   "source": [
    "df.iloc[:,0:3].aggregate(['sum','min'])"
   ]
  },
  {
   "cell_type": "code",
   "execution_count": 277,
   "metadata": {},
   "outputs": [
    {
     "data": {
      "text/plain": [
       "YearsExperience        2.382667\n",
       "Age                    4.426667\n",
       "Salary             24290.466667\n",
       "dtype: float64"
      ]
     },
     "execution_count": 277,
     "metadata": {},
     "output_type": "execute_result"
    }
   ],
   "source": [
    "## mad (mean absolute value)\n",
    "\n",
    "df.mad(axis=0)"
   ]
  },
  {
   "cell_type": "code",
   "execution_count": 278,
   "metadata": {},
   "outputs": [
    {
     "data": {
      "text/plain": [
       "2280090"
      ]
     },
     "execution_count": 278,
     "metadata": {},
     "output_type": "execute_result"
    }
   ],
   "source": [
    "## Sum of Salary\n",
    "sum(df['Salary'])"
   ]
  },
  {
   "cell_type": "code",
   "execution_count": 279,
   "metadata": {
    "scrolled": true
   },
   "outputs": [
    {
     "data": {
      "text/html": [
       "<div>\n",
       "<style scoped>\n",
       "    .dataframe tbody tr th:only-of-type {\n",
       "        vertical-align: middle;\n",
       "    }\n",
       "\n",
       "    .dataframe tbody tr th {\n",
       "        vertical-align: top;\n",
       "    }\n",
       "\n",
       "    .dataframe thead th {\n",
       "        text-align: right;\n",
       "    }\n",
       "</style>\n",
       "<table border=\"1\" class=\"dataframe\">\n",
       "  <thead>\n",
       "    <tr style=\"text-align: right;\">\n",
       "      <th></th>\n",
       "      <th>YearsExperience</th>\n",
       "      <th>Age</th>\n",
       "      <th>Salary</th>\n",
       "      <th>Salary Category</th>\n",
       "    </tr>\n",
       "  </thead>\n",
       "  <tbody>\n",
       "    <tr>\n",
       "      <th>0</th>\n",
       "      <td>1.1</td>\n",
       "      <td>21.0</td>\n",
       "      <td>39343</td>\n",
       "      <td>Normal</td>\n",
       "    </tr>\n",
       "    <tr>\n",
       "      <th>1</th>\n",
       "      <td>1.3</td>\n",
       "      <td>21.5</td>\n",
       "      <td>46205</td>\n",
       "      <td>Normal</td>\n",
       "    </tr>\n",
       "    <tr>\n",
       "      <th>2</th>\n",
       "      <td>1.5</td>\n",
       "      <td>21.7</td>\n",
       "      <td>37731</td>\n",
       "      <td>Normal</td>\n",
       "    </tr>\n",
       "    <tr>\n",
       "      <th>3</th>\n",
       "      <td>2.0</td>\n",
       "      <td>22.0</td>\n",
       "      <td>43525</td>\n",
       "      <td>Normal</td>\n",
       "    </tr>\n",
       "    <tr>\n",
       "      <th>4</th>\n",
       "      <td>2.2</td>\n",
       "      <td>22.2</td>\n",
       "      <td>39891</td>\n",
       "      <td>Normal</td>\n",
       "    </tr>\n",
       "  </tbody>\n",
       "</table>\n",
       "</div>"
      ],
      "text/plain": [
       "   YearsExperience   Age  Salary Salary Category\n",
       "0              1.1  21.0   39343          Normal\n",
       "1              1.3  21.5   46205          Normal\n",
       "2              1.5  21.7   37731          Normal\n",
       "3              2.0  22.0   43525          Normal\n",
       "4              2.2  22.2   39891          Normal"
      ]
     },
     "execution_count": 279,
     "metadata": {},
     "output_type": "execute_result"
    }
   ],
   "source": [
    "df.head()"
   ]
  },
  {
   "cell_type": "markdown",
   "metadata": {},
   "source": [
    "### How many employees have Normal salary"
   ]
  },
  {
   "cell_type": "code",
   "execution_count": 280,
   "metadata": {},
   "outputs": [
    {
     "name": "stdout",
     "output_type": "stream",
     "text": [
      "5\n"
     ]
    }
   ],
   "source": [
    "normal_salary_cnt = df[df['Salary Category']=='Normal']['Salary'].count()\n",
    "print(normal_salary_cnt)"
   ]
  },
  {
   "cell_type": "code",
   "execution_count": 281,
   "metadata": {},
   "outputs": [
    {
     "name": "stdout",
     "output_type": "stream",
     "text": [
      "5\n"
     ]
    }
   ],
   "source": [
    "#### different way of above code\n",
    "normal_sal_cnt1 = df[df['Salary Category']=='Normal'].shape[0]\n",
    "print(normal_sal_cnt1)"
   ]
  },
  {
   "cell_type": "markdown",
   "metadata": {},
   "source": [
    "### How many employees have High salary"
   ]
  },
  {
   "cell_type": "code",
   "execution_count": 282,
   "metadata": {},
   "outputs": [
    {
     "name": "stdout",
     "output_type": "stream",
     "text": [
      "25\n"
     ]
    }
   ],
   "source": [
    "high_salary_cnt = df[df['Salary Category']=='High']['Salary'].count()\n",
    "print(high_salary_cnt)"
   ]
  },
  {
   "cell_type": "code",
   "execution_count": 283,
   "metadata": {},
   "outputs": [
    {
     "name": "stdout",
     "output_type": "stream",
     "text": [
      "25\n"
     ]
    }
   ],
   "source": [
    "high_salary_cnt = df[df['Salary Category']=='High'].shape[0]\n",
    "print(high_salary_cnt)"
   ]
  },
  {
   "cell_type": "markdown",
   "metadata": {},
   "source": [
    "###  Read bollywood moviedetails data"
   ]
  },
  {
   "cell_type": "code",
   "execution_count": 284,
   "metadata": {},
   "outputs": [],
   "source": [
    "movies = pd.read_csv('BollywoodMovieDetail.csv')"
   ]
  },
  {
   "cell_type": "code",
   "execution_count": 285,
   "metadata": {},
   "outputs": [
    {
     "data": {
      "text/html": [
       "<div>\n",
       "<style scoped>\n",
       "    .dataframe tbody tr th:only-of-type {\n",
       "        vertical-align: middle;\n",
       "    }\n",
       "\n",
       "    .dataframe tbody tr th {\n",
       "        vertical-align: top;\n",
       "    }\n",
       "\n",
       "    .dataframe thead th {\n",
       "        text-align: right;\n",
       "    }\n",
       "</style>\n",
       "<table border=\"1\" class=\"dataframe\">\n",
       "  <thead>\n",
       "    <tr style=\"text-align: right;\">\n",
       "      <th></th>\n",
       "      <th>imdbId</th>\n",
       "      <th>title</th>\n",
       "      <th>releaseYear</th>\n",
       "      <th>releaseDate</th>\n",
       "      <th>genre</th>\n",
       "      <th>writers</th>\n",
       "      <th>actors</th>\n",
       "      <th>directors</th>\n",
       "      <th>sequel</th>\n",
       "      <th>hitFlop</th>\n",
       "    </tr>\n",
       "  </thead>\n",
       "  <tbody>\n",
       "    <tr>\n",
       "      <th>0</th>\n",
       "      <td>tt0118578</td>\n",
       "      <td>Albela</td>\n",
       "      <td>2001</td>\n",
       "      <td>20 Apr 2001</td>\n",
       "      <td>Romance</td>\n",
       "      <td>Honey Irani (screenplay) | Honey Irani (story)...</td>\n",
       "      <td>Govinda | Aishwarya Rai Bachchan | Jackie Shro...</td>\n",
       "      <td>Deepak Sareen</td>\n",
       "      <td>0.0</td>\n",
       "      <td>2</td>\n",
       "    </tr>\n",
       "    <tr>\n",
       "      <th>1</th>\n",
       "      <td>tt0169102</td>\n",
       "      <td>Lagaan: Once Upon a Time in India</td>\n",
       "      <td>2001</td>\n",
       "      <td>08 May 2002</td>\n",
       "      <td>Adventure | Drama | Musical</td>\n",
       "      <td>Ashutosh Gowariker (story) | Ashutosh Gowarike...</td>\n",
       "      <td>Aamir Khan | Gracy Singh | Rachel Shelley | Pa...</td>\n",
       "      <td>Ashutosh Gowariker</td>\n",
       "      <td>0.0</td>\n",
       "      <td>6</td>\n",
       "    </tr>\n",
       "    <tr>\n",
       "      <th>2</th>\n",
       "      <td>tt0187279</td>\n",
       "      <td>Meri Biwi Ka Jawab Nahin</td>\n",
       "      <td>2004</td>\n",
       "      <td>02 Jul 2004</td>\n",
       "      <td>Action | Comedy</td>\n",
       "      <td>NaN</td>\n",
       "      <td>Akshay Kumar | Sridevi | Gulshan Grover | Laxm...</td>\n",
       "      <td>Pankaj Parashar | S.M. Iqbal</td>\n",
       "      <td>0.0</td>\n",
       "      <td>1</td>\n",
       "    </tr>\n",
       "    <tr>\n",
       "      <th>3</th>\n",
       "      <td>tt0222024</td>\n",
       "      <td>Hum Tumhare Hain Sanam</td>\n",
       "      <td>2002</td>\n",
       "      <td>24 May 2002</td>\n",
       "      <td>Drama | Romance</td>\n",
       "      <td>K.S. Adiyaman | Arun Kumar (assistant dialogue...</td>\n",
       "      <td>Shah Rukh Khan | Madhuri Dixit | Salman Khan |...</td>\n",
       "      <td>K.S. Adiyaman</td>\n",
       "      <td>0.0</td>\n",
       "      <td>4</td>\n",
       "    </tr>\n",
       "    <tr>\n",
       "      <th>4</th>\n",
       "      <td>tt0227194</td>\n",
       "      <td>One 2 Ka 4</td>\n",
       "      <td>2001</td>\n",
       "      <td>30 Mar 2001</td>\n",
       "      <td>Action | Comedy | Drama</td>\n",
       "      <td>Sanjay Chhel | Raaj Kumar Dahima (screenplay) ...</td>\n",
       "      <td>Shah Rukh Khan | Juhi Chawla | Jackie Shroff |...</td>\n",
       "      <td>Shashilal K. Nair</td>\n",
       "      <td>0.0</td>\n",
       "      <td>1</td>\n",
       "    </tr>\n",
       "  </tbody>\n",
       "</table>\n",
       "</div>"
      ],
      "text/plain": [
       "      imdbId                              title  releaseYear  releaseDate  \\\n",
       "0  tt0118578                             Albela         2001  20 Apr 2001   \n",
       "1  tt0169102  Lagaan: Once Upon a Time in India         2001  08 May 2002   \n",
       "2  tt0187279           Meri Biwi Ka Jawab Nahin         2004  02 Jul 2004   \n",
       "3  tt0222024             Hum Tumhare Hain Sanam         2002  24 May 2002   \n",
       "4  tt0227194                         One 2 Ka 4         2001  30 Mar 2001   \n",
       "\n",
       "                         genre  \\\n",
       "0                      Romance   \n",
       "1  Adventure | Drama | Musical   \n",
       "2              Action | Comedy   \n",
       "3              Drama | Romance   \n",
       "4      Action | Comedy | Drama   \n",
       "\n",
       "                                             writers  \\\n",
       "0  Honey Irani (screenplay) | Honey Irani (story)...   \n",
       "1  Ashutosh Gowariker (story) | Ashutosh Gowarike...   \n",
       "2                                                NaN   \n",
       "3  K.S. Adiyaman | Arun Kumar (assistant dialogue...   \n",
       "4  Sanjay Chhel | Raaj Kumar Dahima (screenplay) ...   \n",
       "\n",
       "                                              actors  \\\n",
       "0  Govinda | Aishwarya Rai Bachchan | Jackie Shro...   \n",
       "1  Aamir Khan | Gracy Singh | Rachel Shelley | Pa...   \n",
       "2  Akshay Kumar | Sridevi | Gulshan Grover | Laxm...   \n",
       "3  Shah Rukh Khan | Madhuri Dixit | Salman Khan |...   \n",
       "4  Shah Rukh Khan | Juhi Chawla | Jackie Shroff |...   \n",
       "\n",
       "                      directors  sequel  hitFlop  \n",
       "0                 Deepak Sareen     0.0        2  \n",
       "1            Ashutosh Gowariker     0.0        6  \n",
       "2  Pankaj Parashar | S.M. Iqbal     0.0        1  \n",
       "3                 K.S. Adiyaman     0.0        4  \n",
       "4             Shashilal K. Nair     0.0        1  "
      ]
     },
     "execution_count": 285,
     "metadata": {},
     "output_type": "execute_result"
    }
   ],
   "source": [
    "movies.head()"
   ]
  },
  {
   "cell_type": "code",
   "execution_count": 286,
   "metadata": {},
   "outputs": [
    {
     "data": {
      "text/plain": [
       "1    729\n",
       "2    257\n",
       "4     68\n",
       "6     64\n",
       "5     58\n",
       "3     55\n",
       "7     29\n",
       "8     20\n",
       "9      4\n",
       "Name: hitFlop, dtype: int64"
      ]
     },
     "execution_count": 286,
     "metadata": {},
     "output_type": "execute_result"
    }
   ],
   "source": [
    "movies['hitFlop'].value_counts()"
   ]
  },
  {
   "cell_type": "markdown",
   "metadata": {},
   "source": [
    "#### Total number of movies which release in 2001 and 2002"
   ]
  },
  {
   "cell_type": "code",
   "execution_count": 287,
   "metadata": {},
   "outputs": [
    {
     "data": {
      "text/plain": [
       "2010    116\n",
       "2011    112\n",
       "2014    110\n",
       "2005    106\n",
       "2013    102\n",
       "2012     99\n",
       "2008     98\n",
       "2003     95\n",
       "2009     91\n",
       "2004     88\n",
       "2002     79\n",
       "2007     66\n",
       "2001     62\n",
       "2006     60\n",
       "Name: releaseYear, dtype: int64"
      ]
     },
     "execution_count": 287,
     "metadata": {},
     "output_type": "execute_result"
    }
   ],
   "source": [
    "movies['releaseYear'].value_counts()"
   ]
  },
  {
   "cell_type": "markdown",
   "metadata": {},
   "source": [
    "#### Total Movies in year  of 2001 and 2004"
   ]
  },
  {
   "cell_type": "code",
   "execution_count": 288,
   "metadata": {},
   "outputs": [
    {
     "data": {
      "text/plain": [
       "150"
      ]
     },
     "execution_count": 288,
     "metadata": {},
     "output_type": "execute_result"
    }
   ],
   "source": [
    "movies[(movies['releaseYear']==2001) | (movies['releaseYear'] == 2004)].shape[0]"
   ]
  },
  {
   "cell_type": "markdown",
   "metadata": {},
   "source": [
    "#### Which director's movies is hit?"
   ]
  },
  {
   "cell_type": "code",
   "execution_count": 289,
   "metadata": {},
   "outputs": [
    {
     "data": {
      "text/html": [
       "<div>\n",
       "<style scoped>\n",
       "    .dataframe tbody tr th:only-of-type {\n",
       "        vertical-align: middle;\n",
       "    }\n",
       "\n",
       "    .dataframe tbody tr th {\n",
       "        vertical-align: top;\n",
       "    }\n",
       "\n",
       "    .dataframe thead th {\n",
       "        text-align: right;\n",
       "    }\n",
       "</style>\n",
       "<table border=\"1\" class=\"dataframe\">\n",
       "  <thead>\n",
       "    <tr style=\"text-align: right;\">\n",
       "      <th></th>\n",
       "      <th>imdbId</th>\n",
       "      <th>title</th>\n",
       "      <th>releaseYear</th>\n",
       "      <th>releaseDate</th>\n",
       "      <th>genre</th>\n",
       "      <th>writers</th>\n",
       "      <th>actors</th>\n",
       "      <th>directors</th>\n",
       "      <th>sequel</th>\n",
       "      <th>hitFlop</th>\n",
       "      <th>category</th>\n",
       "    </tr>\n",
       "  </thead>\n",
       "  <tbody>\n",
       "    <tr>\n",
       "      <th>0</th>\n",
       "      <td>tt0118578</td>\n",
       "      <td>Albela</td>\n",
       "      <td>2001</td>\n",
       "      <td>20 Apr 2001</td>\n",
       "      <td>Romance</td>\n",
       "      <td>Honey Irani (screenplay) | Honey Irani (story)...</td>\n",
       "      <td>Govinda | Aishwarya Rai Bachchan | Jackie Shro...</td>\n",
       "      <td>Deepak Sareen</td>\n",
       "      <td>0.0</td>\n",
       "      <td>2</td>\n",
       "      <td>Flop</td>\n",
       "    </tr>\n",
       "    <tr>\n",
       "      <th>1</th>\n",
       "      <td>tt0169102</td>\n",
       "      <td>Lagaan: Once Upon a Time in India</td>\n",
       "      <td>2001</td>\n",
       "      <td>08 May 2002</td>\n",
       "      <td>Adventure | Drama | Musical</td>\n",
       "      <td>Ashutosh Gowariker (story) | Ashutosh Gowarike...</td>\n",
       "      <td>Aamir Khan | Gracy Singh | Rachel Shelley | Pa...</td>\n",
       "      <td>Ashutosh Gowariker</td>\n",
       "      <td>0.0</td>\n",
       "      <td>6</td>\n",
       "      <td>Flop</td>\n",
       "    </tr>\n",
       "    <tr>\n",
       "      <th>2</th>\n",
       "      <td>tt0187279</td>\n",
       "      <td>Meri Biwi Ka Jawab Nahin</td>\n",
       "      <td>2004</td>\n",
       "      <td>02 Jul 2004</td>\n",
       "      <td>Action | Comedy</td>\n",
       "      <td>NaN</td>\n",
       "      <td>Akshay Kumar | Sridevi | Gulshan Grover | Laxm...</td>\n",
       "      <td>Pankaj Parashar | S.M. Iqbal</td>\n",
       "      <td>0.0</td>\n",
       "      <td>1</td>\n",
       "      <td>Flop</td>\n",
       "    </tr>\n",
       "    <tr>\n",
       "      <th>3</th>\n",
       "      <td>tt0222024</td>\n",
       "      <td>Hum Tumhare Hain Sanam</td>\n",
       "      <td>2002</td>\n",
       "      <td>24 May 2002</td>\n",
       "      <td>Drama | Romance</td>\n",
       "      <td>K.S. Adiyaman | Arun Kumar (assistant dialogue...</td>\n",
       "      <td>Shah Rukh Khan | Madhuri Dixit | Salman Khan |...</td>\n",
       "      <td>K.S. Adiyaman</td>\n",
       "      <td>0.0</td>\n",
       "      <td>4</td>\n",
       "      <td>Flop</td>\n",
       "    </tr>\n",
       "    <tr>\n",
       "      <th>4</th>\n",
       "      <td>tt0227194</td>\n",
       "      <td>One 2 Ka 4</td>\n",
       "      <td>2001</td>\n",
       "      <td>30 Mar 2001</td>\n",
       "      <td>Action | Comedy | Drama</td>\n",
       "      <td>Sanjay Chhel | Raaj Kumar Dahima (screenplay) ...</td>\n",
       "      <td>Shah Rukh Khan | Juhi Chawla | Jackie Shroff |...</td>\n",
       "      <td>Shashilal K. Nair</td>\n",
       "      <td>0.0</td>\n",
       "      <td>1</td>\n",
       "      <td>Flop</td>\n",
       "    </tr>\n",
       "    <tr>\n",
       "      <th>5</th>\n",
       "      <td>tt0238936</td>\n",
       "      <td>Devdas</td>\n",
       "      <td>2002</td>\n",
       "      <td>12 Jul 2002</td>\n",
       "      <td>Musical | Romance</td>\n",
       "      <td>Saratchandra Chatterjee (based on the novel by...</td>\n",
       "      <td>Shah Rukh Khan | Madhuri Dixit | Aishwarya Rai...</td>\n",
       "      <td>Sanjay Leela Bhansali</td>\n",
       "      <td>0.0</td>\n",
       "      <td>6</td>\n",
       "      <td>Flop</td>\n",
       "    </tr>\n",
       "    <tr>\n",
       "      <th>6</th>\n",
       "      <td>tt0247911</td>\n",
       "      <td>Aap Mujhe Achche Lagne Lage</td>\n",
       "      <td>2002</td>\n",
       "      <td>19 Apr 2002</td>\n",
       "      <td>Action | Drama | Romance</td>\n",
       "      <td>Robin Bhatt (story) | Girish Dhamija (dialogue...</td>\n",
       "      <td>Hrithik Roshan | Ameesha Patel | Kiran Kumar |...</td>\n",
       "      <td>Vikram Bhatt</td>\n",
       "      <td>0.0</td>\n",
       "      <td>2</td>\n",
       "      <td>Flop</td>\n",
       "    </tr>\n",
       "    <tr>\n",
       "      <th>7</th>\n",
       "      <td>tt0248126</td>\n",
       "      <td>Kabhi Khushi Kabhie Gham...</td>\n",
       "      <td>2001</td>\n",
       "      <td>14 Dec 2001</td>\n",
       "      <td>Drama | Musical | Romance</td>\n",
       "      <td>Karan Johar | Sheena Parikh (screenplay)</td>\n",
       "      <td>Amitabh Bachchan | Jaya Bhaduri | Shah Rukh Kh...</td>\n",
       "      <td>Karan Johar</td>\n",
       "      <td>0.0</td>\n",
       "      <td>8</td>\n",
       "      <td>hit</td>\n",
       "    </tr>\n",
       "    <tr>\n",
       "      <th>8</th>\n",
       "      <td>tt0248216</td>\n",
       "      <td>Na Tum Jaano Na Hum</td>\n",
       "      <td>2002</td>\n",
       "      <td>10 May 2002</td>\n",
       "      <td>Comedy | Drama | Musical</td>\n",
       "      <td>Pratibha Acharya (dialogue) | Arjun Sablok</td>\n",
       "      <td>Saif Ali Khan | Hrithik Roshan | Esha Deol | A...</td>\n",
       "      <td>Arjun Sablok</td>\n",
       "      <td>0.0</td>\n",
       "      <td>1</td>\n",
       "      <td>Flop</td>\n",
       "    </tr>\n",
       "    <tr>\n",
       "      <th>9</th>\n",
       "      <td>tt0248617</td>\n",
       "      <td>Yaadein...</td>\n",
       "      <td>2001</td>\n",
       "      <td>27 Jun 2001</td>\n",
       "      <td>Musical | Drama | Romance</td>\n",
       "      <td>Subhash Ghai (dialogue) | Subhash Ghai (screen...</td>\n",
       "      <td>Jackie Shroff | Hrithik Roshan | Kareena Kapoo...</td>\n",
       "      <td>Subhash Ghai</td>\n",
       "      <td>0.0</td>\n",
       "      <td>2</td>\n",
       "      <td>Flop</td>\n",
       "    </tr>\n",
       "  </tbody>\n",
       "</table>\n",
       "</div>"
      ],
      "text/plain": [
       "      imdbId                              title  releaseYear  releaseDate  \\\n",
       "0  tt0118578                             Albela         2001  20 Apr 2001   \n",
       "1  tt0169102  Lagaan: Once Upon a Time in India         2001  08 May 2002   \n",
       "2  tt0187279           Meri Biwi Ka Jawab Nahin         2004  02 Jul 2004   \n",
       "3  tt0222024             Hum Tumhare Hain Sanam         2002  24 May 2002   \n",
       "4  tt0227194                         One 2 Ka 4         2001  30 Mar 2001   \n",
       "5  tt0238936                             Devdas         2002  12 Jul 2002   \n",
       "6  tt0247911        Aap Mujhe Achche Lagne Lage         2002  19 Apr 2002   \n",
       "7  tt0248126        Kabhi Khushi Kabhie Gham...         2001  14 Dec 2001   \n",
       "8  tt0248216                Na Tum Jaano Na Hum         2002  10 May 2002   \n",
       "9  tt0248617                         Yaadein...         2001  27 Jun 2001   \n",
       "\n",
       "                         genre  \\\n",
       "0                      Romance   \n",
       "1  Adventure | Drama | Musical   \n",
       "2              Action | Comedy   \n",
       "3              Drama | Romance   \n",
       "4      Action | Comedy | Drama   \n",
       "5            Musical | Romance   \n",
       "6     Action | Drama | Romance   \n",
       "7    Drama | Musical | Romance   \n",
       "8     Comedy | Drama | Musical   \n",
       "9    Musical | Drama | Romance   \n",
       "\n",
       "                                             writers  \\\n",
       "0  Honey Irani (screenplay) | Honey Irani (story)...   \n",
       "1  Ashutosh Gowariker (story) | Ashutosh Gowarike...   \n",
       "2                                                NaN   \n",
       "3  K.S. Adiyaman | Arun Kumar (assistant dialogue...   \n",
       "4  Sanjay Chhel | Raaj Kumar Dahima (screenplay) ...   \n",
       "5  Saratchandra Chatterjee (based on the novel by...   \n",
       "6  Robin Bhatt (story) | Girish Dhamija (dialogue...   \n",
       "7           Karan Johar | Sheena Parikh (screenplay)   \n",
       "8         Pratibha Acharya (dialogue) | Arjun Sablok   \n",
       "9  Subhash Ghai (dialogue) | Subhash Ghai (screen...   \n",
       "\n",
       "                                              actors  \\\n",
       "0  Govinda | Aishwarya Rai Bachchan | Jackie Shro...   \n",
       "1  Aamir Khan | Gracy Singh | Rachel Shelley | Pa...   \n",
       "2  Akshay Kumar | Sridevi | Gulshan Grover | Laxm...   \n",
       "3  Shah Rukh Khan | Madhuri Dixit | Salman Khan |...   \n",
       "4  Shah Rukh Khan | Juhi Chawla | Jackie Shroff |...   \n",
       "5  Shah Rukh Khan | Madhuri Dixit | Aishwarya Rai...   \n",
       "6  Hrithik Roshan | Ameesha Patel | Kiran Kumar |...   \n",
       "7  Amitabh Bachchan | Jaya Bhaduri | Shah Rukh Kh...   \n",
       "8  Saif Ali Khan | Hrithik Roshan | Esha Deol | A...   \n",
       "9  Jackie Shroff | Hrithik Roshan | Kareena Kapoo...   \n",
       "\n",
       "                      directors  sequel  hitFlop category  \n",
       "0                 Deepak Sareen     0.0        2     Flop  \n",
       "1            Ashutosh Gowariker     0.0        6     Flop  \n",
       "2  Pankaj Parashar | S.M. Iqbal     0.0        1     Flop  \n",
       "3                 K.S. Adiyaman     0.0        4     Flop  \n",
       "4             Shashilal K. Nair     0.0        1     Flop  \n",
       "5         Sanjay Leela Bhansali     0.0        6     Flop  \n",
       "6                  Vikram Bhatt     0.0        2     Flop  \n",
       "7                   Karan Johar     0.0        8      hit  \n",
       "8                  Arjun Sablok     0.0        1     Flop  \n",
       "9                  Subhash Ghai     0.0        2     Flop  "
      ]
     },
     "execution_count": 289,
     "metadata": {},
     "output_type": "execute_result"
    }
   ],
   "source": [
    "# 1. we categorize hit or flop movie\n",
    "\n",
    "movies['category'] = movies['hitFlop'].apply(lambda x: 'hit' if x>=7 else 'Flop')\n",
    "movies.head(10)"
   ]
  },
  {
   "cell_type": "code",
   "execution_count": 290,
   "metadata": {},
   "outputs": [
    {
     "name": "stdout",
     "output_type": "stream",
     "text": [
      "0                  Karan Johar\n",
      "1                  Anil Sharma\n",
      "2               Satish Kaushik\n",
      "3                  Anurag Basu\n",
      "4                  Neeraj Vora\n",
      "5                  Yash Chopra\n",
      "6                Sanjay Gadhvi\n",
      "7                Rakesh Roshan\n",
      "8                  Kunal Kohli\n",
      "9                Sanjay Gadhvi\n",
      "10                   Shaad Ali\n",
      "11                Anees Bazmee\n",
      "12             Rajkumar Hirani\n",
      "13              Abbas Tyrewala\n",
      "14                Priyadarshan\n",
      "15                Anees Bazmee\n",
      "16          Sooraj R. Barjatya\n",
      "17                David Dhawan\n",
      "18    Aamir Khan | Amole Gupte\n",
      "19                  Farah Khan\n",
      "20               Rakesh Roshan\n",
      "21                Anees Bazmee\n",
      "22             A.R. Murugadoss\n",
      "23               Aditya Chopra\n",
      "24             Rajkumar Hirani\n",
      "25              Kunal Deshmukh\n",
      "26           Rajkumar Santoshi\n",
      "27                 Prakash Jha\n",
      "28                Rohit Shetty\n",
      "29             Abhinav Kashyap\n",
      "30                Anees Bazmee\n",
      "31                    Siddique\n",
      "32       Vijay Krishna Acharya\n",
      "33              Karan Malhotra\n",
      "34                  Mohit Suri\n",
      "35                Rohit Shetty\n",
      "36               Milan Luthria\n",
      "37                  Sajid Khan\n",
      "38                  Kabir Khan\n",
      "39                 Prabhudheva\n",
      "40                 Anurag Basu\n",
      "41                Rohit Shetty\n",
      "42                 Arbaaz Khan\n",
      "43                Vikram Bhatt\n",
      "44              Ayan Mukherjee\n",
      "45                  Mohit Suri\n",
      "46                Rohit Shetty\n",
      "47             Rajkumar Hirani\n",
      "48     Rakeysh Omprakash Mehra\n",
      "49            Sajid Nadiadwala\n",
      "50             Abhishek Varman\n",
      "51                  Farah Khan\n",
      "52                 Indra Kumar\n",
      "Name: directors, dtype: object\n"
     ]
    }
   ],
   "source": [
    "director_names = movies[movies['category']=='hit']['directors']\n",
    "director_names = director_names.reset_index(drop=True)\n",
    "print(director_names)"
   ]
  },
  {
   "cell_type": "markdown",
   "metadata": {},
   "source": [
    "### Find the movies directed by \"sanjay Leela Bhanshali\""
   ]
  },
  {
   "cell_type": "code",
   "execution_count": 291,
   "metadata": {},
   "outputs": [
    {
     "data": {
      "text/plain": [
       "5"
      ]
     },
     "execution_count": 291,
     "metadata": {},
     "output_type": "execute_result"
    }
   ],
   "source": [
    "movies[(movies['directors']=='Sanjay Leela Bhansali')].shape[0]"
   ]
  },
  {
   "cell_type": "markdown",
   "metadata": {},
   "source": [
    "####  List of Movies name which are released in 2009"
   ]
  },
  {
   "cell_type": "code",
   "execution_count": 292,
   "metadata": {},
   "outputs": [
    {
     "data": {
      "text/html": [
       "<div>\n",
       "<style scoped>\n",
       "    .dataframe tbody tr th:only-of-type {\n",
       "        vertical-align: middle;\n",
       "    }\n",
       "\n",
       "    .dataframe tbody tr th {\n",
       "        vertical-align: top;\n",
       "    }\n",
       "\n",
       "    .dataframe thead th {\n",
       "        text-align: right;\n",
       "    }\n",
       "</style>\n",
       "<table border=\"1\" class=\"dataframe\">\n",
       "  <thead>\n",
       "    <tr style=\"text-align: right;\">\n",
       "      <th></th>\n",
       "      <th>index</th>\n",
       "      <th>imdbId</th>\n",
       "      <th>title</th>\n",
       "      <th>releaseYear</th>\n",
       "      <th>releaseDate</th>\n",
       "      <th>genre</th>\n",
       "      <th>writers</th>\n",
       "      <th>actors</th>\n",
       "      <th>directors</th>\n",
       "      <th>sequel</th>\n",
       "      <th>hitFlop</th>\n",
       "      <th>category</th>\n",
       "    </tr>\n",
       "  </thead>\n",
       "  <tbody>\n",
       "    <tr>\n",
       "      <th>0</th>\n",
       "      <td>319</td>\n",
       "      <td>tt0438894</td>\n",
       "      <td>Kisse Pyaar Karo?n</td>\n",
       "      <td>2009</td>\n",
       "      <td>27 Feb 2009</td>\n",
       "      <td>Action | Comedy | Crime</td>\n",
       "      <td>Shabbir Ahmed (lyrics) | Yunus Sajawal (screen...</td>\n",
       "      <td>Arshad Warsi | Aashish Chaudhary | Yash Tonk |...</td>\n",
       "      <td>Ajay Chandhok</td>\n",
       "      <td>0.0</td>\n",
       "      <td>1</td>\n",
       "      <td>Flop</td>\n",
       "    </tr>\n",
       "    <tr>\n",
       "      <th>1</th>\n",
       "      <td>435</td>\n",
       "      <td>tt0486615</td>\n",
       "      <td>London Dreams</td>\n",
       "      <td>2009</td>\n",
       "      <td>30 Oct 2009</td>\n",
       "      <td>Musical</td>\n",
       "      <td>Ritesh Shah (dialogue) | Suresh Nair (story)</td>\n",
       "      <td>Salman Khan | Om Puri | Ajay Devgn | Dilyana B...</td>\n",
       "      <td>Vipul Amrutlal Shah</td>\n",
       "      <td>0.0</td>\n",
       "      <td>2</td>\n",
       "      <td>Flop</td>\n",
       "    </tr>\n",
       "    <tr>\n",
       "      <th>2</th>\n",
       "      <td>518</td>\n",
       "      <td>tt0886539</td>\n",
       "      <td>Luck by Chance</td>\n",
       "      <td>2009</td>\n",
       "      <td>30 Jan 2009</td>\n",
       "      <td>Drama</td>\n",
       "      <td>Zoya Akhtar (story) | Javed Akhtar (dialogue)</td>\n",
       "      <td>Farhan Akhtar | Konkona Sen Sharma | Rishi Kap...</td>\n",
       "      <td>Zoya Akhtar</td>\n",
       "      <td>0.0</td>\n",
       "      <td>2</td>\n",
       "      <td>Flop</td>\n",
       "    </tr>\n",
       "    <tr>\n",
       "      <th>3</th>\n",
       "      <td>521</td>\n",
       "      <td>tt0893585</td>\n",
       "      <td>Detective Naani</td>\n",
       "      <td>2009</td>\n",
       "      <td>22 May 2009</td>\n",
       "      <td>Crime | Drama | Family</td>\n",
       "      <td>Romilla Mukherjee</td>\n",
       "      <td>Ava Mukherjee | Zain Khan | Simran Singh | Amr...</td>\n",
       "      <td>Romilla Mukherjee</td>\n",
       "      <td>0.0</td>\n",
       "      <td>1</td>\n",
       "      <td>Flop</td>\n",
       "    </tr>\n",
       "    <tr>\n",
       "      <th>4</th>\n",
       "      <td>559</td>\n",
       "      <td>tt1043451</td>\n",
       "      <td>Delhi-6</td>\n",
       "      <td>2009</td>\n",
       "      <td>20 Feb 2009</td>\n",
       "      <td>Comedy | Drama</td>\n",
       "      <td>Rakeysh Omprakash Mehra (story) | Prasoon Josh...</td>\n",
       "      <td>Waheeda Rehman | Abhishek Bachchan | Sonam Kap...</td>\n",
       "      <td>Rakeysh Omprakash Mehra</td>\n",
       "      <td>0.0</td>\n",
       "      <td>2</td>\n",
       "      <td>Flop</td>\n",
       "    </tr>\n",
       "    <tr>\n",
       "      <th>...</th>\n",
       "      <td>...</td>\n",
       "      <td>...</td>\n",
       "      <td>...</td>\n",
       "      <td>...</td>\n",
       "      <td>...</td>\n",
       "      <td>...</td>\n",
       "      <td>...</td>\n",
       "      <td>...</td>\n",
       "      <td>...</td>\n",
       "      <td>...</td>\n",
       "      <td>...</td>\n",
       "      <td>...</td>\n",
       "    </tr>\n",
       "    <tr>\n",
       "      <th>86</th>\n",
       "      <td>968</td>\n",
       "      <td>tt1995257</td>\n",
       "      <td>Bachelor Party</td>\n",
       "      <td>2009</td>\n",
       "      <td>04 Sep 2009</td>\n",
       "      <td>Comedy | Drama</td>\n",
       "      <td>Arun Bhairav (script) | Raghuvir Shekhawat (sc...</td>\n",
       "      <td>Jimmy Shergill | Arbaaz Khan | Nauheed Cyrusi ...</td>\n",
       "      <td>Ishaan Trivedi</td>\n",
       "      <td>0.0</td>\n",
       "      <td>1</td>\n",
       "      <td>Flop</td>\n",
       "    </tr>\n",
       "    <tr>\n",
       "      <th>87</th>\n",
       "      <td>986</td>\n",
       "      <td>tt2058651</td>\n",
       "      <td>Maruti Mera Dosst</td>\n",
       "      <td>2009</td>\n",
       "      <td>05 Jun 2009</td>\n",
       "      <td>Animation | Adventure | Drama</td>\n",
       "      <td>Mann Katoja | Manikya Raju</td>\n",
       "      <td>Shahbaaz Khan | Sushmita Mukherjee | Erik A. N...</td>\n",
       "      <td>Manikya Raju</td>\n",
       "      <td>0.0</td>\n",
       "      <td>1</td>\n",
       "      <td>Flop</td>\n",
       "    </tr>\n",
       "    <tr>\n",
       "      <th>88</th>\n",
       "      <td>990</td>\n",
       "      <td>tt2064852</td>\n",
       "      <td>Lottery</td>\n",
       "      <td>2009</td>\n",
       "      <td>20 Mar 2009</td>\n",
       "      <td>Crime | Drama | Mystery</td>\n",
       "      <td>Aadesh K. Arjun (dialogue) | Hemant Prabhu (sc...</td>\n",
       "      <td>Abhijeet | Rucha Gujrati | Manisha Kelkar | Na...</td>\n",
       "      <td>Hemant Prabhu</td>\n",
       "      <td>0.0</td>\n",
       "      <td>1</td>\n",
       "      <td>Flop</td>\n",
       "    </tr>\n",
       "    <tr>\n",
       "      <th>89</th>\n",
       "      <td>992</td>\n",
       "      <td>tt2066899</td>\n",
       "      <td>Jugaad</td>\n",
       "      <td>2009</td>\n",
       "      <td>13 Feb 2009</td>\n",
       "      <td>Comedy | Drama</td>\n",
       "      <td>Priyank Dubey (screenplay) | Bunty Rathore (sc...</td>\n",
       "      <td>Manoj Bajpayee | Hrishitaa Bhatt | Vijay Raaz ...</td>\n",
       "      <td>R. Anand Kumar</td>\n",
       "      <td>0.0</td>\n",
       "      <td>1</td>\n",
       "      <td>Flop</td>\n",
       "    </tr>\n",
       "    <tr>\n",
       "      <th>90</th>\n",
       "      <td>1011</td>\n",
       "      <td>tt2138010</td>\n",
       "      <td>3 Nights 4 Days</td>\n",
       "      <td>2009</td>\n",
       "      <td>09 Oct 2009</td>\n",
       "      <td>Romance</td>\n",
       "      <td>NaN</td>\n",
       "      <td>Hrishitaa Bhatt | Anuj Sawhney</td>\n",
       "      <td>Devang Dholakia</td>\n",
       "      <td>0.0</td>\n",
       "      <td>1</td>\n",
       "      <td>Flop</td>\n",
       "    </tr>\n",
       "  </tbody>\n",
       "</table>\n",
       "<p>91 rows × 12 columns</p>\n",
       "</div>"
      ],
      "text/plain": [
       "    index     imdbId               title  releaseYear  releaseDate  \\\n",
       "0     319  tt0438894  Kisse Pyaar Karo?n         2009  27 Feb 2009   \n",
       "1     435  tt0486615       London Dreams         2009  30 Oct 2009   \n",
       "2     518  tt0886539      Luck by Chance         2009  30 Jan 2009   \n",
       "3     521  tt0893585     Detective Naani         2009  22 May 2009   \n",
       "4     559  tt1043451             Delhi-6         2009  20 Feb 2009   \n",
       "..    ...        ...                 ...          ...          ...   \n",
       "86    968  tt1995257      Bachelor Party         2009  04 Sep 2009   \n",
       "87    986  tt2058651   Maruti Mera Dosst         2009  05 Jun 2009   \n",
       "88    990  tt2064852             Lottery         2009  20 Mar 2009   \n",
       "89    992  tt2066899              Jugaad         2009  13 Feb 2009   \n",
       "90   1011  tt2138010     3 Nights 4 Days         2009  09 Oct 2009   \n",
       "\n",
       "                            genre  \\\n",
       "0         Action | Comedy | Crime   \n",
       "1                         Musical   \n",
       "2                           Drama   \n",
       "3          Crime | Drama | Family   \n",
       "4                  Comedy | Drama   \n",
       "..                            ...   \n",
       "86                 Comedy | Drama   \n",
       "87  Animation | Adventure | Drama   \n",
       "88        Crime | Drama | Mystery   \n",
       "89                 Comedy | Drama   \n",
       "90                        Romance   \n",
       "\n",
       "                                              writers  \\\n",
       "0   Shabbir Ahmed (lyrics) | Yunus Sajawal (screen...   \n",
       "1        Ritesh Shah (dialogue) | Suresh Nair (story)   \n",
       "2       Zoya Akhtar (story) | Javed Akhtar (dialogue)   \n",
       "3                                   Romilla Mukherjee   \n",
       "4   Rakeysh Omprakash Mehra (story) | Prasoon Josh...   \n",
       "..                                                ...   \n",
       "86  Arun Bhairav (script) | Raghuvir Shekhawat (sc...   \n",
       "87                         Mann Katoja | Manikya Raju   \n",
       "88  Aadesh K. Arjun (dialogue) | Hemant Prabhu (sc...   \n",
       "89  Priyank Dubey (screenplay) | Bunty Rathore (sc...   \n",
       "90                                                NaN   \n",
       "\n",
       "                                               actors  \\\n",
       "0   Arshad Warsi | Aashish Chaudhary | Yash Tonk |...   \n",
       "1   Salman Khan | Om Puri | Ajay Devgn | Dilyana B...   \n",
       "2   Farhan Akhtar | Konkona Sen Sharma | Rishi Kap...   \n",
       "3   Ava Mukherjee | Zain Khan | Simran Singh | Amr...   \n",
       "4   Waheeda Rehman | Abhishek Bachchan | Sonam Kap...   \n",
       "..                                                ...   \n",
       "86  Jimmy Shergill | Arbaaz Khan | Nauheed Cyrusi ...   \n",
       "87  Shahbaaz Khan | Sushmita Mukherjee | Erik A. N...   \n",
       "88  Abhijeet | Rucha Gujrati | Manisha Kelkar | Na...   \n",
       "89  Manoj Bajpayee | Hrishitaa Bhatt | Vijay Raaz ...   \n",
       "90                     Hrishitaa Bhatt | Anuj Sawhney   \n",
       "\n",
       "                  directors  sequel  hitFlop category  \n",
       "0             Ajay Chandhok     0.0        1     Flop  \n",
       "1       Vipul Amrutlal Shah     0.0        2     Flop  \n",
       "2               Zoya Akhtar     0.0        2     Flop  \n",
       "3         Romilla Mukherjee     0.0        1     Flop  \n",
       "4   Rakeysh Omprakash Mehra     0.0        2     Flop  \n",
       "..                      ...     ...      ...      ...  \n",
       "86           Ishaan Trivedi     0.0        1     Flop  \n",
       "87             Manikya Raju     0.0        1     Flop  \n",
       "88            Hemant Prabhu     0.0        1     Flop  \n",
       "89           R. Anand Kumar     0.0        1     Flop  \n",
       "90          Devang Dholakia     0.0        1     Flop  \n",
       "\n",
       "[91 rows x 12 columns]"
      ]
     },
     "execution_count": 292,
     "metadata": {},
     "output_type": "execute_result"
    }
   ],
   "source": [
    "df = movies[movies['releaseYear']==2009]\n",
    "df.reset_index()"
   ]
  },
  {
   "cell_type": "code",
   "execution_count": 293,
   "metadata": {},
   "outputs": [
    {
     "data": {
      "text/html": [
       "<div>\n",
       "<style scoped>\n",
       "    .dataframe tbody tr th:only-of-type {\n",
       "        vertical-align: middle;\n",
       "    }\n",
       "\n",
       "    .dataframe tbody tr th {\n",
       "        vertical-align: top;\n",
       "    }\n",
       "\n",
       "    .dataframe thead th {\n",
       "        text-align: right;\n",
       "    }\n",
       "</style>\n",
       "<table border=\"1\" class=\"dataframe\">\n",
       "  <thead>\n",
       "    <tr style=\"text-align: right;\">\n",
       "      <th></th>\n",
       "      <th>imdbId</th>\n",
       "      <th>title</th>\n",
       "      <th>releaseYear</th>\n",
       "      <th>releaseDate</th>\n",
       "      <th>genre</th>\n",
       "      <th>writers</th>\n",
       "      <th>actors</th>\n",
       "      <th>directors</th>\n",
       "      <th>sequel</th>\n",
       "      <th>hitFlop</th>\n",
       "      <th>category</th>\n",
       "    </tr>\n",
       "  </thead>\n",
       "  <tbody>\n",
       "    <tr>\n",
       "      <th>1279</th>\n",
       "      <td>tt4121522</td>\n",
       "      <td>Shuruaat Ka Interval</td>\n",
       "      <td>2014</td>\n",
       "      <td>15 Aug 2014</td>\n",
       "      <td>NaN</td>\n",
       "      <td>Aarti S. Bagdi | Amrit Raj Gupta | Krishan Hoo...</td>\n",
       "      <td>Kaivalya Chheda | Rajsekhar Aningi | Avidant B...</td>\n",
       "      <td>Aarti S. Bagdi | Amrit Raj Gupta | Krishan Hoo...</td>\n",
       "      <td>0.0</td>\n",
       "      <td>1</td>\n",
       "      <td>Flop</td>\n",
       "    </tr>\n",
       "    <tr>\n",
       "      <th>1280</th>\n",
       "      <td>tt4187650</td>\n",
       "      <td>Trip to Bhangarh</td>\n",
       "      <td>2014</td>\n",
       "      <td>28 Aug 2014</td>\n",
       "      <td>Horror</td>\n",
       "      <td>NaN</td>\n",
       "      <td>Manish Choudhary | Suzanna Mukherjee | Poonam ...</td>\n",
       "      <td>Jitendra Pawar</td>\n",
       "      <td>0.0</td>\n",
       "      <td>1</td>\n",
       "      <td>Flop</td>\n",
       "    </tr>\n",
       "    <tr>\n",
       "      <th>1281</th>\n",
       "      <td>tt4190220</td>\n",
       "      <td>Zed Plus</td>\n",
       "      <td>2014</td>\n",
       "      <td>28 Nov 2014</td>\n",
       "      <td>NaN</td>\n",
       "      <td>Chandra Prakash Dwivedi (screen play and dialo...</td>\n",
       "      <td>Adil Hussain | Ekavali Khanna | Kulbhushan Kha...</td>\n",
       "      <td>Chandra Prakash Dwivedi</td>\n",
       "      <td>0.0</td>\n",
       "      <td>1</td>\n",
       "      <td>Flop</td>\n",
       "    </tr>\n",
       "    <tr>\n",
       "      <th>1282</th>\n",
       "      <td>tt4219300</td>\n",
       "      <td>Gollu aur Pappu</td>\n",
       "      <td>2014</td>\n",
       "      <td>21 Nov 2014</td>\n",
       "      <td>Comedy</td>\n",
       "      <td>NaN</td>\n",
       "      <td>Vir Das | Sandeepa Dhar | Rahul Handa | Dimple...</td>\n",
       "      <td>Kabir Sadanand</td>\n",
       "      <td>0.0</td>\n",
       "      <td>1</td>\n",
       "      <td>Flop</td>\n",
       "    </tr>\n",
       "    <tr>\n",
       "      <th>1283</th>\n",
       "      <td>tt4228746</td>\n",
       "      <td>Zid</td>\n",
       "      <td>2014</td>\n",
       "      <td>28 Nov 2014</td>\n",
       "      <td>Thriller</td>\n",
       "      <td>Vivek Agnihotri | Rohit Malhotra</td>\n",
       "      <td>Shradha Das | Mohan Kapoor | Mannara | Karanvi...</td>\n",
       "      <td>Rohit Malhotra | Anubhav Sinha</td>\n",
       "      <td>0.0</td>\n",
       "      <td>2</td>\n",
       "      <td>Flop</td>\n",
       "    </tr>\n",
       "  </tbody>\n",
       "</table>\n",
       "</div>"
      ],
      "text/plain": [
       "         imdbId                 title  releaseYear  releaseDate     genre  \\\n",
       "1279  tt4121522  Shuruaat Ka Interval         2014  15 Aug 2014       NaN   \n",
       "1280  tt4187650      Trip to Bhangarh         2014  28 Aug 2014    Horror   \n",
       "1281  tt4190220              Zed Plus         2014  28 Nov 2014       NaN   \n",
       "1282  tt4219300       Gollu aur Pappu         2014  21 Nov 2014    Comedy   \n",
       "1283  tt4228746                   Zid         2014  28 Nov 2014  Thriller   \n",
       "\n",
       "                                                writers  \\\n",
       "1279  Aarti S. Bagdi | Amrit Raj Gupta | Krishan Hoo...   \n",
       "1280                                                NaN   \n",
       "1281  Chandra Prakash Dwivedi (screen play and dialo...   \n",
       "1282                                                NaN   \n",
       "1283                   Vivek Agnihotri | Rohit Malhotra   \n",
       "\n",
       "                                                 actors  \\\n",
       "1279  Kaivalya Chheda | Rajsekhar Aningi | Avidant B...   \n",
       "1280  Manish Choudhary | Suzanna Mukherjee | Poonam ...   \n",
       "1281  Adil Hussain | Ekavali Khanna | Kulbhushan Kha...   \n",
       "1282  Vir Das | Sandeepa Dhar | Rahul Handa | Dimple...   \n",
       "1283  Shradha Das | Mohan Kapoor | Mannara | Karanvi...   \n",
       "\n",
       "                                              directors  sequel  hitFlop  \\\n",
       "1279  Aarti S. Bagdi | Amrit Raj Gupta | Krishan Hoo...     0.0        1   \n",
       "1280                                     Jitendra Pawar     0.0        1   \n",
       "1281                            Chandra Prakash Dwivedi     0.0        1   \n",
       "1282                                     Kabir Sadanand     0.0        1   \n",
       "1283                     Rohit Malhotra | Anubhav Sinha     0.0        2   \n",
       "\n",
       "     category  \n",
       "1279     Flop  \n",
       "1280     Flop  \n",
       "1281     Flop  \n",
       "1282     Flop  \n",
       "1283     Flop  "
      ]
     },
     "execution_count": 293,
     "metadata": {},
     "output_type": "execute_result"
    }
   ],
   "source": [
    "# last 5 data using slice\n",
    "movies[-5:]"
   ]
  },
  {
   "cell_type": "markdown",
   "metadata": {},
   "source": [
    "### Series Indexing : truncate() function to truncate some data from the series  prior to a given index and after a given index label"
   ]
  },
  {
   "cell_type": "code",
   "execution_count": 294,
   "metadata": {},
   "outputs": [
    {
     "name": "stdout",
     "output_type": "stream",
     "text": [
      "0    19.5\n",
      "1    16.9\n",
      "2    13.4\n",
      "3    12.7\n",
      "4    11.9\n",
      "5    25.0\n",
      "6    27.9\n",
      "7    26.8\n",
      "dtype: float64\n"
     ]
    }
   ],
   "source": [
    "sr = pd.Series([19.5,16.9,13.4,12.7,11.90,25,27.9,26.8])\n",
    "print(sr)"
   ]
  },
  {
   "cell_type": "code",
   "execution_count": 295,
   "metadata": {},
   "outputs": [
    {
     "data": {
      "text/plain": [
       "1    16.9\n",
       "2    13.4\n",
       "3    12.7\n",
       "dtype: float64"
      ]
     },
     "execution_count": 295,
     "metadata": {},
     "output_type": "execute_result"
    }
   ],
   "source": [
    "sr.truncate(before=1,after=3)"
   ]
  },
  {
   "cell_type": "markdown",
   "metadata": {},
   "source": [
    " ###  Accessing First Five Element  From Series"
   ]
  },
  {
   "cell_type": "code",
   "execution_count": 296,
   "metadata": {},
   "outputs": [
    {
     "data": {
      "text/plain": [
       "0    19.5\n",
       "1    16.9\n",
       "2    13.4\n",
       "3    12.7\n",
       "4    11.9\n",
       "dtype: float64"
      ]
     },
     "execution_count": 296,
     "metadata": {},
     "output_type": "execute_result"
    }
   ],
   "source": [
    "sr[:5]"
   ]
  },
  {
   "cell_type": "markdown",
   "metadata": {},
   "source": [
    "### Concatenate two dataFrame"
   ]
  },
  {
   "cell_type": "code",
   "execution_count": 297,
   "metadata": {},
   "outputs": [],
   "source": [
    "data_frame = pd.concat([data,movies],axis=1)"
   ]
  },
  {
   "cell_type": "code",
   "execution_count": 298,
   "metadata": {},
   "outputs": [
    {
     "data": {
      "text/html": [
       "<div>\n",
       "<style scoped>\n",
       "    .dataframe tbody tr th:only-of-type {\n",
       "        vertical-align: middle;\n",
       "    }\n",
       "\n",
       "    .dataframe tbody tr th {\n",
       "        vertical-align: top;\n",
       "    }\n",
       "\n",
       "    .dataframe thead th {\n",
       "        text-align: right;\n",
       "    }\n",
       "</style>\n",
       "<table border=\"1\" class=\"dataframe\">\n",
       "  <thead>\n",
       "    <tr style=\"text-align: right;\">\n",
       "      <th></th>\n",
       "      <th>EMPLOYEE_ID</th>\n",
       "      <th>FIRST_NAME</th>\n",
       "      <th>LAST_NAME</th>\n",
       "      <th>EMAIL</th>\n",
       "      <th>PHONE_NUMBER</th>\n",
       "      <th>HIRE_DATE</th>\n",
       "      <th>JOB_ID</th>\n",
       "      <th>SALARY</th>\n",
       "      <th>MANAGER_ID</th>\n",
       "      <th>DEPARTMENT_ID</th>\n",
       "      <th>...</th>\n",
       "      <th>title</th>\n",
       "      <th>releaseYear</th>\n",
       "      <th>releaseDate</th>\n",
       "      <th>genre</th>\n",
       "      <th>writers</th>\n",
       "      <th>actors</th>\n",
       "      <th>directors</th>\n",
       "      <th>sequel</th>\n",
       "      <th>hitFlop</th>\n",
       "      <th>category</th>\n",
       "    </tr>\n",
       "  </thead>\n",
       "  <tbody>\n",
       "    <tr>\n",
       "      <th>0</th>\n",
       "      <td>198.0</td>\n",
       "      <td>Donald</td>\n",
       "      <td>OConnell</td>\n",
       "      <td>DOCONNEL</td>\n",
       "      <td>650.507.9833</td>\n",
       "      <td>21-JUN-07</td>\n",
       "      <td>SH_CLERK</td>\n",
       "      <td>2600.0</td>\n",
       "      <td>124</td>\n",
       "      <td>50.0</td>\n",
       "      <td>...</td>\n",
       "      <td>Albela</td>\n",
       "      <td>2001</td>\n",
       "      <td>20 Apr 2001</td>\n",
       "      <td>Romance</td>\n",
       "      <td>Honey Irani (screenplay) | Honey Irani (story)...</td>\n",
       "      <td>Govinda | Aishwarya Rai Bachchan | Jackie Shro...</td>\n",
       "      <td>Deepak Sareen</td>\n",
       "      <td>0.0</td>\n",
       "      <td>2</td>\n",
       "      <td>Flop</td>\n",
       "    </tr>\n",
       "    <tr>\n",
       "      <th>1</th>\n",
       "      <td>199.0</td>\n",
       "      <td>Douglas</td>\n",
       "      <td>Grant</td>\n",
       "      <td>DGRANT</td>\n",
       "      <td>650.507.9844</td>\n",
       "      <td>13-JAN-08</td>\n",
       "      <td>SH_CLERK</td>\n",
       "      <td>2600.0</td>\n",
       "      <td>124</td>\n",
       "      <td>50.0</td>\n",
       "      <td>...</td>\n",
       "      <td>Lagaan: Once Upon a Time in India</td>\n",
       "      <td>2001</td>\n",
       "      <td>08 May 2002</td>\n",
       "      <td>Adventure | Drama | Musical</td>\n",
       "      <td>Ashutosh Gowariker (story) | Ashutosh Gowarike...</td>\n",
       "      <td>Aamir Khan | Gracy Singh | Rachel Shelley | Pa...</td>\n",
       "      <td>Ashutosh Gowariker</td>\n",
       "      <td>0.0</td>\n",
       "      <td>6</td>\n",
       "      <td>Flop</td>\n",
       "    </tr>\n",
       "    <tr>\n",
       "      <th>2</th>\n",
       "      <td>200.0</td>\n",
       "      <td>Jennifer</td>\n",
       "      <td>Whalen</td>\n",
       "      <td>JWHALEN</td>\n",
       "      <td>515.123.4444</td>\n",
       "      <td>17-SEP-03</td>\n",
       "      <td>AD_ASST</td>\n",
       "      <td>4400.0</td>\n",
       "      <td>101</td>\n",
       "      <td>10.0</td>\n",
       "      <td>...</td>\n",
       "      <td>Meri Biwi Ka Jawab Nahin</td>\n",
       "      <td>2004</td>\n",
       "      <td>02 Jul 2004</td>\n",
       "      <td>Action | Comedy</td>\n",
       "      <td>NaN</td>\n",
       "      <td>Akshay Kumar | Sridevi | Gulshan Grover | Laxm...</td>\n",
       "      <td>Pankaj Parashar | S.M. Iqbal</td>\n",
       "      <td>0.0</td>\n",
       "      <td>1</td>\n",
       "      <td>Flop</td>\n",
       "    </tr>\n",
       "    <tr>\n",
       "      <th>3</th>\n",
       "      <td>201.0</td>\n",
       "      <td>Michael</td>\n",
       "      <td>Hartstein</td>\n",
       "      <td>MHARTSTE</td>\n",
       "      <td>515.123.5555</td>\n",
       "      <td>17-FEB-04</td>\n",
       "      <td>MK_MAN</td>\n",
       "      <td>13000.0</td>\n",
       "      <td>100</td>\n",
       "      <td>20.0</td>\n",
       "      <td>...</td>\n",
       "      <td>Hum Tumhare Hain Sanam</td>\n",
       "      <td>2002</td>\n",
       "      <td>24 May 2002</td>\n",
       "      <td>Drama | Romance</td>\n",
       "      <td>K.S. Adiyaman | Arun Kumar (assistant dialogue...</td>\n",
       "      <td>Shah Rukh Khan | Madhuri Dixit | Salman Khan |...</td>\n",
       "      <td>K.S. Adiyaman</td>\n",
       "      <td>0.0</td>\n",
       "      <td>4</td>\n",
       "      <td>Flop</td>\n",
       "    </tr>\n",
       "    <tr>\n",
       "      <th>4</th>\n",
       "      <td>202.0</td>\n",
       "      <td>Pat</td>\n",
       "      <td>Fay</td>\n",
       "      <td>PFAY</td>\n",
       "      <td>603.123.6666</td>\n",
       "      <td>17-AUG-05</td>\n",
       "      <td>MK_REP</td>\n",
       "      <td>6000.0</td>\n",
       "      <td>201</td>\n",
       "      <td>20.0</td>\n",
       "      <td>...</td>\n",
       "      <td>One 2 Ka 4</td>\n",
       "      <td>2001</td>\n",
       "      <td>30 Mar 2001</td>\n",
       "      <td>Action | Comedy | Drama</td>\n",
       "      <td>Sanjay Chhel | Raaj Kumar Dahima (screenplay) ...</td>\n",
       "      <td>Shah Rukh Khan | Juhi Chawla | Jackie Shroff |...</td>\n",
       "      <td>Shashilal K. Nair</td>\n",
       "      <td>0.0</td>\n",
       "      <td>1</td>\n",
       "      <td>Flop</td>\n",
       "    </tr>\n",
       "  </tbody>\n",
       "</table>\n",
       "<p>5 rows × 23 columns</p>\n",
       "</div>"
      ],
      "text/plain": [
       "   EMPLOYEE_ID FIRST_NAME  LAST_NAME     EMAIL  PHONE_NUMBER  HIRE_DATE  \\\n",
       "0        198.0     Donald   OConnell  DOCONNEL  650.507.9833  21-JUN-07   \n",
       "1        199.0    Douglas      Grant    DGRANT  650.507.9844  13-JAN-08   \n",
       "2        200.0   Jennifer     Whalen   JWHALEN  515.123.4444  17-SEP-03   \n",
       "3        201.0    Michael  Hartstein  MHARTSTE  515.123.5555  17-FEB-04   \n",
       "4        202.0        Pat        Fay      PFAY  603.123.6666  17-AUG-05   \n",
       "\n",
       "     JOB_ID   SALARY MANAGER_ID  DEPARTMENT_ID  ...  \\\n",
       "0  SH_CLERK   2600.0        124           50.0  ...   \n",
       "1  SH_CLERK   2600.0        124           50.0  ...   \n",
       "2   AD_ASST   4400.0        101           10.0  ...   \n",
       "3    MK_MAN  13000.0        100           20.0  ...   \n",
       "4    MK_REP   6000.0        201           20.0  ...   \n",
       "\n",
       "                               title  releaseYear  releaseDate  \\\n",
       "0                             Albela         2001  20 Apr 2001   \n",
       "1  Lagaan: Once Upon a Time in India         2001  08 May 2002   \n",
       "2           Meri Biwi Ka Jawab Nahin         2004  02 Jul 2004   \n",
       "3             Hum Tumhare Hain Sanam         2002  24 May 2002   \n",
       "4                         One 2 Ka 4         2001  30 Mar 2001   \n",
       "\n",
       "                         genre  \\\n",
       "0                      Romance   \n",
       "1  Adventure | Drama | Musical   \n",
       "2              Action | Comedy   \n",
       "3              Drama | Romance   \n",
       "4      Action | Comedy | Drama   \n",
       "\n",
       "                                             writers  \\\n",
       "0  Honey Irani (screenplay) | Honey Irani (story)...   \n",
       "1  Ashutosh Gowariker (story) | Ashutosh Gowarike...   \n",
       "2                                                NaN   \n",
       "3  K.S. Adiyaman | Arun Kumar (assistant dialogue...   \n",
       "4  Sanjay Chhel | Raaj Kumar Dahima (screenplay) ...   \n",
       "\n",
       "                                              actors  \\\n",
       "0  Govinda | Aishwarya Rai Bachchan | Jackie Shro...   \n",
       "1  Aamir Khan | Gracy Singh | Rachel Shelley | Pa...   \n",
       "2  Akshay Kumar | Sridevi | Gulshan Grover | Laxm...   \n",
       "3  Shah Rukh Khan | Madhuri Dixit | Salman Khan |...   \n",
       "4  Shah Rukh Khan | Juhi Chawla | Jackie Shroff |...   \n",
       "\n",
       "                      directors sequel hitFlop category  \n",
       "0                 Deepak Sareen    0.0       2     Flop  \n",
       "1            Ashutosh Gowariker    0.0       6     Flop  \n",
       "2  Pankaj Parashar | S.M. Iqbal    0.0       1     Flop  \n",
       "3                 K.S. Adiyaman    0.0       4     Flop  \n",
       "4             Shashilal K. Nair    0.0       1     Flop  \n",
       "\n",
       "[5 rows x 23 columns]"
      ]
     },
     "execution_count": 298,
     "metadata": {},
     "output_type": "execute_result"
    }
   ],
   "source": [
    "data_frame.head()"
   ]
  },
  {
   "cell_type": "code",
   "execution_count": 299,
   "metadata": {},
   "outputs": [
    {
     "data": {
      "text/plain": [
       "(1284, 23)"
      ]
     },
     "execution_count": 299,
     "metadata": {},
     "output_type": "execute_result"
    }
   ],
   "source": [
    "data_frame.shape"
   ]
  },
  {
   "cell_type": "markdown",
   "metadata": {},
   "source": [
    "####  Working With Date and Time"
   ]
  },
  {
   "cell_type": "code",
   "execution_count": 303,
   "metadata": {},
   "outputs": [
    {
     "name": "stdout",
     "output_type": "stream",
     "text": [
      "2024-05-15\n",
      "<class 'datetime.date'>\n"
     ]
    }
   ],
   "source": [
    "from datetime import date\n",
    "d = date(2024,5,15)\n",
    "print(d)\n",
    "print(type(d))"
   ]
  },
  {
   "cell_type": "code",
   "execution_count": 304,
   "metadata": {},
   "outputs": [
    {
     "name": "stdout",
     "output_type": "stream",
     "text": [
      "2024\n",
      "5\n",
      "15\n"
     ]
    }
   ],
   "source": [
    "#creating the Timestamp Object\n",
    "\n",
    "timestamp = pd.Timestamp('2024-05-15 13:52:00')\n",
    "\n",
    "# extracting the year from timestamp\n",
    "\n",
    "year = timestamp.year\n",
    "\n",
    "print(year)\n",
    "\n",
    "# extracting the month from timestamp\n",
    "\n",
    "month = timestamp.month\n",
    "\n",
    "print(month)\n",
    "\n",
    "# extracting the day from timestamp\n",
    "\n",
    "day = timestamp.day\n",
    "\n",
    "print(day)"
   ]
  },
  {
   "cell_type": "code",
   "execution_count": 306,
   "metadata": {},
   "outputs": [
    {
     "name": "stdout",
     "output_type": "stream",
     "text": [
      "13\n",
      "52\n",
      "2\n",
      "2\n"
     ]
    }
   ],
   "source": [
    "# extracting the hour\n",
    "hour = timestamp.hour\n",
    "print(hour)\n",
    "\n",
    "# extracting the minute\n",
    "\n",
    "minute = timestamp.minute\n",
    "\n",
    "print(minute)\n",
    "\n",
    "# extracting the weekday\n",
    "\n",
    "weekday = timestamp.weekday()\n",
    "print(weekday)\n",
    "\n",
    "# extracting the quarter\n",
    "\n",
    "quarter = timestamp.quarter\n",
    "\n",
    "print(quarter)"
   ]
  },
  {
   "cell_type": "code",
   "execution_count": 312,
   "metadata": {},
   "outputs": [
    {
     "name": "stdout",
     "output_type": "stream",
     "text": [
      "2024-05-15 14:44:39.532200\n",
      "5\n",
      "2024\n"
     ]
    }
   ],
   "source": [
    "# get the current time\n",
    "import warnings\n",
    "warnings.filterwarnings('ignore')\n",
    "from datetime import datetime\n",
    "x = pd.datetime.now()\n",
    "print(x)\n",
    "\n",
    "# extracting the month\n",
    "print(x.month)\n",
    "\n",
    "# extracting the year\n",
    "print(x.year)"
   ]
  },
  {
   "cell_type": "code",
   "execution_count": 313,
   "metadata": {},
   "outputs": [
    {
     "name": "stdout",
     "output_type": "stream",
     "text": [
      "unix_time: 1715781120.0\n"
     ]
    }
   ],
   "source": [
    "#convert timestamp to unix time\n",
    "unix_time = timestamp.timestamp()\n",
    "print(\"unix_time: {}\".format(unix_time))"
   ]
  },
  {
   "cell_type": "code",
   "execution_count": 319,
   "metadata": {},
   "outputs": [
    {
     "name": "stdout",
     "output_type": "stream",
     "text": [
      "1673746200.0\n"
     ]
    }
   ],
   "source": [
    "# convert timestamp with time zone to unix timestamp.\n",
    "\n",
    "timestamp_with_tz = pd.Timestamp(\"2023-01-15 10:30:00\", tz=\"Asia/Tokyo\")\n",
    "unix_time = timestamp_with_tz.timestamp()\n",
    "print(unix_time)"
   ]
  },
  {
   "cell_type": "code",
   "execution_count": 323,
   "metadata": {},
   "outputs": [
    {
     "data": {
      "text/html": [
       "<div>\n",
       "<style scoped>\n",
       "    .dataframe tbody tr th:only-of-type {\n",
       "        vertical-align: middle;\n",
       "    }\n",
       "\n",
       "    .dataframe tbody tr th {\n",
       "        vertical-align: top;\n",
       "    }\n",
       "\n",
       "    .dataframe thead th {\n",
       "        text-align: right;\n",
       "    }\n",
       "</style>\n",
       "<table border=\"1\" class=\"dataframe\">\n",
       "  <thead>\n",
       "    <tr style=\"text-align: right;\">\n",
       "      <th></th>\n",
       "      <th>timestamps</th>\n",
       "      <th>temprature</th>\n",
       "    </tr>\n",
       "  </thead>\n",
       "  <tbody>\n",
       "    <tr>\n",
       "      <th>0</th>\n",
       "      <td>2024-05-11 16:41:01.022825</td>\n",
       "      <td>21.2</td>\n",
       "    </tr>\n",
       "    <tr>\n",
       "      <th>1</th>\n",
       "      <td>2024-05-12 16:41:01.022825</td>\n",
       "      <td>20.5</td>\n",
       "    </tr>\n",
       "    <tr>\n",
       "      <th>2</th>\n",
       "      <td>2024-05-13 16:41:01.022825</td>\n",
       "      <td>32.7</td>\n",
       "    </tr>\n",
       "    <tr>\n",
       "      <th>3</th>\n",
       "      <td>2024-05-14 16:41:01.022825</td>\n",
       "      <td>27.5</td>\n",
       "    </tr>\n",
       "    <tr>\n",
       "      <th>4</th>\n",
       "      <td>2024-05-15 16:41:01.022825</td>\n",
       "      <td>35.6</td>\n",
       "    </tr>\n",
       "  </tbody>\n",
       "</table>\n",
       "</div>"
      ],
      "text/plain": [
       "                  timestamps  temprature\n",
       "0 2024-05-11 16:41:01.022825        21.2\n",
       "1 2024-05-12 16:41:01.022825        20.5\n",
       "2 2024-05-13 16:41:01.022825        32.7\n",
       "3 2024-05-14 16:41:01.022825        27.5\n",
       "4 2024-05-15 16:41:01.022825        35.6"
      ]
     },
     "execution_count": 323,
     "metadata": {},
     "output_type": "execute_result"
    }
   ],
   "source": [
    "# Generate Timestamps for the last 5 days\n",
    "\n",
    "timestamps = pd.date_range(end = pd.Timestamp.now(),periods = 5, freq = \"D\")\n",
    "\n",
    "# create Dataframe with timestamped data\n",
    "\n",
    "data = pd.DataFrame({'timestamps':timestamps,'temprature':[21.2,20.5,32.7,27.5,35.6]})\n",
    "\n",
    "data"
   ]
  },
  {
   "cell_type": "code",
   "execution_count": 324,
   "metadata": {},
   "outputs": [
    {
     "data": {
      "text/html": [
       "<div>\n",
       "<style scoped>\n",
       "    .dataframe tbody tr th:only-of-type {\n",
       "        vertical-align: middle;\n",
       "    }\n",
       "\n",
       "    .dataframe tbody tr th {\n",
       "        vertical-align: top;\n",
       "    }\n",
       "\n",
       "    .dataframe thead th {\n",
       "        text-align: right;\n",
       "    }\n",
       "</style>\n",
       "<table border=\"1\" class=\"dataframe\">\n",
       "  <thead>\n",
       "    <tr style=\"text-align: right;\">\n",
       "      <th></th>\n",
       "      <th>timestamps</th>\n",
       "      <th>temprature</th>\n",
       "    </tr>\n",
       "  </thead>\n",
       "  <tbody>\n",
       "    <tr>\n",
       "      <th>0</th>\n",
       "      <td>2024-05-15 16:43:50.412814</td>\n",
       "      <td>21.2</td>\n",
       "    </tr>\n",
       "    <tr>\n",
       "      <th>1</th>\n",
       "      <td>2024-05-16 16:43:50.412814</td>\n",
       "      <td>20.5</td>\n",
       "    </tr>\n",
       "    <tr>\n",
       "      <th>2</th>\n",
       "      <td>2024-05-17 16:43:50.412814</td>\n",
       "      <td>32.7</td>\n",
       "    </tr>\n",
       "    <tr>\n",
       "      <th>3</th>\n",
       "      <td>2024-05-18 16:43:50.412814</td>\n",
       "      <td>27.5</td>\n",
       "    </tr>\n",
       "    <tr>\n",
       "      <th>4</th>\n",
       "      <td>2024-05-19 16:43:50.412814</td>\n",
       "      <td>35.6</td>\n",
       "    </tr>\n",
       "  </tbody>\n",
       "</table>\n",
       "</div>"
      ],
      "text/plain": [
       "                  timestamps  temprature\n",
       "0 2024-05-15 16:43:50.412814        21.2\n",
       "1 2024-05-16 16:43:50.412814        20.5\n",
       "2 2024-05-17 16:43:50.412814        32.7\n",
       "3 2024-05-18 16:43:50.412814        27.5\n",
       "4 2024-05-19 16:43:50.412814        35.6"
      ]
     },
     "execution_count": 324,
     "metadata": {},
     "output_type": "execute_result"
    }
   ],
   "source": [
    "# Generate Timestamps for the last 5 days\n",
    "\n",
    "timestamps = pd.date_range(start = pd.Timestamp.now(),periods = 5, freq = \"D\")\n",
    "\n",
    "# create Dataframe with timestamped data\n",
    "\n",
    "data = pd.DataFrame({'timestamps':timestamps,'temprature':[21.2,20.5,32.7,27.5,35.6]})\n",
    "\n",
    "data"
   ]
  },
  {
   "cell_type": "markdown",
   "metadata": {},
   "source": [
    "#### Timestamp replace()"
   ]
  },
  {
   "cell_type": "code",
   "execution_count": 325,
   "metadata": {},
   "outputs": [
    {
     "name": "stdout",
     "output_type": "stream",
     "text": [
      "Org Timestamp : 2022-06-15 12:30:00\n",
      "modified Timestamp: 2023-10-15 12:30:00\n"
     ]
    }
   ],
   "source": [
    "# create timestamp object\n",
    "timestamp = pd.Timestamp(\"2022-06-15 12:30:00\")\n",
    "\n",
    "# replace the year and month\n",
    "modified_timestamp = timestamp.replace(year=2023, month = 10)\n",
    "\n",
    "print(\"Org Timestamp : {}\".format(timestamp))\n",
    "print(\"modified Timestamp: {}\".format(modified_timestamp))"
   ]
  },
  {
   "cell_type": "markdown",
   "metadata": {},
   "source": [
    "#### Pandas to_datetime() function is used to convert different datatypes to datetime datatype"
   ]
  },
  {
   "cell_type": "code",
   "execution_count": 332,
   "metadata": {},
   "outputs": [
    {
     "name": "stdout",
     "output_type": "stream",
     "text": [
      "2023-09-17 14:30:00\n"
     ]
    }
   ],
   "source": [
    "\n",
    "\n",
    "# date string\n",
    "d_string = \"2023-09-17 14:30:00\"\n",
    "\n",
    "# Convert the string to datetime\n",
    "dt_obj = pd.to_datetime(d_string)\n",
    "\n",
    "print(dt_obj)\n"
   ]
  },
  {
   "cell_type": "code",
   "execution_count": 333,
   "metadata": {},
   "outputs": [
    {
     "name": "stdout",
     "output_type": "stream",
     "text": [
      "2024-07-23 02:08:20\n"
     ]
    }
   ],
   "source": [
    "# simple numerical values representing seconds since the Unix epoch\n",
    "\n",
    "unix_time = 1721700500\n",
    "\n",
    "# convert the unix_time into datetime using s(second) as unit\n",
    "\n",
    "dt_obj = pd.to_datetime(unix_time,unit ='s')\n",
    "\n",
    "print(dt_obj)"
   ]
  },
  {
   "cell_type": "markdown",
   "metadata": {},
   "source": [
    "#### Sliding Window Concept: it decides the number of elements in the subsets.Sliding window is a subset of a data structure of a given point\n",
    "\n",
    "#### We don't want any windows with elements less than our window size. In this case, the window size = 3 . In this case, we make small change in our code to stop iteration when we reach the window size"
   ]
  },
  {
   "cell_type": "code",
   "execution_count": 4,
   "metadata": {},
   "outputs": [
    {
     "name": "stdout",
     "output_type": "stream",
     "text": [
      "[1, 2, 3]\n",
      "[2, 3, 4]\n",
      "[3, 4, 5]\n",
      "[4, 5, 6]\n",
      "[5, 6, 7]\n",
      "[6, 7, 8]\n",
      "[7, 8]\n",
      "[8]\n",
      "calling from sliding1:\n",
      "[1, 2, 3]\n",
      "[2, 3, 4]\n",
      "[3, 4, 5]\n",
      "[4, 5, 6]\n",
      "[5, 6, 7]\n",
      "[6, 7, 8]\n"
     ]
    }
   ],
   "source": [
    "lst = [1,2,3,4,5,6,7,8]\n",
    "\n",
    "def sliding(elements,window_size):\n",
    "    \n",
    "    if len(elements)<=window_size:\n",
    "        return elements\n",
    "    for i in range(len(elements)):\n",
    "        print(lst[i:i+window_size])\n",
    "\n",
    "def sliding1(lst,window_size):\n",
    "    print(\"calling from sliding1:\")\n",
    "    if len(lst)<=window_size:\n",
    "        return lst\n",
    "    for i in range(len(lst)-window_size+1):\n",
    "        print(lst[i:i+window_size])\n",
    "\n",
    "sliding(lst,3)\n",
    "sliding1(lst,3)"
   ]
  },
  {
   "cell_type": "markdown",
   "metadata": {},
   "source": [
    "### Sliding window to calculate substring"
   ]
  },
  {
   "cell_type": "code",
   "execution_count": 6,
   "metadata": {},
   "outputs": [
    {
     "name": "stdout",
     "output_type": "stream",
     "text": [
      "ei\n",
      "id\n",
      "db\n",
      "ba\n",
      "ao\n",
      "oo\n",
      "oo\n"
     ]
    }
   ],
   "source": [
    "s = \"eidbaooo\"\n",
    "\n",
    "def substring_bysliding_window(s,window_size):\n",
    "    if len(s)<=window_size:\n",
    "        return s\n",
    "    for i in range(len(s)-window_size+1):\n",
    "        print(s[i:i+window_size])\n",
    "\n",
    "substring_bysliding_window(s,2)\n"
   ]
  },
  {
   "cell_type": "code",
   "execution_count": 13,
   "metadata": {},
   "outputs": [
    {
     "name": "stdout",
     "output_type": "stream",
     "text": [
      "Pandas series:\n",
      " 0      0\n",
      "1      2\n",
      "2      4\n",
      "3      6\n",
      "4      8\n",
      "5     10\n",
      "6     12\n",
      "7     14\n",
      "8     16\n",
      "9     18\n",
      "10    20\n",
      "11    22\n",
      "12    24\n",
      "13    26\n",
      "14    28\n",
      "15    30\n",
      "16    32\n",
      "17    34\n",
      "18    36\n",
      "19    38\n",
      "dtype: int64\n",
      "0      NaN\n",
      "1      NaN\n",
      "2      NaN\n",
      "3      NaN\n",
      "4      4.0\n",
      "5      6.0\n",
      "6      8.0\n",
      "7     10.0\n",
      "8     12.0\n",
      "9     14.0\n",
      "10    16.0\n",
      "11    18.0\n",
      "12    20.0\n",
      "13    22.0\n",
      "14    24.0\n",
      "15    26.0\n",
      "16    28.0\n",
      "17    30.0\n",
      "18    32.0\n",
      "19    34.0\n",
      "dtype: float64\n"
     ]
    }
   ],
   "source": [
    "import pandas as pd\n",
    "\n",
    "# Create a pandas series\n",
    "ts = pd.Series(range(0, 40, 2))\n",
    "\n",
    "# print the series\n",
    "\n",
    "print(\"Pandas series:\\n\",ts)\n",
    "# creating the rolling window of size 5 and clculating the mean\n",
    "rolling_mean = ts.rolling(window=5).mean()\n",
    "\n",
    "# print the rolling_mean\n",
    "\n",
    "print(rolling_mean)"
   ]
  }
 ],
 "metadata": {
  "kernelspec": {
   "display_name": "Python 3",
   "language": "python",
   "name": "python3"
  },
  "language_info": {
   "codemirror_mode": {
    "name": "ipython",
    "version": 3
   },
   "file_extension": ".py",
   "mimetype": "text/x-python",
   "name": "python",
   "nbconvert_exporter": "python",
   "pygments_lexer": "ipython3",
   "version": "3.6.5"
  }
 },
 "nbformat": 4,
 "nbformat_minor": 2
}
