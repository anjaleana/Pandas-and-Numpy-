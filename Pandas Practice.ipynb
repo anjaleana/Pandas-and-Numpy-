{
 "cells": [
  {
   "cell_type": "code",
   "execution_count": 7,
   "metadata": {},
   "outputs": [
    {
     "data": {
      "text/html": [
       "<div>\n",
       "<style scoped>\n",
       "    .dataframe tbody tr th:only-of-type {\n",
       "        vertical-align: middle;\n",
       "    }\n",
       "\n",
       "    .dataframe tbody tr th {\n",
       "        vertical-align: top;\n",
       "    }\n",
       "\n",
       "    .dataframe thead th {\n",
       "        text-align: right;\n",
       "    }\n",
       "</style>\n",
       "<table border=\"1\" class=\"dataframe\">\n",
       "  <thead>\n",
       "    <tr style=\"text-align: right;\">\n",
       "      <th></th>\n",
       "      <th>Region</th>\n",
       "      <th>Country</th>\n",
       "      <th>Item Type</th>\n",
       "      <th>Sales Channel</th>\n",
       "      <th>Order Priority</th>\n",
       "      <th>Order Date</th>\n",
       "      <th>Order ID</th>\n",
       "      <th>Ship Date</th>\n",
       "      <th>Units Sold</th>\n",
       "      <th>Unit Price</th>\n",
       "      <th>Unit Cost</th>\n",
       "      <th>Total Revenue</th>\n",
       "      <th>Total Cost</th>\n",
       "      <th>Total Profit</th>\n",
       "    </tr>\n",
       "  </thead>\n",
       "  <tbody>\n",
       "    <tr>\n",
       "      <th>0</th>\n",
       "      <td>Australia and Oceania</td>\n",
       "      <td>Tuvalu</td>\n",
       "      <td>Baby Food</td>\n",
       "      <td>Offline</td>\n",
       "      <td>H</td>\n",
       "      <td>5/28/2010</td>\n",
       "      <td>669165933</td>\n",
       "      <td>6/27/2010</td>\n",
       "      <td>9925</td>\n",
       "      <td>255.28</td>\n",
       "      <td>159.42</td>\n",
       "      <td>2533654.00</td>\n",
       "      <td>1582243.50</td>\n",
       "      <td>951410.50</td>\n",
       "    </tr>\n",
       "    <tr>\n",
       "      <th>1</th>\n",
       "      <td>Central America and the Caribbean</td>\n",
       "      <td>Grenada</td>\n",
       "      <td>Cereal</td>\n",
       "      <td>Online</td>\n",
       "      <td>C</td>\n",
       "      <td>8/22/2012</td>\n",
       "      <td>963881480</td>\n",
       "      <td>9/15/2012</td>\n",
       "      <td>2804</td>\n",
       "      <td>205.70</td>\n",
       "      <td>117.11</td>\n",
       "      <td>576782.80</td>\n",
       "      <td>328376.44</td>\n",
       "      <td>248406.36</td>\n",
       "    </tr>\n",
       "    <tr>\n",
       "      <th>2</th>\n",
       "      <td>Europe</td>\n",
       "      <td>Russia</td>\n",
       "      <td>Office Supplies</td>\n",
       "      <td>Offline</td>\n",
       "      <td>L</td>\n",
       "      <td>5/2/2014</td>\n",
       "      <td>341417157</td>\n",
       "      <td>5/8/2014</td>\n",
       "      <td>1779</td>\n",
       "      <td>651.21</td>\n",
       "      <td>524.96</td>\n",
       "      <td>1158502.59</td>\n",
       "      <td>933903.84</td>\n",
       "      <td>224598.75</td>\n",
       "    </tr>\n",
       "    <tr>\n",
       "      <th>3</th>\n",
       "      <td>Sub-Saharan Africa</td>\n",
       "      <td>Sao Tome and Principe</td>\n",
       "      <td>Fruits</td>\n",
       "      <td>Online</td>\n",
       "      <td>C</td>\n",
       "      <td>6/20/2014</td>\n",
       "      <td>514321792</td>\n",
       "      <td>7/5/2014</td>\n",
       "      <td>8102</td>\n",
       "      <td>9.33</td>\n",
       "      <td>6.92</td>\n",
       "      <td>75591.66</td>\n",
       "      <td>56065.84</td>\n",
       "      <td>19525.82</td>\n",
       "    </tr>\n",
       "    <tr>\n",
       "      <th>4</th>\n",
       "      <td>Sub-Saharan Africa</td>\n",
       "      <td>Rwanda</td>\n",
       "      <td>Office Supplies</td>\n",
       "      <td>Offline</td>\n",
       "      <td>L</td>\n",
       "      <td>2/1/2013</td>\n",
       "      <td>115456712</td>\n",
       "      <td>2/6/2013</td>\n",
       "      <td>5062</td>\n",
       "      <td>651.21</td>\n",
       "      <td>524.96</td>\n",
       "      <td>3296425.02</td>\n",
       "      <td>2657347.52</td>\n",
       "      <td>639077.50</td>\n",
       "    </tr>\n",
       "    <tr>\n",
       "      <th>5</th>\n",
       "      <td>Australia and Oceania</td>\n",
       "      <td>Solomon Islands</td>\n",
       "      <td>Baby Food</td>\n",
       "      <td>Online</td>\n",
       "      <td>C</td>\n",
       "      <td>2/4/2015</td>\n",
       "      <td>547995746</td>\n",
       "      <td>2/21/2015</td>\n",
       "      <td>2974</td>\n",
       "      <td>255.28</td>\n",
       "      <td>159.42</td>\n",
       "      <td>759202.72</td>\n",
       "      <td>474115.08</td>\n",
       "      <td>285087.64</td>\n",
       "    </tr>\n",
       "    <tr>\n",
       "      <th>6</th>\n",
       "      <td>Sub-Saharan Africa</td>\n",
       "      <td>Angola</td>\n",
       "      <td>Household</td>\n",
       "      <td>Offline</td>\n",
       "      <td>M</td>\n",
       "      <td>4/23/2011</td>\n",
       "      <td>135425221</td>\n",
       "      <td>4/27/2011</td>\n",
       "      <td>4187</td>\n",
       "      <td>668.27</td>\n",
       "      <td>502.54</td>\n",
       "      <td>2798046.49</td>\n",
       "      <td>2104134.98</td>\n",
       "      <td>693911.51</td>\n",
       "    </tr>\n",
       "    <tr>\n",
       "      <th>7</th>\n",
       "      <td>Sub-Saharan Africa</td>\n",
       "      <td>Burkina Faso</td>\n",
       "      <td>Vegetables</td>\n",
       "      <td>Online</td>\n",
       "      <td>H</td>\n",
       "      <td>7/17/2012</td>\n",
       "      <td>871543967</td>\n",
       "      <td>7/27/2012</td>\n",
       "      <td>8082</td>\n",
       "      <td>154.06</td>\n",
       "      <td>90.93</td>\n",
       "      <td>1245112.92</td>\n",
       "      <td>734896.26</td>\n",
       "      <td>510216.66</td>\n",
       "    </tr>\n",
       "    <tr>\n",
       "      <th>8</th>\n",
       "      <td>Sub-Saharan Africa</td>\n",
       "      <td>Republic of the Congo</td>\n",
       "      <td>Personal Care</td>\n",
       "      <td>Offline</td>\n",
       "      <td>M</td>\n",
       "      <td>7/14/2015</td>\n",
       "      <td>770463311</td>\n",
       "      <td>8/25/2015</td>\n",
       "      <td>6070</td>\n",
       "      <td>81.73</td>\n",
       "      <td>56.67</td>\n",
       "      <td>496101.10</td>\n",
       "      <td>343986.90</td>\n",
       "      <td>152114.20</td>\n",
       "    </tr>\n",
       "    <tr>\n",
       "      <th>9</th>\n",
       "      <td>Sub-Saharan Africa</td>\n",
       "      <td>Senegal</td>\n",
       "      <td>Cereal</td>\n",
       "      <td>Online</td>\n",
       "      <td>H</td>\n",
       "      <td>4/18/2014</td>\n",
       "      <td>616607081</td>\n",
       "      <td>5/30/2014</td>\n",
       "      <td>6593</td>\n",
       "      <td>205.70</td>\n",
       "      <td>117.11</td>\n",
       "      <td>1356180.10</td>\n",
       "      <td>772106.23</td>\n",
       "      <td>584073.87</td>\n",
       "    </tr>\n",
       "    <tr>\n",
       "      <th>10</th>\n",
       "      <td>Asia</td>\n",
       "      <td>Kyrgyzstan</td>\n",
       "      <td>Vegetables</td>\n",
       "      <td>Online</td>\n",
       "      <td>H</td>\n",
       "      <td>6/24/2011</td>\n",
       "      <td>814711606</td>\n",
       "      <td>7/12/2011</td>\n",
       "      <td>124</td>\n",
       "      <td>154.06</td>\n",
       "      <td>90.93</td>\n",
       "      <td>19103.44</td>\n",
       "      <td>11275.32</td>\n",
       "      <td>7828.12</td>\n",
       "    </tr>\n",
       "    <tr>\n",
       "      <th>11</th>\n",
       "      <td>Sub-Saharan Africa</td>\n",
       "      <td>Cape Verde</td>\n",
       "      <td>Clothes</td>\n",
       "      <td>Offline</td>\n",
       "      <td>H</td>\n",
       "      <td>8/2/2014</td>\n",
       "      <td>939825713</td>\n",
       "      <td>8/19/2014</td>\n",
       "      <td>4168</td>\n",
       "      <td>109.28</td>\n",
       "      <td>35.84</td>\n",
       "      <td>455479.04</td>\n",
       "      <td>149381.12</td>\n",
       "      <td>306097.92</td>\n",
       "    </tr>\n",
       "    <tr>\n",
       "      <th>12</th>\n",
       "      <td>Asia</td>\n",
       "      <td>Bangladesh</td>\n",
       "      <td>Clothes</td>\n",
       "      <td>Online</td>\n",
       "      <td>L</td>\n",
       "      <td>1/13/2017</td>\n",
       "      <td>187310731</td>\n",
       "      <td>3/1/2017</td>\n",
       "      <td>8263</td>\n",
       "      <td>109.28</td>\n",
       "      <td>35.84</td>\n",
       "      <td>902980.64</td>\n",
       "      <td>296145.92</td>\n",
       "      <td>606834.72</td>\n",
       "    </tr>\n",
       "    <tr>\n",
       "      <th>13</th>\n",
       "      <td>Central America and the Caribbean</td>\n",
       "      <td>Honduras</td>\n",
       "      <td>Household</td>\n",
       "      <td>Offline</td>\n",
       "      <td>H</td>\n",
       "      <td>2/8/2017</td>\n",
       "      <td>522840487</td>\n",
       "      <td>2/13/2017</td>\n",
       "      <td>8974</td>\n",
       "      <td>668.27</td>\n",
       "      <td>502.54</td>\n",
       "      <td>5997054.98</td>\n",
       "      <td>4509793.96</td>\n",
       "      <td>1487261.02</td>\n",
       "    </tr>\n",
       "    <tr>\n",
       "      <th>14</th>\n",
       "      <td>Asia</td>\n",
       "      <td>Mongolia</td>\n",
       "      <td>Personal Care</td>\n",
       "      <td>Offline</td>\n",
       "      <td>C</td>\n",
       "      <td>2/19/2014</td>\n",
       "      <td>832401311</td>\n",
       "      <td>2/23/2014</td>\n",
       "      <td>4901</td>\n",
       "      <td>81.73</td>\n",
       "      <td>56.67</td>\n",
       "      <td>400558.73</td>\n",
       "      <td>277739.67</td>\n",
       "      <td>122819.06</td>\n",
       "    </tr>\n",
       "    <tr>\n",
       "      <th>15</th>\n",
       "      <td>Europe</td>\n",
       "      <td>Bulgaria</td>\n",
       "      <td>Clothes</td>\n",
       "      <td>Online</td>\n",
       "      <td>M</td>\n",
       "      <td>4/23/2012</td>\n",
       "      <td>972292029</td>\n",
       "      <td>6/3/2012</td>\n",
       "      <td>1673</td>\n",
       "      <td>109.28</td>\n",
       "      <td>35.84</td>\n",
       "      <td>182825.44</td>\n",
       "      <td>59960.32</td>\n",
       "      <td>122865.12</td>\n",
       "    </tr>\n",
       "    <tr>\n",
       "      <th>16</th>\n",
       "      <td>Asia</td>\n",
       "      <td>Sri Lanka</td>\n",
       "      <td>Cosmetics</td>\n",
       "      <td>Offline</td>\n",
       "      <td>M</td>\n",
       "      <td>11/19/2016</td>\n",
       "      <td>419123971</td>\n",
       "      <td>12/18/2016</td>\n",
       "      <td>6952</td>\n",
       "      <td>437.20</td>\n",
       "      <td>263.33</td>\n",
       "      <td>3039414.40</td>\n",
       "      <td>1830670.16</td>\n",
       "      <td>1208744.24</td>\n",
       "    </tr>\n",
       "    <tr>\n",
       "      <th>17</th>\n",
       "      <td>Sub-Saharan Africa</td>\n",
       "      <td>Cameroon</td>\n",
       "      <td>Beverages</td>\n",
       "      <td>Offline</td>\n",
       "      <td>C</td>\n",
       "      <td>4/1/2015</td>\n",
       "      <td>519820964</td>\n",
       "      <td>4/18/2015</td>\n",
       "      <td>5430</td>\n",
       "      <td>47.45</td>\n",
       "      <td>31.79</td>\n",
       "      <td>257653.50</td>\n",
       "      <td>172619.70</td>\n",
       "      <td>85033.80</td>\n",
       "    </tr>\n",
       "    <tr>\n",
       "      <th>18</th>\n",
       "      <td>Asia</td>\n",
       "      <td>Turkmenistan</td>\n",
       "      <td>Household</td>\n",
       "      <td>Offline</td>\n",
       "      <td>L</td>\n",
       "      <td>12/30/2010</td>\n",
       "      <td>441619336</td>\n",
       "      <td>1/20/2011</td>\n",
       "      <td>3830</td>\n",
       "      <td>668.27</td>\n",
       "      <td>502.54</td>\n",
       "      <td>2559474.10</td>\n",
       "      <td>1924728.20</td>\n",
       "      <td>634745.90</td>\n",
       "    </tr>\n",
       "    <tr>\n",
       "      <th>19</th>\n",
       "      <td>Australia and Oceania</td>\n",
       "      <td>East Timor</td>\n",
       "      <td>Meat</td>\n",
       "      <td>Online</td>\n",
       "      <td>L</td>\n",
       "      <td>7/31/2012</td>\n",
       "      <td>322067916</td>\n",
       "      <td>9/11/2012</td>\n",
       "      <td>5908</td>\n",
       "      <td>421.89</td>\n",
       "      <td>364.69</td>\n",
       "      <td>2492526.12</td>\n",
       "      <td>2154588.52</td>\n",
       "      <td>337937.60</td>\n",
       "    </tr>\n",
       "    <tr>\n",
       "      <th>20</th>\n",
       "      <td>Europe</td>\n",
       "      <td>Norway</td>\n",
       "      <td>Baby Food</td>\n",
       "      <td>Online</td>\n",
       "      <td>L</td>\n",
       "      <td>5/14/2014</td>\n",
       "      <td>819028031</td>\n",
       "      <td>6/28/2014</td>\n",
       "      <td>7450</td>\n",
       "      <td>255.28</td>\n",
       "      <td>159.42</td>\n",
       "      <td>1901836.00</td>\n",
       "      <td>1187679.00</td>\n",
       "      <td>714157.00</td>\n",
       "    </tr>\n",
       "    <tr>\n",
       "      <th>21</th>\n",
       "      <td>Europe</td>\n",
       "      <td>Portugal</td>\n",
       "      <td>Baby Food</td>\n",
       "      <td>Online</td>\n",
       "      <td>H</td>\n",
       "      <td>7/31/2015</td>\n",
       "      <td>860673511</td>\n",
       "      <td>9/3/2015</td>\n",
       "      <td>1273</td>\n",
       "      <td>255.28</td>\n",
       "      <td>159.42</td>\n",
       "      <td>324971.44</td>\n",
       "      <td>202941.66</td>\n",
       "      <td>122029.78</td>\n",
       "    </tr>\n",
       "    <tr>\n",
       "      <th>22</th>\n",
       "      <td>Central America and the Caribbean</td>\n",
       "      <td>Honduras</td>\n",
       "      <td>Snacks</td>\n",
       "      <td>Online</td>\n",
       "      <td>L</td>\n",
       "      <td>6/30/2016</td>\n",
       "      <td>795490682</td>\n",
       "      <td>7/26/2016</td>\n",
       "      <td>2225</td>\n",
       "      <td>152.58</td>\n",
       "      <td>97.44</td>\n",
       "      <td>339490.50</td>\n",
       "      <td>216804.00</td>\n",
       "      <td>122686.50</td>\n",
       "    </tr>\n",
       "    <tr>\n",
       "      <th>23</th>\n",
       "      <td>Australia and Oceania</td>\n",
       "      <td>New Zealand</td>\n",
       "      <td>Fruits</td>\n",
       "      <td>Online</td>\n",
       "      <td>H</td>\n",
       "      <td>9/8/2014</td>\n",
       "      <td>142278373</td>\n",
       "      <td>10/4/2014</td>\n",
       "      <td>2187</td>\n",
       "      <td>9.33</td>\n",
       "      <td>6.92</td>\n",
       "      <td>20404.71</td>\n",
       "      <td>15134.04</td>\n",
       "      <td>5270.67</td>\n",
       "    </tr>\n",
       "    <tr>\n",
       "      <th>24</th>\n",
       "      <td>Europe</td>\n",
       "      <td>Moldova</td>\n",
       "      <td>Personal Care</td>\n",
       "      <td>Online</td>\n",
       "      <td>L</td>\n",
       "      <td>5/7/2016</td>\n",
       "      <td>740147912</td>\n",
       "      <td>5/10/2016</td>\n",
       "      <td>5070</td>\n",
       "      <td>81.73</td>\n",
       "      <td>56.67</td>\n",
       "      <td>414371.10</td>\n",
       "      <td>287316.90</td>\n",
       "      <td>127054.20</td>\n",
       "    </tr>\n",
       "    <tr>\n",
       "      <th>25</th>\n",
       "      <td>Europe</td>\n",
       "      <td>France</td>\n",
       "      <td>Cosmetics</td>\n",
       "      <td>Online</td>\n",
       "      <td>H</td>\n",
       "      <td>5/22/2017</td>\n",
       "      <td>898523128</td>\n",
       "      <td>6/5/2017</td>\n",
       "      <td>1815</td>\n",
       "      <td>437.20</td>\n",
       "      <td>263.33</td>\n",
       "      <td>793518.00</td>\n",
       "      <td>477943.95</td>\n",
       "      <td>315574.05</td>\n",
       "    </tr>\n",
       "    <tr>\n",
       "      <th>26</th>\n",
       "      <td>Australia and Oceania</td>\n",
       "      <td>Kiribati</td>\n",
       "      <td>Fruits</td>\n",
       "      <td>Online</td>\n",
       "      <td>M</td>\n",
       "      <td>10/13/2014</td>\n",
       "      <td>347140347</td>\n",
       "      <td>11/10/2014</td>\n",
       "      <td>5398</td>\n",
       "      <td>9.33</td>\n",
       "      <td>6.92</td>\n",
       "      <td>50363.34</td>\n",
       "      <td>37354.16</td>\n",
       "      <td>13009.18</td>\n",
       "    </tr>\n",
       "    <tr>\n",
       "      <th>27</th>\n",
       "      <td>Sub-Saharan Africa</td>\n",
       "      <td>Mali</td>\n",
       "      <td>Fruits</td>\n",
       "      <td>Online</td>\n",
       "      <td>L</td>\n",
       "      <td>5/7/2010</td>\n",
       "      <td>686048400</td>\n",
       "      <td>5/10/2010</td>\n",
       "      <td>5822</td>\n",
       "      <td>9.33</td>\n",
       "      <td>6.92</td>\n",
       "      <td>54319.26</td>\n",
       "      <td>40288.24</td>\n",
       "      <td>14031.02</td>\n",
       "    </tr>\n",
       "    <tr>\n",
       "      <th>28</th>\n",
       "      <td>Europe</td>\n",
       "      <td>Norway</td>\n",
       "      <td>Beverages</td>\n",
       "      <td>Offline</td>\n",
       "      <td>C</td>\n",
       "      <td>7/18/2014</td>\n",
       "      <td>435608613</td>\n",
       "      <td>7/30/2014</td>\n",
       "      <td>5124</td>\n",
       "      <td>47.45</td>\n",
       "      <td>31.79</td>\n",
       "      <td>243133.80</td>\n",
       "      <td>162891.96</td>\n",
       "      <td>80241.84</td>\n",
       "    </tr>\n",
       "    <tr>\n",
       "      <th>29</th>\n",
       "      <td>Sub-Saharan Africa</td>\n",
       "      <td>The Gambia</td>\n",
       "      <td>Household</td>\n",
       "      <td>Offline</td>\n",
       "      <td>L</td>\n",
       "      <td>5/26/2012</td>\n",
       "      <td>886494815</td>\n",
       "      <td>6/9/2012</td>\n",
       "      <td>2370</td>\n",
       "      <td>668.27</td>\n",
       "      <td>502.54</td>\n",
       "      <td>1583799.90</td>\n",
       "      <td>1191019.80</td>\n",
       "      <td>392780.10</td>\n",
       "    </tr>\n",
       "    <tr>\n",
       "      <th>...</th>\n",
       "      <td>...</td>\n",
       "      <td>...</td>\n",
       "      <td>...</td>\n",
       "      <td>...</td>\n",
       "      <td>...</td>\n",
       "      <td>...</td>\n",
       "      <td>...</td>\n",
       "      <td>...</td>\n",
       "      <td>...</td>\n",
       "      <td>...</td>\n",
       "      <td>...</td>\n",
       "      <td>...</td>\n",
       "      <td>...</td>\n",
       "      <td>...</td>\n",
       "    </tr>\n",
       "    <tr>\n",
       "      <th>70</th>\n",
       "      <td>Asia</td>\n",
       "      <td>Turkmenistan</td>\n",
       "      <td>Office Supplies</td>\n",
       "      <td>Online</td>\n",
       "      <td>M</td>\n",
       "      <td>4/23/2013</td>\n",
       "      <td>462405812</td>\n",
       "      <td>5/20/2013</td>\n",
       "      <td>5010</td>\n",
       "      <td>651.21</td>\n",
       "      <td>524.96</td>\n",
       "      <td>3262562.10</td>\n",
       "      <td>2630049.60</td>\n",
       "      <td>632512.50</td>\n",
       "    </tr>\n",
       "    <tr>\n",
       "      <th>71</th>\n",
       "      <td>Middle East and North Africa</td>\n",
       "      <td>Libya</td>\n",
       "      <td>Fruits</td>\n",
       "      <td>Online</td>\n",
       "      <td>L</td>\n",
       "      <td>8/14/2015</td>\n",
       "      <td>816200339</td>\n",
       "      <td>9/30/2015</td>\n",
       "      <td>673</td>\n",
       "      <td>9.33</td>\n",
       "      <td>6.92</td>\n",
       "      <td>6279.09</td>\n",
       "      <td>4657.16</td>\n",
       "      <td>1621.93</td>\n",
       "    </tr>\n",
       "    <tr>\n",
       "      <th>72</th>\n",
       "      <td>Sub-Saharan Africa</td>\n",
       "      <td>Democratic Republic of the Congo</td>\n",
       "      <td>Beverages</td>\n",
       "      <td>Online</td>\n",
       "      <td>C</td>\n",
       "      <td>5/26/2011</td>\n",
       "      <td>585920464</td>\n",
       "      <td>7/15/2011</td>\n",
       "      <td>5741</td>\n",
       "      <td>47.45</td>\n",
       "      <td>31.79</td>\n",
       "      <td>272410.45</td>\n",
       "      <td>182506.39</td>\n",
       "      <td>89904.06</td>\n",
       "    </tr>\n",
       "    <tr>\n",
       "      <th>73</th>\n",
       "      <td>Sub-Saharan Africa</td>\n",
       "      <td>Djibouti</td>\n",
       "      <td>Cereal</td>\n",
       "      <td>Online</td>\n",
       "      <td>H</td>\n",
       "      <td>5/20/2017</td>\n",
       "      <td>555990016</td>\n",
       "      <td>6/17/2017</td>\n",
       "      <td>8656</td>\n",
       "      <td>205.70</td>\n",
       "      <td>117.11</td>\n",
       "      <td>1780539.20</td>\n",
       "      <td>1013704.16</td>\n",
       "      <td>766835.04</td>\n",
       "    </tr>\n",
       "    <tr>\n",
       "      <th>74</th>\n",
       "      <td>Middle East and North Africa</td>\n",
       "      <td>Pakistan</td>\n",
       "      <td>Cosmetics</td>\n",
       "      <td>Offline</td>\n",
       "      <td>L</td>\n",
       "      <td>7/5/2013</td>\n",
       "      <td>231145322</td>\n",
       "      <td>8/16/2013</td>\n",
       "      <td>9892</td>\n",
       "      <td>437.20</td>\n",
       "      <td>263.33</td>\n",
       "      <td>4324782.40</td>\n",
       "      <td>2604860.36</td>\n",
       "      <td>1719922.04</td>\n",
       "    </tr>\n",
       "    <tr>\n",
       "      <th>75</th>\n",
       "      <td>North America</td>\n",
       "      <td>Mexico</td>\n",
       "      <td>Household</td>\n",
       "      <td>Offline</td>\n",
       "      <td>C</td>\n",
       "      <td>11/6/2014</td>\n",
       "      <td>986435210</td>\n",
       "      <td>12/12/2014</td>\n",
       "      <td>6954</td>\n",
       "      <td>668.27</td>\n",
       "      <td>502.54</td>\n",
       "      <td>4647149.58</td>\n",
       "      <td>3494663.16</td>\n",
       "      <td>1152486.42</td>\n",
       "    </tr>\n",
       "    <tr>\n",
       "      <th>76</th>\n",
       "      <td>Australia and Oceania</td>\n",
       "      <td>Federated States of Micronesia</td>\n",
       "      <td>Beverages</td>\n",
       "      <td>Online</td>\n",
       "      <td>C</td>\n",
       "      <td>10/28/2014</td>\n",
       "      <td>217221009</td>\n",
       "      <td>11/15/2014</td>\n",
       "      <td>9379</td>\n",
       "      <td>47.45</td>\n",
       "      <td>31.79</td>\n",
       "      <td>445033.55</td>\n",
       "      <td>298158.41</td>\n",
       "      <td>146875.14</td>\n",
       "    </tr>\n",
       "    <tr>\n",
       "      <th>77</th>\n",
       "      <td>Asia</td>\n",
       "      <td>Laos</td>\n",
       "      <td>Vegetables</td>\n",
       "      <td>Offline</td>\n",
       "      <td>C</td>\n",
       "      <td>9/15/2011</td>\n",
       "      <td>789176547</td>\n",
       "      <td>10/23/2011</td>\n",
       "      <td>3732</td>\n",
       "      <td>154.06</td>\n",
       "      <td>90.93</td>\n",
       "      <td>574951.92</td>\n",
       "      <td>339350.76</td>\n",
       "      <td>235601.16</td>\n",
       "    </tr>\n",
       "    <tr>\n",
       "      <th>78</th>\n",
       "      <td>Europe</td>\n",
       "      <td>Monaco</td>\n",
       "      <td>Baby Food</td>\n",
       "      <td>Offline</td>\n",
       "      <td>H</td>\n",
       "      <td>5/29/2012</td>\n",
       "      <td>688288152</td>\n",
       "      <td>6/2/2012</td>\n",
       "      <td>8614</td>\n",
       "      <td>255.28</td>\n",
       "      <td>159.42</td>\n",
       "      <td>2198981.92</td>\n",
       "      <td>1373243.88</td>\n",
       "      <td>825738.04</td>\n",
       "    </tr>\n",
       "    <tr>\n",
       "      <th>79</th>\n",
       "      <td>Australia and Oceania</td>\n",
       "      <td>Samoa</td>\n",
       "      <td>Cosmetics</td>\n",
       "      <td>Online</td>\n",
       "      <td>H</td>\n",
       "      <td>7/20/2013</td>\n",
       "      <td>670854651</td>\n",
       "      <td>8/7/2013</td>\n",
       "      <td>9654</td>\n",
       "      <td>437.20</td>\n",
       "      <td>263.33</td>\n",
       "      <td>4220728.80</td>\n",
       "      <td>2542187.82</td>\n",
       "      <td>1678540.98</td>\n",
       "    </tr>\n",
       "    <tr>\n",
       "      <th>80</th>\n",
       "      <td>Europe</td>\n",
       "      <td>Spain</td>\n",
       "      <td>Household</td>\n",
       "      <td>Offline</td>\n",
       "      <td>L</td>\n",
       "      <td>10/21/2012</td>\n",
       "      <td>213487374</td>\n",
       "      <td>11/30/2012</td>\n",
       "      <td>4513</td>\n",
       "      <td>668.27</td>\n",
       "      <td>502.54</td>\n",
       "      <td>3015902.51</td>\n",
       "      <td>2267963.02</td>\n",
       "      <td>747939.49</td>\n",
       "    </tr>\n",
       "    <tr>\n",
       "      <th>81</th>\n",
       "      <td>Middle East and North Africa</td>\n",
       "      <td>Lebanon</td>\n",
       "      <td>Clothes</td>\n",
       "      <td>Online</td>\n",
       "      <td>L</td>\n",
       "      <td>9/18/2012</td>\n",
       "      <td>663110148</td>\n",
       "      <td>10/8/2012</td>\n",
       "      <td>7884</td>\n",
       "      <td>109.28</td>\n",
       "      <td>35.84</td>\n",
       "      <td>861563.52</td>\n",
       "      <td>282562.56</td>\n",
       "      <td>579000.96</td>\n",
       "    </tr>\n",
       "    <tr>\n",
       "      <th>82</th>\n",
       "      <td>Middle East and North Africa</td>\n",
       "      <td>Iran</td>\n",
       "      <td>Cosmetics</td>\n",
       "      <td>Online</td>\n",
       "      <td>H</td>\n",
       "      <td>11/15/2016</td>\n",
       "      <td>286959302</td>\n",
       "      <td>12/8/2016</td>\n",
       "      <td>6489</td>\n",
       "      <td>437.20</td>\n",
       "      <td>263.33</td>\n",
       "      <td>2836990.80</td>\n",
       "      <td>1708748.37</td>\n",
       "      <td>1128242.43</td>\n",
       "    </tr>\n",
       "    <tr>\n",
       "      <th>83</th>\n",
       "      <td>Sub-Saharan Africa</td>\n",
       "      <td>Zambia</td>\n",
       "      <td>Snacks</td>\n",
       "      <td>Online</td>\n",
       "      <td>L</td>\n",
       "      <td>1/4/2011</td>\n",
       "      <td>122583663</td>\n",
       "      <td>1/5/2011</td>\n",
       "      <td>4085</td>\n",
       "      <td>152.58</td>\n",
       "      <td>97.44</td>\n",
       "      <td>623289.30</td>\n",
       "      <td>398042.40</td>\n",
       "      <td>225246.90</td>\n",
       "    </tr>\n",
       "    <tr>\n",
       "      <th>84</th>\n",
       "      <td>Sub-Saharan Africa</td>\n",
       "      <td>Kenya</td>\n",
       "      <td>Vegetables</td>\n",
       "      <td>Online</td>\n",
       "      <td>L</td>\n",
       "      <td>3/18/2012</td>\n",
       "      <td>827844560</td>\n",
       "      <td>4/7/2012</td>\n",
       "      <td>6457</td>\n",
       "      <td>154.06</td>\n",
       "      <td>90.93</td>\n",
       "      <td>994765.42</td>\n",
       "      <td>587135.01</td>\n",
       "      <td>407630.41</td>\n",
       "    </tr>\n",
       "    <tr>\n",
       "      <th>85</th>\n",
       "      <td>North America</td>\n",
       "      <td>Mexico</td>\n",
       "      <td>Personal Care</td>\n",
       "      <td>Offline</td>\n",
       "      <td>L</td>\n",
       "      <td>2/17/2012</td>\n",
       "      <td>430915820</td>\n",
       "      <td>3/20/2012</td>\n",
       "      <td>6422</td>\n",
       "      <td>81.73</td>\n",
       "      <td>56.67</td>\n",
       "      <td>524870.06</td>\n",
       "      <td>363934.74</td>\n",
       "      <td>160935.32</td>\n",
       "    </tr>\n",
       "    <tr>\n",
       "      <th>86</th>\n",
       "      <td>Sub-Saharan Africa</td>\n",
       "      <td>Sao Tome and Principe</td>\n",
       "      <td>Beverages</td>\n",
       "      <td>Offline</td>\n",
       "      <td>C</td>\n",
       "      <td>1/16/2011</td>\n",
       "      <td>180283772</td>\n",
       "      <td>1/21/2011</td>\n",
       "      <td>8829</td>\n",
       "      <td>47.45</td>\n",
       "      <td>31.79</td>\n",
       "      <td>418936.05</td>\n",
       "      <td>280673.91</td>\n",
       "      <td>138262.14</td>\n",
       "    </tr>\n",
       "    <tr>\n",
       "      <th>87</th>\n",
       "      <td>Sub-Saharan Africa</td>\n",
       "      <td>The Gambia</td>\n",
       "      <td>Baby Food</td>\n",
       "      <td>Offline</td>\n",
       "      <td>M</td>\n",
       "      <td>2/3/2014</td>\n",
       "      <td>494747245</td>\n",
       "      <td>3/20/2014</td>\n",
       "      <td>5559</td>\n",
       "      <td>255.28</td>\n",
       "      <td>159.42</td>\n",
       "      <td>1419101.52</td>\n",
       "      <td>886215.78</td>\n",
       "      <td>532885.74</td>\n",
       "    </tr>\n",
       "    <tr>\n",
       "      <th>88</th>\n",
       "      <td>Middle East and North Africa</td>\n",
       "      <td>Kuwait</td>\n",
       "      <td>Fruits</td>\n",
       "      <td>Online</td>\n",
       "      <td>M</td>\n",
       "      <td>4/30/2012</td>\n",
       "      <td>513417565</td>\n",
       "      <td>5/18/2012</td>\n",
       "      <td>522</td>\n",
       "      <td>9.33</td>\n",
       "      <td>6.92</td>\n",
       "      <td>4870.26</td>\n",
       "      <td>3612.24</td>\n",
       "      <td>1258.02</td>\n",
       "    </tr>\n",
       "    <tr>\n",
       "      <th>89</th>\n",
       "      <td>Europe</td>\n",
       "      <td>Slovenia</td>\n",
       "      <td>Beverages</td>\n",
       "      <td>Offline</td>\n",
       "      <td>C</td>\n",
       "      <td>10/23/2016</td>\n",
       "      <td>345718562</td>\n",
       "      <td>11/25/2016</td>\n",
       "      <td>4660</td>\n",
       "      <td>47.45</td>\n",
       "      <td>31.79</td>\n",
       "      <td>221117.00</td>\n",
       "      <td>148141.40</td>\n",
       "      <td>72975.60</td>\n",
       "    </tr>\n",
       "    <tr>\n",
       "      <th>90</th>\n",
       "      <td>Sub-Saharan Africa</td>\n",
       "      <td>Sierra Leone</td>\n",
       "      <td>Office Supplies</td>\n",
       "      <td>Offline</td>\n",
       "      <td>H</td>\n",
       "      <td>12/6/2016</td>\n",
       "      <td>621386563</td>\n",
       "      <td>12/14/2016</td>\n",
       "      <td>948</td>\n",
       "      <td>651.21</td>\n",
       "      <td>524.96</td>\n",
       "      <td>617347.08</td>\n",
       "      <td>497662.08</td>\n",
       "      <td>119685.00</td>\n",
       "    </tr>\n",
       "    <tr>\n",
       "      <th>91</th>\n",
       "      <td>Australia and Oceania</td>\n",
       "      <td>Australia</td>\n",
       "      <td>Beverages</td>\n",
       "      <td>Offline</td>\n",
       "      <td>H</td>\n",
       "      <td>7/7/2014</td>\n",
       "      <td>240470397</td>\n",
       "      <td>7/11/2014</td>\n",
       "      <td>9389</td>\n",
       "      <td>47.45</td>\n",
       "      <td>31.79</td>\n",
       "      <td>445508.05</td>\n",
       "      <td>298476.31</td>\n",
       "      <td>147031.74</td>\n",
       "    </tr>\n",
       "    <tr>\n",
       "      <th>92</th>\n",
       "      <td>Middle East and North Africa</td>\n",
       "      <td>Azerbaijan</td>\n",
       "      <td>Office Supplies</td>\n",
       "      <td>Online</td>\n",
       "      <td>M</td>\n",
       "      <td>6/13/2012</td>\n",
       "      <td>423331391</td>\n",
       "      <td>7/24/2012</td>\n",
       "      <td>2021</td>\n",
       "      <td>651.21</td>\n",
       "      <td>524.96</td>\n",
       "      <td>1316095.41</td>\n",
       "      <td>1060944.16</td>\n",
       "      <td>255151.25</td>\n",
       "    </tr>\n",
       "    <tr>\n",
       "      <th>93</th>\n",
       "      <td>Europe</td>\n",
       "      <td>Romania</td>\n",
       "      <td>Cosmetics</td>\n",
       "      <td>Online</td>\n",
       "      <td>H</td>\n",
       "      <td>11/26/2010</td>\n",
       "      <td>660643374</td>\n",
       "      <td>12/25/2010</td>\n",
       "      <td>7910</td>\n",
       "      <td>437.20</td>\n",
       "      <td>263.33</td>\n",
       "      <td>3458252.00</td>\n",
       "      <td>2082940.30</td>\n",
       "      <td>1375311.70</td>\n",
       "    </tr>\n",
       "    <tr>\n",
       "      <th>94</th>\n",
       "      <td>Central America and the Caribbean</td>\n",
       "      <td>Nicaragua</td>\n",
       "      <td>Beverages</td>\n",
       "      <td>Offline</td>\n",
       "      <td>C</td>\n",
       "      <td>2/8/2011</td>\n",
       "      <td>963392674</td>\n",
       "      <td>3/21/2011</td>\n",
       "      <td>8156</td>\n",
       "      <td>47.45</td>\n",
       "      <td>31.79</td>\n",
       "      <td>387002.20</td>\n",
       "      <td>259279.24</td>\n",
       "      <td>127722.96</td>\n",
       "    </tr>\n",
       "    <tr>\n",
       "      <th>95</th>\n",
       "      <td>Sub-Saharan Africa</td>\n",
       "      <td>Mali</td>\n",
       "      <td>Clothes</td>\n",
       "      <td>Online</td>\n",
       "      <td>M</td>\n",
       "      <td>7/26/2011</td>\n",
       "      <td>512878119</td>\n",
       "      <td>9/3/2011</td>\n",
       "      <td>888</td>\n",
       "      <td>109.28</td>\n",
       "      <td>35.84</td>\n",
       "      <td>97040.64</td>\n",
       "      <td>31825.92</td>\n",
       "      <td>65214.72</td>\n",
       "    </tr>\n",
       "    <tr>\n",
       "      <th>96</th>\n",
       "      <td>Asia</td>\n",
       "      <td>Malaysia</td>\n",
       "      <td>Fruits</td>\n",
       "      <td>Offline</td>\n",
       "      <td>L</td>\n",
       "      <td>11/11/2011</td>\n",
       "      <td>810711038</td>\n",
       "      <td>12/28/2011</td>\n",
       "      <td>6267</td>\n",
       "      <td>9.33</td>\n",
       "      <td>6.92</td>\n",
       "      <td>58471.11</td>\n",
       "      <td>43367.64</td>\n",
       "      <td>15103.47</td>\n",
       "    </tr>\n",
       "    <tr>\n",
       "      <th>97</th>\n",
       "      <td>Sub-Saharan Africa</td>\n",
       "      <td>Sierra Leone</td>\n",
       "      <td>Vegetables</td>\n",
       "      <td>Offline</td>\n",
       "      <td>C</td>\n",
       "      <td>6/1/2016</td>\n",
       "      <td>728815257</td>\n",
       "      <td>6/29/2016</td>\n",
       "      <td>1485</td>\n",
       "      <td>154.06</td>\n",
       "      <td>90.93</td>\n",
       "      <td>228779.10</td>\n",
       "      <td>135031.05</td>\n",
       "      <td>93748.05</td>\n",
       "    </tr>\n",
       "    <tr>\n",
       "      <th>98</th>\n",
       "      <td>North America</td>\n",
       "      <td>Mexico</td>\n",
       "      <td>Personal Care</td>\n",
       "      <td>Offline</td>\n",
       "      <td>M</td>\n",
       "      <td>7/30/2015</td>\n",
       "      <td>559427106</td>\n",
       "      <td>8/8/2015</td>\n",
       "      <td>5767</td>\n",
       "      <td>81.73</td>\n",
       "      <td>56.67</td>\n",
       "      <td>471336.91</td>\n",
       "      <td>326815.89</td>\n",
       "      <td>144521.02</td>\n",
       "    </tr>\n",
       "    <tr>\n",
       "      <th>99</th>\n",
       "      <td>Sub-Saharan Africa</td>\n",
       "      <td>Mozambique</td>\n",
       "      <td>Household</td>\n",
       "      <td>Offline</td>\n",
       "      <td>L</td>\n",
       "      <td>2/10/2012</td>\n",
       "      <td>665095412</td>\n",
       "      <td>2/15/2012</td>\n",
       "      <td>5367</td>\n",
       "      <td>668.27</td>\n",
       "      <td>502.54</td>\n",
       "      <td>3586605.09</td>\n",
       "      <td>2697132.18</td>\n",
       "      <td>889472.91</td>\n",
       "    </tr>\n",
       "  </tbody>\n",
       "</table>\n",
       "<p>100 rows × 14 columns</p>\n",
       "</div>"
      ],
      "text/plain": [
       "                               Region                           Country  \\\n",
       "0               Australia and Oceania                            Tuvalu   \n",
       "1   Central America and the Caribbean                           Grenada   \n",
       "2                              Europe                            Russia   \n",
       "3                  Sub-Saharan Africa             Sao Tome and Principe   \n",
       "4                  Sub-Saharan Africa                            Rwanda   \n",
       "5               Australia and Oceania                   Solomon Islands   \n",
       "6                  Sub-Saharan Africa                            Angola   \n",
       "7                  Sub-Saharan Africa                      Burkina Faso   \n",
       "8                  Sub-Saharan Africa             Republic of the Congo   \n",
       "9                  Sub-Saharan Africa                           Senegal   \n",
       "10                               Asia                        Kyrgyzstan   \n",
       "11                 Sub-Saharan Africa                        Cape Verde   \n",
       "12                               Asia                        Bangladesh   \n",
       "13  Central America and the Caribbean                          Honduras   \n",
       "14                               Asia                          Mongolia   \n",
       "15                             Europe                          Bulgaria   \n",
       "16                               Asia                         Sri Lanka   \n",
       "17                 Sub-Saharan Africa                          Cameroon   \n",
       "18                               Asia                      Turkmenistan   \n",
       "19              Australia and Oceania                        East Timor   \n",
       "20                             Europe                            Norway   \n",
       "21                             Europe                          Portugal   \n",
       "22  Central America and the Caribbean                          Honduras   \n",
       "23              Australia and Oceania                       New Zealand   \n",
       "24                             Europe                          Moldova    \n",
       "25                             Europe                            France   \n",
       "26              Australia and Oceania                          Kiribati   \n",
       "27                 Sub-Saharan Africa                              Mali   \n",
       "28                             Europe                            Norway   \n",
       "29                 Sub-Saharan Africa                        The Gambia   \n",
       "..                                ...                               ...   \n",
       "70                               Asia                      Turkmenistan   \n",
       "71       Middle East and North Africa                             Libya   \n",
       "72                 Sub-Saharan Africa  Democratic Republic of the Congo   \n",
       "73                 Sub-Saharan Africa                          Djibouti   \n",
       "74       Middle East and North Africa                          Pakistan   \n",
       "75                      North America                            Mexico   \n",
       "76              Australia and Oceania    Federated States of Micronesia   \n",
       "77                               Asia                              Laos   \n",
       "78                             Europe                            Monaco   \n",
       "79              Australia and Oceania                            Samoa    \n",
       "80                             Europe                             Spain   \n",
       "81       Middle East and North Africa                           Lebanon   \n",
       "82       Middle East and North Africa                              Iran   \n",
       "83                 Sub-Saharan Africa                            Zambia   \n",
       "84                 Sub-Saharan Africa                             Kenya   \n",
       "85                      North America                            Mexico   \n",
       "86                 Sub-Saharan Africa             Sao Tome and Principe   \n",
       "87                 Sub-Saharan Africa                        The Gambia   \n",
       "88       Middle East and North Africa                            Kuwait   \n",
       "89                             Europe                          Slovenia   \n",
       "90                 Sub-Saharan Africa                      Sierra Leone   \n",
       "91              Australia and Oceania                         Australia   \n",
       "92       Middle East and North Africa                        Azerbaijan   \n",
       "93                             Europe                           Romania   \n",
       "94  Central America and the Caribbean                         Nicaragua   \n",
       "95                 Sub-Saharan Africa                              Mali   \n",
       "96                               Asia                          Malaysia   \n",
       "97                 Sub-Saharan Africa                      Sierra Leone   \n",
       "98                      North America                            Mexico   \n",
       "99                 Sub-Saharan Africa                        Mozambique   \n",
       "\n",
       "          Item Type Sales Channel Order Priority  Order Date   Order ID  \\\n",
       "0         Baby Food       Offline              H   5/28/2010  669165933   \n",
       "1            Cereal        Online              C   8/22/2012  963881480   \n",
       "2   Office Supplies       Offline              L    5/2/2014  341417157   \n",
       "3            Fruits        Online              C   6/20/2014  514321792   \n",
       "4   Office Supplies       Offline              L    2/1/2013  115456712   \n",
       "5         Baby Food        Online              C    2/4/2015  547995746   \n",
       "6         Household       Offline              M   4/23/2011  135425221   \n",
       "7        Vegetables        Online              H   7/17/2012  871543967   \n",
       "8     Personal Care       Offline              M   7/14/2015  770463311   \n",
       "9            Cereal        Online              H   4/18/2014  616607081   \n",
       "10       Vegetables        Online              H   6/24/2011  814711606   \n",
       "11          Clothes       Offline              H    8/2/2014  939825713   \n",
       "12          Clothes        Online              L   1/13/2017  187310731   \n",
       "13        Household       Offline              H    2/8/2017  522840487   \n",
       "14    Personal Care       Offline              C   2/19/2014  832401311   \n",
       "15          Clothes        Online              M   4/23/2012  972292029   \n",
       "16        Cosmetics       Offline              M  11/19/2016  419123971   \n",
       "17        Beverages       Offline              C    4/1/2015  519820964   \n",
       "18        Household       Offline              L  12/30/2010  441619336   \n",
       "19             Meat        Online              L   7/31/2012  322067916   \n",
       "20        Baby Food        Online              L   5/14/2014  819028031   \n",
       "21        Baby Food        Online              H   7/31/2015  860673511   \n",
       "22           Snacks        Online              L   6/30/2016  795490682   \n",
       "23           Fruits        Online              H    9/8/2014  142278373   \n",
       "24    Personal Care        Online              L    5/7/2016  740147912   \n",
       "25        Cosmetics        Online              H   5/22/2017  898523128   \n",
       "26           Fruits        Online              M  10/13/2014  347140347   \n",
       "27           Fruits        Online              L    5/7/2010  686048400   \n",
       "28        Beverages       Offline              C   7/18/2014  435608613   \n",
       "29        Household       Offline              L   5/26/2012  886494815   \n",
       "..              ...           ...            ...         ...        ...   \n",
       "70  Office Supplies        Online              M   4/23/2013  462405812   \n",
       "71           Fruits        Online              L   8/14/2015  816200339   \n",
       "72        Beverages        Online              C   5/26/2011  585920464   \n",
       "73           Cereal        Online              H   5/20/2017  555990016   \n",
       "74        Cosmetics       Offline              L    7/5/2013  231145322   \n",
       "75        Household       Offline              C   11/6/2014  986435210   \n",
       "76        Beverages        Online              C  10/28/2014  217221009   \n",
       "77       Vegetables       Offline              C   9/15/2011  789176547   \n",
       "78        Baby Food       Offline              H   5/29/2012  688288152   \n",
       "79        Cosmetics        Online              H   7/20/2013  670854651   \n",
       "80        Household       Offline              L  10/21/2012  213487374   \n",
       "81          Clothes        Online              L   9/18/2012  663110148   \n",
       "82        Cosmetics        Online              H  11/15/2016  286959302   \n",
       "83           Snacks        Online              L    1/4/2011  122583663   \n",
       "84       Vegetables        Online              L   3/18/2012  827844560   \n",
       "85    Personal Care       Offline              L   2/17/2012  430915820   \n",
       "86        Beverages       Offline              C   1/16/2011  180283772   \n",
       "87        Baby Food       Offline              M    2/3/2014  494747245   \n",
       "88           Fruits        Online              M   4/30/2012  513417565   \n",
       "89        Beverages       Offline              C  10/23/2016  345718562   \n",
       "90  Office Supplies       Offline              H   12/6/2016  621386563   \n",
       "91        Beverages       Offline              H    7/7/2014  240470397   \n",
       "92  Office Supplies        Online              M   6/13/2012  423331391   \n",
       "93        Cosmetics        Online              H  11/26/2010  660643374   \n",
       "94        Beverages       Offline              C    2/8/2011  963392674   \n",
       "95          Clothes        Online              M   7/26/2011  512878119   \n",
       "96           Fruits       Offline              L  11/11/2011  810711038   \n",
       "97       Vegetables       Offline              C    6/1/2016  728815257   \n",
       "98    Personal Care       Offline              M   7/30/2015  559427106   \n",
       "99        Household       Offline              L   2/10/2012  665095412   \n",
       "\n",
       "     Ship Date  Units Sold  Unit Price  Unit Cost  Total Revenue  Total Cost  \\\n",
       "0    6/27/2010        9925      255.28     159.42     2533654.00  1582243.50   \n",
       "1    9/15/2012        2804      205.70     117.11      576782.80   328376.44   \n",
       "2     5/8/2014        1779      651.21     524.96     1158502.59   933903.84   \n",
       "3     7/5/2014        8102        9.33       6.92       75591.66    56065.84   \n",
       "4     2/6/2013        5062      651.21     524.96     3296425.02  2657347.52   \n",
       "5    2/21/2015        2974      255.28     159.42      759202.72   474115.08   \n",
       "6    4/27/2011        4187      668.27     502.54     2798046.49  2104134.98   \n",
       "7    7/27/2012        8082      154.06      90.93     1245112.92   734896.26   \n",
       "8    8/25/2015        6070       81.73      56.67      496101.10   343986.90   \n",
       "9    5/30/2014        6593      205.70     117.11     1356180.10   772106.23   \n",
       "10   7/12/2011         124      154.06      90.93       19103.44    11275.32   \n",
       "11   8/19/2014        4168      109.28      35.84      455479.04   149381.12   \n",
       "12    3/1/2017        8263      109.28      35.84      902980.64   296145.92   \n",
       "13   2/13/2017        8974      668.27     502.54     5997054.98  4509793.96   \n",
       "14   2/23/2014        4901       81.73      56.67      400558.73   277739.67   \n",
       "15    6/3/2012        1673      109.28      35.84      182825.44    59960.32   \n",
       "16  12/18/2016        6952      437.20     263.33     3039414.40  1830670.16   \n",
       "17   4/18/2015        5430       47.45      31.79      257653.50   172619.70   \n",
       "18   1/20/2011        3830      668.27     502.54     2559474.10  1924728.20   \n",
       "19   9/11/2012        5908      421.89     364.69     2492526.12  2154588.52   \n",
       "20   6/28/2014        7450      255.28     159.42     1901836.00  1187679.00   \n",
       "21    9/3/2015        1273      255.28     159.42      324971.44   202941.66   \n",
       "22   7/26/2016        2225      152.58      97.44      339490.50   216804.00   \n",
       "23   10/4/2014        2187        9.33       6.92       20404.71    15134.04   \n",
       "24   5/10/2016        5070       81.73      56.67      414371.10   287316.90   \n",
       "25    6/5/2017        1815      437.20     263.33      793518.00   477943.95   \n",
       "26  11/10/2014        5398        9.33       6.92       50363.34    37354.16   \n",
       "27   5/10/2010        5822        9.33       6.92       54319.26    40288.24   \n",
       "28   7/30/2014        5124       47.45      31.79      243133.80   162891.96   \n",
       "29    6/9/2012        2370      668.27     502.54     1583799.90  1191019.80   \n",
       "..         ...         ...         ...        ...            ...         ...   \n",
       "70   5/20/2013        5010      651.21     524.96     3262562.10  2630049.60   \n",
       "71   9/30/2015         673        9.33       6.92        6279.09     4657.16   \n",
       "72   7/15/2011        5741       47.45      31.79      272410.45   182506.39   \n",
       "73   6/17/2017        8656      205.70     117.11     1780539.20  1013704.16   \n",
       "74   8/16/2013        9892      437.20     263.33     4324782.40  2604860.36   \n",
       "75  12/12/2014        6954      668.27     502.54     4647149.58  3494663.16   \n",
       "76  11/15/2014        9379       47.45      31.79      445033.55   298158.41   \n",
       "77  10/23/2011        3732      154.06      90.93      574951.92   339350.76   \n",
       "78    6/2/2012        8614      255.28     159.42     2198981.92  1373243.88   \n",
       "79    8/7/2013        9654      437.20     263.33     4220728.80  2542187.82   \n",
       "80  11/30/2012        4513      668.27     502.54     3015902.51  2267963.02   \n",
       "81   10/8/2012        7884      109.28      35.84      861563.52   282562.56   \n",
       "82   12/8/2016        6489      437.20     263.33     2836990.80  1708748.37   \n",
       "83    1/5/2011        4085      152.58      97.44      623289.30   398042.40   \n",
       "84    4/7/2012        6457      154.06      90.93      994765.42   587135.01   \n",
       "85   3/20/2012        6422       81.73      56.67      524870.06   363934.74   \n",
       "86   1/21/2011        8829       47.45      31.79      418936.05   280673.91   \n",
       "87   3/20/2014        5559      255.28     159.42     1419101.52   886215.78   \n",
       "88   5/18/2012         522        9.33       6.92        4870.26     3612.24   \n",
       "89  11/25/2016        4660       47.45      31.79      221117.00   148141.40   \n",
       "90  12/14/2016         948      651.21     524.96      617347.08   497662.08   \n",
       "91   7/11/2014        9389       47.45      31.79      445508.05   298476.31   \n",
       "92   7/24/2012        2021      651.21     524.96     1316095.41  1060944.16   \n",
       "93  12/25/2010        7910      437.20     263.33     3458252.00  2082940.30   \n",
       "94   3/21/2011        8156       47.45      31.79      387002.20   259279.24   \n",
       "95    9/3/2011         888      109.28      35.84       97040.64    31825.92   \n",
       "96  12/28/2011        6267        9.33       6.92       58471.11    43367.64   \n",
       "97   6/29/2016        1485      154.06      90.93      228779.10   135031.05   \n",
       "98    8/8/2015        5767       81.73      56.67      471336.91   326815.89   \n",
       "99   2/15/2012        5367      668.27     502.54     3586605.09  2697132.18   \n",
       "\n",
       "    Total Profit  \n",
       "0      951410.50  \n",
       "1      248406.36  \n",
       "2      224598.75  \n",
       "3       19525.82  \n",
       "4      639077.50  \n",
       "5      285087.64  \n",
       "6      693911.51  \n",
       "7      510216.66  \n",
       "8      152114.20  \n",
       "9      584073.87  \n",
       "10       7828.12  \n",
       "11     306097.92  \n",
       "12     606834.72  \n",
       "13    1487261.02  \n",
       "14     122819.06  \n",
       "15     122865.12  \n",
       "16    1208744.24  \n",
       "17      85033.80  \n",
       "18     634745.90  \n",
       "19     337937.60  \n",
       "20     714157.00  \n",
       "21     122029.78  \n",
       "22     122686.50  \n",
       "23       5270.67  \n",
       "24     127054.20  \n",
       "25     315574.05  \n",
       "26      13009.18  \n",
       "27      14031.02  \n",
       "28      80241.84  \n",
       "29     392780.10  \n",
       "..           ...  \n",
       "70     632512.50  \n",
       "71       1621.93  \n",
       "72      89904.06  \n",
       "73     766835.04  \n",
       "74    1719922.04  \n",
       "75    1152486.42  \n",
       "76     146875.14  \n",
       "77     235601.16  \n",
       "78     825738.04  \n",
       "79    1678540.98  \n",
       "80     747939.49  \n",
       "81     579000.96  \n",
       "82    1128242.43  \n",
       "83     225246.90  \n",
       "84     407630.41  \n",
       "85     160935.32  \n",
       "86     138262.14  \n",
       "87     532885.74  \n",
       "88       1258.02  \n",
       "89      72975.60  \n",
       "90     119685.00  \n",
       "91     147031.74  \n",
       "92     255151.25  \n",
       "93    1375311.70  \n",
       "94     127722.96  \n",
       "95      65214.72  \n",
       "96      15103.47  \n",
       "97      93748.05  \n",
       "98     144521.02  \n",
       "99     889472.91  \n",
       "\n",
       "[100 rows x 14 columns]"
      ]
     },
     "execution_count": 7,
     "metadata": {},
     "output_type": "execute_result"
    }
   ],
   "source": [
    "import pandas as pd\n",
    "df = pd.read_csv('Record.csv')\n",
    "df"
   ]
  },
  {
   "cell_type": "markdown",
   "metadata": {},
   "source": [
    "We have read the data from \"Record.csv\" file"
   ]
  },
  {
   "cell_type": "code",
   "execution_count": 10,
   "metadata": {},
   "outputs": [],
   "source": [
    "df.to_csv('new.csv')#it will load data with index value\n",
    "#if we dont' want index\n",
    "df.to_csv('new_noIndex.csv',index = False)"
   ]
  },
  {
   "cell_type": "markdown",
   "metadata": {},
   "source": [
    "We have created the weather_data with features day,temprature,windspeed and event"
   ]
  },
  {
   "cell_type": "code",
   "execution_count": 4,
   "metadata": {},
   "outputs": [
    {
     "data": {
      "text/html": [
       "<div>\n",
       "<style scoped>\n",
       "    .dataframe tbody tr th:only-of-type {\n",
       "        vertical-align: middle;\n",
       "    }\n",
       "\n",
       "    .dataframe tbody tr th {\n",
       "        vertical-align: top;\n",
       "    }\n",
       "\n",
       "    .dataframe thead th {\n",
       "        text-align: right;\n",
       "    }\n",
       "</style>\n",
       "<table border=\"1\" class=\"dataframe\">\n",
       "  <thead>\n",
       "    <tr style=\"text-align: right;\">\n",
       "      <th></th>\n",
       "      <th>day</th>\n",
       "      <th>temprature</th>\n",
       "      <th>windspeed</th>\n",
       "      <th>event</th>\n",
       "    </tr>\n",
       "  </thead>\n",
       "  <tbody>\n",
       "    <tr>\n",
       "      <th>0</th>\n",
       "      <td>1/1/2017</td>\n",
       "      <td>32</td>\n",
       "      <td>6</td>\n",
       "      <td>Rain</td>\n",
       "    </tr>\n",
       "    <tr>\n",
       "      <th>1</th>\n",
       "      <td>1/2/2017</td>\n",
       "      <td>35</td>\n",
       "      <td>7</td>\n",
       "      <td>Sunny</td>\n",
       "    </tr>\n",
       "    <tr>\n",
       "      <th>2</th>\n",
       "      <td>1/3/2017</td>\n",
       "      <td>28</td>\n",
       "      <td>2</td>\n",
       "      <td>Snow</td>\n",
       "    </tr>\n",
       "    <tr>\n",
       "      <th>3</th>\n",
       "      <td>1/4/2017</td>\n",
       "      <td>24</td>\n",
       "      <td>2</td>\n",
       "      <td>Snow</td>\n",
       "    </tr>\n",
       "    <tr>\n",
       "      <th>4</th>\n",
       "      <td>1/5/2017</td>\n",
       "      <td>32</td>\n",
       "      <td>4</td>\n",
       "      <td>Rain</td>\n",
       "    </tr>\n",
       "    <tr>\n",
       "      <th>5</th>\n",
       "      <td>1/6/2017</td>\n",
       "      <td>31</td>\n",
       "      <td>2</td>\n",
       "      <td>Sunny</td>\n",
       "    </tr>\n",
       "  </tbody>\n",
       "</table>\n",
       "</div>"
      ],
      "text/plain": [
       "        day  temprature  windspeed  event\n",
       "0  1/1/2017          32          6   Rain\n",
       "1  1/2/2017          35          7  Sunny\n",
       "2  1/3/2017          28          2   Snow\n",
       "3  1/4/2017          24          2   Snow\n",
       "4  1/5/2017          32          4   Rain\n",
       "5  1/6/2017          31          2  Sunny"
      ]
     },
     "execution_count": 4,
     "metadata": {},
     "output_type": "execute_result"
    }
   ],
   "source": [
    "import pandas as pd\n",
    "weather_data = [('1/1/2017',32,6,'Rain'),\n",
    "               ('1/2/2017',35,7,'Sunny'),\n",
    "               ('1/3/2017',28,2,'Snow'),\n",
    "               ('1/4/2017',24,2,'Snow'),\n",
    "               ('1/5/2017',32,4,'Rain'),\n",
    "               ('1/6/2017',31,2,'Sunny')]\n",
    "df = pd.DataFrame(weather_data,columns=['day','temprature','windspeed','event'])\n",
    "df"
   ]
  },
  {
   "cell_type": "code",
   "execution_count": 5,
   "metadata": {},
   "outputs": [
    {
     "data": {
      "text/plain": [
       "(6, 4)"
      ]
     },
     "execution_count": 5,
     "metadata": {},
     "output_type": "execute_result"
    }
   ],
   "source": [
    "df.shape"
   ]
  },
  {
   "cell_type": "markdown",
   "metadata": {},
   "source": [
    "There are sixth rows and 4th columns"
   ]
  },
  {
   "cell_type": "code",
   "execution_count": 8,
   "metadata": {},
   "outputs": [
    {
     "data": {
      "text/html": [
       "<div>\n",
       "<style scoped>\n",
       "    .dataframe tbody tr th:only-of-type {\n",
       "        vertical-align: middle;\n",
       "    }\n",
       "\n",
       "    .dataframe tbody tr th {\n",
       "        vertical-align: top;\n",
       "    }\n",
       "\n",
       "    .dataframe thead th {\n",
       "        text-align: right;\n",
       "    }\n",
       "</style>\n",
       "<table border=\"1\" class=\"dataframe\">\n",
       "  <thead>\n",
       "    <tr style=\"text-align: right;\">\n",
       "      <th></th>\n",
       "      <th>day</th>\n",
       "      <th>temprature</th>\n",
       "      <th>windspeed</th>\n",
       "      <th>event</th>\n",
       "    </tr>\n",
       "  </thead>\n",
       "  <tbody>\n",
       "    <tr>\n",
       "      <th>0</th>\n",
       "      <td>1/1/2017</td>\n",
       "      <td>32</td>\n",
       "      <td>6</td>\n",
       "      <td>Rain</td>\n",
       "    </tr>\n",
       "    <tr>\n",
       "      <th>1</th>\n",
       "      <td>1/2/2017</td>\n",
       "      <td>35</td>\n",
       "      <td>7</td>\n",
       "      <td>Sunny</td>\n",
       "    </tr>\n",
       "    <tr>\n",
       "      <th>2</th>\n",
       "      <td>1/3/2017</td>\n",
       "      <td>28</td>\n",
       "      <td>2</td>\n",
       "      <td>Snow</td>\n",
       "    </tr>\n",
       "  </tbody>\n",
       "</table>\n",
       "</div>"
      ],
      "text/plain": [
       "        day  temprature  windspeed  event\n",
       "0  1/1/2017          32          6   Rain\n",
       "1  1/2/2017          35          7  Sunny\n",
       "2  1/3/2017          28          2   Snow"
      ]
     },
     "execution_count": 8,
     "metadata": {},
     "output_type": "execute_result"
    }
   ],
   "source": [
    "df.head(3)"
   ]
  },
  {
   "cell_type": "markdown",
   "metadata": {},
   "source": [
    "We have fetched the 3 top data from \"weather_data\" dataframe"
   ]
  },
  {
   "cell_type": "code",
   "execution_count": 10,
   "metadata": {},
   "outputs": [
    {
     "data": {
      "text/html": [
       "<div>\n",
       "<style scoped>\n",
       "    .dataframe tbody tr th:only-of-type {\n",
       "        vertical-align: middle;\n",
       "    }\n",
       "\n",
       "    .dataframe tbody tr th {\n",
       "        vertical-align: top;\n",
       "    }\n",
       "\n",
       "    .dataframe thead th {\n",
       "        text-align: right;\n",
       "    }\n",
       "</style>\n",
       "<table border=\"1\" class=\"dataframe\">\n",
       "  <thead>\n",
       "    <tr style=\"text-align: right;\">\n",
       "      <th></th>\n",
       "      <th>day</th>\n",
       "      <th>temprature</th>\n",
       "      <th>windspeed</th>\n",
       "      <th>event</th>\n",
       "    </tr>\n",
       "  </thead>\n",
       "  <tbody>\n",
       "    <tr>\n",
       "      <th>1</th>\n",
       "      <td>1/2/2017</td>\n",
       "      <td>35</td>\n",
       "      <td>7</td>\n",
       "      <td>Sunny</td>\n",
       "    </tr>\n",
       "    <tr>\n",
       "      <th>2</th>\n",
       "      <td>1/3/2017</td>\n",
       "      <td>28</td>\n",
       "      <td>2</td>\n",
       "      <td>Snow</td>\n",
       "    </tr>\n",
       "    <tr>\n",
       "      <th>3</th>\n",
       "      <td>1/4/2017</td>\n",
       "      <td>24</td>\n",
       "      <td>2</td>\n",
       "      <td>Snow</td>\n",
       "    </tr>\n",
       "    <tr>\n",
       "      <th>4</th>\n",
       "      <td>1/5/2017</td>\n",
       "      <td>32</td>\n",
       "      <td>4</td>\n",
       "      <td>Rain</td>\n",
       "    </tr>\n",
       "    <tr>\n",
       "      <th>5</th>\n",
       "      <td>1/6/2017</td>\n",
       "      <td>31</td>\n",
       "      <td>2</td>\n",
       "      <td>Sunny</td>\n",
       "    </tr>\n",
       "  </tbody>\n",
       "</table>\n",
       "</div>"
      ],
      "text/plain": [
       "        day  temprature  windspeed  event\n",
       "1  1/2/2017          35          7  Sunny\n",
       "2  1/3/2017          28          2   Snow\n",
       "3  1/4/2017          24          2   Snow\n",
       "4  1/5/2017          32          4   Rain\n",
       "5  1/6/2017          31          2  Sunny"
      ]
     },
     "execution_count": 10,
     "metadata": {},
     "output_type": "execute_result"
    }
   ],
   "source": [
    "df.tail()"
   ]
  },
  {
   "cell_type": "markdown",
   "metadata": {},
   "source": [
    "We got last 5th rows by default as we don't mention any number of rows"
   ]
  },
  {
   "cell_type": "code",
   "execution_count": 11,
   "metadata": {},
   "outputs": [
    {
     "data": {
      "text/html": [
       "<div>\n",
       "<style scoped>\n",
       "    .dataframe tbody tr th:only-of-type {\n",
       "        vertical-align: middle;\n",
       "    }\n",
       "\n",
       "    .dataframe tbody tr th {\n",
       "        vertical-align: top;\n",
       "    }\n",
       "\n",
       "    .dataframe thead th {\n",
       "        text-align: right;\n",
       "    }\n",
       "</style>\n",
       "<table border=\"1\" class=\"dataframe\">\n",
       "  <thead>\n",
       "    <tr style=\"text-align: right;\">\n",
       "      <th></th>\n",
       "      <th>day</th>\n",
       "      <th>temprature</th>\n",
       "      <th>windspeed</th>\n",
       "      <th>event</th>\n",
       "    </tr>\n",
       "  </thead>\n",
       "  <tbody>\n",
       "    <tr>\n",
       "      <th>2</th>\n",
       "      <td>1/3/2017</td>\n",
       "      <td>28</td>\n",
       "      <td>2</td>\n",
       "      <td>Snow</td>\n",
       "    </tr>\n",
       "    <tr>\n",
       "      <th>3</th>\n",
       "      <td>1/4/2017</td>\n",
       "      <td>24</td>\n",
       "      <td>2</td>\n",
       "      <td>Snow</td>\n",
       "    </tr>\n",
       "    <tr>\n",
       "      <th>4</th>\n",
       "      <td>1/5/2017</td>\n",
       "      <td>32</td>\n",
       "      <td>4</td>\n",
       "      <td>Rain</td>\n",
       "    </tr>\n",
       "  </tbody>\n",
       "</table>\n",
       "</div>"
      ],
      "text/plain": [
       "        day  temprature  windspeed event\n",
       "2  1/3/2017          28          2  Snow\n",
       "3  1/4/2017          24          2  Snow\n",
       "4  1/5/2017          32          4  Rain"
      ]
     },
     "execution_count": 11,
     "metadata": {},
     "output_type": "execute_result"
    }
   ],
   "source": [
    "df[2:5]"
   ]
  },
  {
   "cell_type": "markdown",
   "metadata": {},
   "source": [
    "We have feteched the data from row 2 to row 4 based on silce"
   ]
  },
  {
   "cell_type": "code",
   "execution_count": 13,
   "metadata": {},
   "outputs": [
    {
     "data": {
      "text/plain": [
       "Index(['day', 'temprature', 'windspeed', 'event'], dtype='object')"
      ]
     },
     "execution_count": 13,
     "metadata": {},
     "output_type": "execute_result"
    }
   ],
   "source": [
    "df.columns"
   ]
  },
  {
   "cell_type": "markdown",
   "metadata": {},
   "source": [
    "We got all columns using df.colums"
   ]
  },
  {
   "cell_type": "code",
   "execution_count": 14,
   "metadata": {},
   "outputs": [
    {
     "data": {
      "text/plain": [
       "0    1/1/2017\n",
       "1    1/2/2017\n",
       "2    1/3/2017\n",
       "3    1/4/2017\n",
       "4    1/5/2017\n",
       "5    1/6/2017\n",
       "Name: day, dtype: object"
      ]
     },
     "execution_count": 14,
     "metadata": {},
     "output_type": "execute_result"
    }
   ],
   "source": [
    "df.day"
   ]
  },
  {
   "cell_type": "code",
   "execution_count": 15,
   "metadata": {},
   "outputs": [
    {
     "data": {
      "text/plain": [
       "0    1/1/2017\n",
       "1    1/2/2017\n",
       "2    1/3/2017\n",
       "3    1/4/2017\n",
       "4    1/5/2017\n",
       "5    1/6/2017\n",
       "Name: day, dtype: object"
      ]
     },
     "execution_count": 15,
     "metadata": {},
     "output_type": "execute_result"
    }
   ],
   "source": [
    "df['day']"
   ]
  },
  {
   "cell_type": "code",
   "execution_count": 19,
   "metadata": {},
   "outputs": [
    {
     "data": {
      "text/plain": [
       "35"
      ]
     },
     "execution_count": 19,
     "metadata": {},
     "output_type": "execute_result"
    }
   ],
   "source": [
    "df['temprature'].max()"
   ]
  },
  {
   "cell_type": "markdown",
   "metadata": {},
   "source": [
    "We used max() to get maximum temprature"
   ]
  },
  {
   "cell_type": "code",
   "execution_count": 20,
   "metadata": {},
   "outputs": [
    {
     "data": {
      "text/plain": [
       "24"
      ]
     },
     "execution_count": 20,
     "metadata": {},
     "output_type": "execute_result"
    }
   ],
   "source": [
    "df.temprature.min()"
   ]
  },
  {
   "cell_type": "markdown",
   "metadata": {},
   "source": [
    "min() to get minimum temprature"
   ]
  },
  {
   "cell_type": "code",
   "execution_count": 22,
   "metadata": {},
   "outputs": [
    {
     "data": {
      "text/html": [
       "<div>\n",
       "<style scoped>\n",
       "    .dataframe tbody tr th:only-of-type {\n",
       "        vertical-align: middle;\n",
       "    }\n",
       "\n",
       "    .dataframe tbody tr th {\n",
       "        vertical-align: top;\n",
       "    }\n",
       "\n",
       "    .dataframe thead th {\n",
       "        text-align: right;\n",
       "    }\n",
       "</style>\n",
       "<table border=\"1\" class=\"dataframe\">\n",
       "  <thead>\n",
       "    <tr style=\"text-align: right;\">\n",
       "      <th></th>\n",
       "      <th>day</th>\n",
       "      <th>event</th>\n",
       "    </tr>\n",
       "  </thead>\n",
       "  <tbody>\n",
       "    <tr>\n",
       "      <th>0</th>\n",
       "      <td>1/1/2017</td>\n",
       "      <td>Rain</td>\n",
       "    </tr>\n",
       "    <tr>\n",
       "      <th>1</th>\n",
       "      <td>1/2/2017</td>\n",
       "      <td>Sunny</td>\n",
       "    </tr>\n",
       "    <tr>\n",
       "      <th>2</th>\n",
       "      <td>1/3/2017</td>\n",
       "      <td>Snow</td>\n",
       "    </tr>\n",
       "    <tr>\n",
       "      <th>3</th>\n",
       "      <td>1/4/2017</td>\n",
       "      <td>Snow</td>\n",
       "    </tr>\n",
       "    <tr>\n",
       "      <th>4</th>\n",
       "      <td>1/5/2017</td>\n",
       "      <td>Rain</td>\n",
       "    </tr>\n",
       "    <tr>\n",
       "      <th>5</th>\n",
       "      <td>1/6/2017</td>\n",
       "      <td>Sunny</td>\n",
       "    </tr>\n",
       "  </tbody>\n",
       "</table>\n",
       "</div>"
      ],
      "text/plain": [
       "        day  event\n",
       "0  1/1/2017   Rain\n",
       "1  1/2/2017  Sunny\n",
       "2  1/3/2017   Snow\n",
       "3  1/4/2017   Snow\n",
       "4  1/5/2017   Rain\n",
       "5  1/6/2017  Sunny"
      ]
     },
     "execution_count": 22,
     "metadata": {},
     "output_type": "execute_result"
    }
   ],
   "source": [
    "df[['day','event']]"
   ]
  },
  {
   "cell_type": "code",
   "execution_count": 23,
   "metadata": {},
   "outputs": [
    {
     "data": {
      "text/plain": [
       "count     6.000000\n",
       "mean     30.333333\n",
       "std       3.829708\n",
       "min      24.000000\n",
       "25%      28.750000\n",
       "50%      31.500000\n",
       "75%      32.000000\n",
       "max      35.000000\n",
       "Name: temprature, dtype: float64"
      ]
     },
     "execution_count": 23,
     "metadata": {},
     "output_type": "execute_result"
    }
   ],
   "source": [
    "df['temprature'].describe()"
   ]
  },
  {
   "cell_type": "markdown",
   "metadata": {},
   "source": [
    "Using describe function,we get statistics details"
   ]
  },
  {
   "cell_type": "code",
   "execution_count": 25,
   "metadata": {},
   "outputs": [
    {
     "data": {
      "text/html": [
       "<div>\n",
       "<style scoped>\n",
       "    .dataframe tbody tr th:only-of-type {\n",
       "        vertical-align: middle;\n",
       "    }\n",
       "\n",
       "    .dataframe tbody tr th {\n",
       "        vertical-align: top;\n",
       "    }\n",
       "\n",
       "    .dataframe thead th {\n",
       "        text-align: right;\n",
       "    }\n",
       "</style>\n",
       "<table border=\"1\" class=\"dataframe\">\n",
       "  <thead>\n",
       "    <tr style=\"text-align: right;\">\n",
       "      <th></th>\n",
       "      <th>day</th>\n",
       "      <th>temprature</th>\n",
       "      <th>windspeed</th>\n",
       "      <th>event</th>\n",
       "    </tr>\n",
       "  </thead>\n",
       "  <tbody>\n",
       "    <tr>\n",
       "      <th>1</th>\n",
       "      <td>1/2/2017</td>\n",
       "      <td>35</td>\n",
       "      <td>7</td>\n",
       "      <td>Sunny</td>\n",
       "    </tr>\n",
       "  </tbody>\n",
       "</table>\n",
       "</div>"
      ],
      "text/plain": [
       "        day  temprature  windspeed  event\n",
       "1  1/2/2017          35          7  Sunny"
      ]
     },
     "execution_count": 25,
     "metadata": {},
     "output_type": "execute_result"
    }
   ],
   "source": [
    "df[df.temprature == df.temprature.max()]"
   ]
  },
  {
   "cell_type": "code",
   "execution_count": 26,
   "metadata": {},
   "outputs": [
    {
     "data": {
      "text/plain": [
       "1    1/2/2017\n",
       "Name: day, dtype: object"
      ]
     },
     "execution_count": 26,
     "metadata": {},
     "output_type": "execute_result"
    }
   ],
   "source": [
    "df.day[df.temprature == df.temprature.max()]"
   ]
  },
  {
   "cell_type": "markdown",
   "metadata": {},
   "source": [
    "We found the date on which having the maximum temprature"
   ]
  },
  {
   "cell_type": "code",
   "execution_count": 12,
   "metadata": {},
   "outputs": [],
   "source": [
    "import pandas as pd\n",
    "df= pd.read_excel('Book1.xlsx')"
   ]
  },
  {
   "cell_type": "markdown",
   "metadata": {},
   "source": [
    "### Numpy Basic codes"
   ]
  },
  {
   "cell_type": "markdown",
   "metadata": {},
   "source": [
    "We have created the 3 dimensional arrat"
   ]
  },
  {
   "cell_type": "code",
   "execution_count": 19,
   "metadata": {},
   "outputs": [
    {
     "data": {
      "text/plain": [
       "array([[[0, 1],\n",
       "        [2, 3]],\n",
       "\n",
       "       [[4, 5],\n",
       "        [6, 7]]])"
      ]
     },
     "execution_count": 19,
     "metadata": {},
     "output_type": "execute_result"
    }
   ],
   "source": [
    "import numpy as np\n",
    "a = np.array([[[0,1],[2,3]],[[4,5],[6,7]]])\n",
    "a"
   ]
  },
  {
   "cell_type": "code",
   "execution_count": 17,
   "metadata": {},
   "outputs": [
    {
     "data": {
      "text/plain": [
       "3"
      ]
     },
     "execution_count": 17,
     "metadata": {},
     "output_type": "execute_result"
    }
   ],
   "source": [
    "a.ndim"
   ]
  },
  {
   "cell_type": "markdown",
   "metadata": {},
   "source": [
    "ndim is used to get dimensonality of array"
   ]
  },
  {
   "cell_type": "code",
   "execution_count": 18,
   "metadata": {},
   "outputs": [
    {
     "data": {
      "text/plain": [
       "(2, 2, 2)"
      ]
     },
     "execution_count": 18,
     "metadata": {},
     "output_type": "execute_result"
    }
   ],
   "source": [
    "a.shape"
   ]
  },
  {
   "cell_type": "markdown",
   "metadata": {},
   "source": [
    "We found the shape of array"
   ]
  },
  {
   "cell_type": "code",
   "execution_count": 6,
   "metadata": {},
   "outputs": [
    {
     "name": "stdout",
     "output_type": "stream",
     "text": [
      "1.12 µs ± 61 ns per loop (mean ± std. dev. of 7 runs, 1000000 loops each)\n"
     ]
    }
   ],
   "source": [
    "l = [1,2,3,45]\n",
    "%timeit [i**2 for i in l]"
   ]
  },
  {
   "cell_type": "code",
   "execution_count": 8,
   "metadata": {},
   "outputs": [
    {
     "name": "stdout",
     "output_type": "stream",
     "text": [
      "488 ns ± 58.1 ns per loop (mean ± std. dev. of 7 runs, 1000000 loops each)\n"
     ]
    }
   ],
   "source": [
    "import numpy as np\n",
    "a = np.array(1000)\n",
    "%timeit a**2"
   ]
  },
  {
   "cell_type": "code",
   "execution_count": 4,
   "metadata": {},
   "outputs": [
    {
     "data": {
      "text/plain": [
       "array([1, 4, 7])"
      ]
     },
     "execution_count": 4,
     "metadata": {},
     "output_type": "execute_result"
    }
   ],
   "source": [
    "import numpy as np\n",
    "a = np.arange(1,10,3)\n",
    "a"
   ]
  },
  {
   "cell_type": "markdown",
   "metadata": {},
   "source": [
    "arange(start,end,step) is used to arrange the data "
   ]
  },
  {
   "cell_type": "code",
   "execution_count": 7,
   "metadata": {},
   "outputs": [
    {
     "name": "stdout",
     "output_type": "stream",
     "text": [
      "[0.  0.2 0.4 0.6 0.8 1. ]\n"
     ]
    }
   ],
   "source": [
    "import numpy as np\n",
    "\n",
    "a = np.linspace(0,1,6)\n",
    "print(a)"
   ]
  },
  {
   "cell_type": "markdown",
   "metadata": {},
   "source": [
    "Using the linspace, we will get value between 0 to 1 and six is showing the number of values"
   ]
  },
  {
   "cell_type": "code",
   "execution_count": 27,
   "metadata": {},
   "outputs": [
    {
     "data": {
      "text/plain": [
       "array([[1., 1., 1., 1., 1., 1., 1., 1., 1., 1.],\n",
       "       [1., 1., 1., 1., 1., 1., 1., 1., 1., 1.],\n",
       "       [1., 1., 1., 1., 1., 1., 1., 1., 1., 1.],\n",
       "       [1., 1., 1., 1., 1., 1., 1., 1., 1., 1.],\n",
       "       [1., 1., 1., 1., 1., 1., 1., 1., 1., 1.],\n",
       "       [1., 1., 1., 1., 1., 1., 1., 1., 1., 1.],\n",
       "       [1., 1., 1., 1., 1., 1., 1., 1., 1., 1.],\n",
       "       [1., 1., 1., 1., 1., 1., 1., 1., 1., 1.],\n",
       "       [1., 1., 1., 1., 1., 1., 1., 1., 1., 1.],\n",
       "       [1., 1., 1., 1., 1., 1., 1., 1., 1., 1.]])"
      ]
     },
     "execution_count": 27,
     "metadata": {},
     "output_type": "execute_result"
    }
   ],
   "source": [
    "a = np.ones((10,10))\n",
    "a"
   ]
  },
  {
   "cell_type": "markdown",
   "metadata": {},
   "source": [
    "numpy.ones fill all values as 1"
   ]
  },
  {
   "cell_type": "code",
   "execution_count": 29,
   "metadata": {},
   "outputs": [
    {
     "data": {
      "text/plain": [
       "array([[0., 0., 0., 0.],\n",
       "       [0., 0., 0., 0.],\n",
       "       [0., 0., 0., 0.],\n",
       "       [0., 0., 0., 0.]])"
      ]
     },
     "execution_count": 29,
     "metadata": {},
     "output_type": "execute_result"
    }
   ],
   "source": [
    "a = np.zeros((4,4))\n",
    "a"
   ]
  },
  {
   "cell_type": "code",
   "execution_count": 33,
   "metadata": {},
   "outputs": [
    {
     "data": {
      "text/plain": [
       "array([[1., 0., 0., 0., 0., 0., 0.],\n",
       "       [0., 1., 0., 0., 0., 0., 0.],\n",
       "       [0., 0., 1., 0., 0., 0., 0.],\n",
       "       [0., 0., 0., 1., 0., 0., 0.],\n",
       "       [0., 0., 0., 0., 1., 0., 0.],\n",
       "       [0., 0., 0., 0., 0., 1., 0.],\n",
       "       [0., 0., 0., 0., 0., 0., 1.]])"
      ]
     },
     "execution_count": 33,
     "metadata": {},
     "output_type": "execute_result"
    }
   ],
   "source": [
    "a = np.eye(7)\n",
    "a"
   ]
  },
  {
   "cell_type": "code",
   "execution_count": 34,
   "metadata": {},
   "outputs": [
    {
     "data": {
      "text/plain": [
       "array([[1., 0., 0.],\n",
       "       [0., 1., 0.],\n",
       "       [0., 0., 1.]])"
      ]
     },
     "execution_count": 34,
     "metadata": {},
     "output_type": "execute_result"
    }
   ],
   "source": [
    "a = np.eye(3,3)\n",
    "a"
   ]
  },
  {
   "cell_type": "code",
   "execution_count": 36,
   "metadata": {},
   "outputs": [
    {
     "data": {
      "text/plain": [
       "array([[1, 0, 0, 0, 0],\n",
       "       [0, 2, 0, 0, 0],\n",
       "       [0, 0, 3, 0, 0],\n",
       "       [0, 0, 0, 4, 0],\n",
       "       [0, 0, 0, 0, 5]])"
      ]
     },
     "execution_count": 36,
     "metadata": {},
     "output_type": "execute_result"
    }
   ],
   "source": [
    "a = np.diag([1,2,3,4,5])\n",
    "a"
   ]
  },
  {
   "cell_type": "code",
   "execution_count": 38,
   "metadata": {},
   "outputs": [
    {
     "data": {
      "text/plain": [
       "array([0.86033351, 0.45154492, 0.8654467 , 0.04231998])"
      ]
     },
     "execution_count": 38,
     "metadata": {},
     "output_type": "execute_result"
    }
   ],
   "source": [
    "a = np.random.rand(4)\n",
    "a"
   ]
  },
  {
   "cell_type": "markdown",
   "metadata": {},
   "source": [
    "got positive random value"
   ]
  },
  {
   "cell_type": "code",
   "execution_count": 39,
   "metadata": {},
   "outputs": [
    {
     "data": {
      "text/plain": [
       "array([-0.5568228 , -0.31951956, -0.18035875, -1.71528343])"
      ]
     },
     "execution_count": 39,
     "metadata": {},
     "output_type": "execute_result"
    }
   ],
   "source": [
    "a = np.random.randn(4)\n",
    "a"
   ]
  },
  {
   "cell_type": "markdown",
   "metadata": {},
   "source": [
    "We have got negative random value"
   ]
  },
  {
   "cell_type": "code",
   "execution_count": 42,
   "metadata": {},
   "outputs": [
    {
     "data": {
      "text/plain": [
       "dtype('int32')"
      ]
     },
     "execution_count": 42,
     "metadata": {},
     "output_type": "execute_result"
    }
   ],
   "source": [
    "a = np.arange(10)\n",
    "a.dtype"
   ]
  },
  {
   "cell_type": "code",
   "execution_count": 44,
   "metadata": {},
   "outputs": [
    {
     "data": {
      "text/plain": [
       "array([0., 1., 2., 3., 4., 5., 6., 7., 8., 9.])"
      ]
     },
     "execution_count": 44,
     "metadata": {},
     "output_type": "execute_result"
    }
   ],
   "source": [
    "a = np.arange(10, dtype = 'float64')\n",
    "a"
   ]
  },
  {
   "cell_type": "code",
   "execution_count": 48,
   "metadata": {},
   "outputs": [
    {
     "name": "stdout",
     "output_type": "stream",
     "text": [
      "5\n"
     ]
    }
   ],
   "source": [
    "import numpy as np\n",
    "a = np.arange(10)\n",
    "print(a[5])"
   ]
  },
  {
   "cell_type": "code",
   "execution_count": 49,
   "metadata": {},
   "outputs": [
    {
     "data": {
      "text/plain": [
       "array([0, 1, 2, 3, 4, 5, 6, 7, 8, 9])"
      ]
     },
     "execution_count": 49,
     "metadata": {},
     "output_type": "execute_result"
    }
   ],
   "source": [
    "a = np.arange(10)\n",
    "a"
   ]
  },
  {
   "cell_type": "code",
   "execution_count": 52,
   "metadata": {},
   "outputs": [
    {
     "data": {
      "text/plain": [
       "array([1, 3, 5, 7])"
      ]
     },
     "execution_count": 52,
     "metadata": {},
     "output_type": "execute_result"
    }
   ],
   "source": [
    "b= a[1:8:2]\n",
    "b"
   ]
  },
  {
   "cell_type": "code",
   "execution_count": 53,
   "metadata": {},
   "outputs": [
    {
     "data": {
      "text/plain": [
       "array([ 0,  1,  2,  3,  4, 10, 10, 10, 10, 10])"
      ]
     },
     "execution_count": 53,
     "metadata": {},
     "output_type": "execute_result"
    }
   ],
   "source": [
    "a = np.arange(10)\n",
    "a[5:] = 10\n",
    "a"
   ]
  },
  {
   "cell_type": "markdown",
   "metadata": {},
   "source": [
    "We have set value 10 after position 5th"
   ]
  },
  {
   "cell_type": "code",
   "execution_count": 56,
   "metadata": {},
   "outputs": [
    {
     "data": {
      "text/plain": [
       "array([0, 1, 2, 3, 4, 4, 3, 2, 1, 0])"
      ]
     },
     "execution_count": 56,
     "metadata": {},
     "output_type": "execute_result"
    }
   ],
   "source": [
    "b = np.arange(5)\n",
    "a[5:] = b[::-1]\n",
    "a"
   ]
  },
  {
   "cell_type": "markdown",
   "metadata": {},
   "source": [
    "We have reversed the values after postion 5th"
   ]
  },
  {
   "cell_type": "code",
   "execution_count": 72,
   "metadata": {},
   "outputs": [
    {
     "name": "stdout",
     "output_type": "stream",
     "text": [
      "[0 2 4 6 8]\n",
      "True\n"
     ]
    }
   ],
   "source": [
    "import numpy as np\n",
    "a = np.arange(10)\n",
    "a\n",
    "b = a[::2]\n",
    "print(b)\n",
    "print(np.shares_memory(a,b))"
   ]
  },
  {
   "cell_type": "code",
   "execution_count": 73,
   "metadata": {},
   "outputs": [
    {
     "name": "stdout",
     "output_type": "stream",
     "text": [
      "[10  1  2  3  4  5  6  7  8  9]\n",
      "[10  2  4  6  8]\n"
     ]
    }
   ],
   "source": [
    "a[0] = 10\n",
    "print(a)\n",
    "print(b)"
   ]
  },
  {
   "cell_type": "code",
   "execution_count": 65,
   "metadata": {},
   "outputs": [
    {
     "name": "stdout",
     "output_type": "stream",
     "text": [
      "[0 2 4 6 8]\n",
      "False\n"
     ]
    }
   ],
   "source": [
    "a = np.arange(10)\n",
    "b = a[::2].copy()#force a copy\n",
    "print(b)\n",
    "print(np.shares_memory(a,b))"
   ]
  },
  {
   "cell_type": "code",
   "execution_count": 74,
   "metadata": {},
   "outputs": [
    {
     "name": "stdout",
     "output_type": "stream",
     "text": [
      "[10  2  4  6  8]\n",
      "[10  1  2  3  4  5  6  7  8  9]\n"
     ]
    }
   ],
   "source": [
    "a[0] = 10\n",
    "print(b)\n",
    "print(a)"
   ]
  },
  {
   "cell_type": "code",
   "execution_count": 75,
   "metadata": {},
   "outputs": [
    {
     "data": {
      "text/plain": [
       "array([19,  1, 12, 17,  8,  8,  0, 16, 14,  6, 12, 12,  0, 14, 12])"
      ]
     },
     "execution_count": 75,
     "metadata": {},
     "output_type": "execute_result"
    }
   ],
   "source": [
    "import numpy as np\n",
    "\n",
    "a = np.random.randint(0,20,15)\n",
    "a"
   ]
  },
  {
   "cell_type": "code",
   "execution_count": 76,
   "metadata": {},
   "outputs": [
    {
     "data": {
      "text/plain": [
       "array([12,  8,  8,  0, 16, 14,  6, 12, 12,  0, 14, 12])"
      ]
     },
     "execution_count": 76,
     "metadata": {},
     "output_type": "execute_result"
    }
   ],
   "source": [
    "mask = (a%2==0)\n",
    "extract_from_a = a[mask]\n",
    "extract_from_a"
   ]
  },
  {
   "cell_type": "code",
   "execution_count": 78,
   "metadata": {},
   "outputs": [
    {
     "data": {
      "text/plain": [
       "array([19,  1, -1, 17, -1, -1, -1, -1, -1, -1, -1, -1, -1, -1, -1])"
      ]
     },
     "execution_count": 78,
     "metadata": {},
     "output_type": "execute_result"
    }
   ],
   "source": [
    "a[mask] = -1\n",
    "a"
   ]
  },
  {
   "cell_type": "code",
   "execution_count": 79,
   "metadata": {},
   "outputs": [
    {
     "data": {
      "text/plain": [
       "array([ 0, 10, 20, 30, 40, 50, 60, 70, 80, 90])"
      ]
     },
     "execution_count": 79,
     "metadata": {},
     "output_type": "execute_result"
    }
   ],
   "source": [
    "a = np.arange(0,100,10)\n",
    "a"
   ]
  },
  {
   "cell_type": "code",
   "execution_count": 81,
   "metadata": {},
   "outputs": [
    {
     "data": {
      "text/plain": [
       "array([   0,   10,   20,   30,   40,   50,   60, -200,   80, -200])"
      ]
     },
     "execution_count": 81,
     "metadata": {},
     "output_type": "execute_result"
    }
   ],
   "source": [
    "a[[9,7]] = -200\n",
    "a"
   ]
  },
  {
   "cell_type": "code",
   "execution_count": 85,
   "metadata": {},
   "outputs": [
    {
     "name": "stdout",
     "output_type": "stream",
     "text": [
      "True\n"
     ]
    }
   ],
   "source": [
    "import numpy as np\n",
    "a = np.array([1,2,3,2])\n",
    "b = np.array([2,2,3,2])\n",
    "c = np.array([6,4,4,5])\n",
    "d = (a<=b)&(a<=c)\n",
    "print(d.all())"
   ]
  },
  {
   "cell_type": "code",
   "execution_count": 90,
   "metadata": {},
   "outputs": [
    {
     "name": "stdout",
     "output_type": "stream",
     "text": [
      "1.75\n",
      "1.5\n",
      "[2. 6.]\n",
      "0.82915619758885\n"
     ]
    }
   ],
   "source": [
    "import numpy as np\n",
    "x = np.array([1,2,3,1])\n",
    "y = np.array([[1,2,3],[5,6,7]])\n",
    "print(x.mean())\n",
    "print(np.median(x))\n",
    "print(np.median(y,axis=-1))\n",
    "print(x.std())\n"
   ]
  },
  {
   "cell_type": "code",
   "execution_count": 112,
   "metadata": {},
   "outputs": [
    {
     "data": {
      "text/plain": [
       "array([[ 0,  1,  2],\n",
       "       [10, 11, 12],\n",
       "       [20, 21, 22],\n",
       "       [30, 31, 32]])"
      ]
     },
     "execution_count": 112,
     "metadata": {},
     "output_type": "execute_result"
    }
   ],
   "source": [
    "import numpy as np\n",
    "a= np.tile(np.arange(0,40,10),(3,1))\n",
    "a = a.T\n",
    "b = np.array([0,1,2])\n",
    "a+b"
   ]
  },
  {
   "cell_type": "code",
   "execution_count": 100,
   "metadata": {},
   "outputs": [
    {
     "data": {
      "text/plain": [
       "array([[ 0,  0,  0],\n",
       "       [10, 10, 10],\n",
       "       [20, 20, 20],\n",
       "       [30, 30, 30]])"
      ]
     },
     "execution_count": 100,
     "metadata": {},
     "output_type": "execute_result"
    }
   ],
   "source": [
    "a= a.T\n",
    "a"
   ]
  },
  {
   "cell_type": "code",
   "execution_count": 95,
   "metadata": {},
   "outputs": [
    {
     "data": {
      "text/plain": [
       "array([[ 0,  1,  2],\n",
       "       [10, 11, 12],\n",
       "       [20, 21, 22],\n",
       "       [30, 31, 32]])"
      ]
     },
     "execution_count": 95,
     "metadata": {},
     "output_type": "execute_result"
    }
   ],
   "source": [
    "b=  np.array([0,1,2])\n",
    "a+b"
   ]
  },
  {
   "cell_type": "code",
   "execution_count": 111,
   "metadata": {},
   "outputs": [
    {
     "data": {
      "text/plain": [
       "array([[ 0,  1,  2],\n",
       "       [10, 11, 12],\n",
       "       [20, 21, 22],\n",
       "       [30, 31, 32]])"
      ]
     },
     "execution_count": 111,
     "metadata": {},
     "output_type": "execute_result"
    }
   ],
   "source": [
    "import numpy as np\n",
    "a= np.arange(0,40,10)\n",
    "a = a[:,np.newaxis]\n",
    "b= np.array([0,1,2])\n",
    "a+b\n",
    "\n",
    "\n"
   ]
  },
  {
   "cell_type": "code",
   "execution_count": 121,
   "metadata": {},
   "outputs": [
    {
     "name": "stdout",
     "output_type": "stream",
     "text": [
      "[1 2 3 4 5 6]\n"
     ]
    }
   ],
   "source": [
    "import numpy as np\n",
    "a = np.array([[1,2,3],[4,5,6]])\n",
    "print(a.ravel())"
   ]
  },
  {
   "cell_type": "code",
   "execution_count": 122,
   "metadata": {},
   "outputs": [
    {
     "data": {
      "text/plain": [
       "array([[1, 4],\n",
       "       [2, 5],\n",
       "       [3, 6]])"
      ]
     },
     "execution_count": 122,
     "metadata": {},
     "output_type": "execute_result"
    }
   ],
   "source": [
    "a=a.T\n",
    "a"
   ]
  },
  {
   "cell_type": "code",
   "execution_count": 123,
   "metadata": {},
   "outputs": [
    {
     "data": {
      "text/plain": [
       "array([1, 4, 2, 5, 3, 6])"
      ]
     },
     "execution_count": 123,
     "metadata": {},
     "output_type": "execute_result"
    }
   ],
   "source": [
    "a=a.ravel()\n",
    "a"
   ]
  },
  {
   "cell_type": "code",
   "execution_count": 124,
   "metadata": {},
   "outputs": [
    {
     "name": "stdout",
     "output_type": "stream",
     "text": [
      "(6,)\n"
     ]
    }
   ],
   "source": [
    "print(a.shape)"
   ]
  },
  {
   "cell_type": "code",
   "execution_count": 126,
   "metadata": {},
   "outputs": [
    {
     "data": {
      "text/plain": [
       "array([[1, 4, 2],\n",
       "       [5, 3, 6]])"
      ]
     },
     "execution_count": 126,
     "metadata": {},
     "output_type": "execute_result"
    }
   ],
   "source": [
    "a = a.reshape((2,3))\n",
    "a"
   ]
  },
  {
   "cell_type": "code",
   "execution_count": null,
   "metadata": {},
   "outputs": [],
   "source": [
    "a[0,0]= 100\n",
    "a"
   ]
  },
  {
   "cell_type": "code",
   "execution_count": 129,
   "metadata": {},
   "outputs": [
    {
     "data": {
      "text/plain": [
       "array([[4, 5, 6],\n",
       "       [2, 2, 3]])"
      ]
     },
     "execution_count": 129,
     "metadata": {},
     "output_type": "execute_result"
    }
   ],
   "source": [
    "a = np.array([[5,4,6],[2,3,2]])\n",
    "a.sort(axis=1)\n",
    "a"
   ]
  },
  {
   "cell_type": "code",
   "execution_count": 128,
   "metadata": {},
   "outputs": [
    {
     "data": {
      "text/plain": [
       "array([[2, 3, 2],\n",
       "       [5, 4, 6]])"
      ]
     },
     "execution_count": 128,
     "metadata": {},
     "output_type": "execute_result"
    }
   ],
   "source": [
    "a = np.array([[5,4,6],[2,3,2]])\n",
    "b = np.sort(a,axis=0)\n",
    "b"
   ]
  },
  {
   "cell_type": "code",
   "execution_count": 130,
   "metadata": {},
   "outputs": [
    {
     "data": {
      "text/plain": [
       "array([2, 3, 1, 0], dtype=int64)"
      ]
     },
     "execution_count": 130,
     "metadata": {},
     "output_type": "execute_result"
    }
   ],
   "source": [
    "a = np.array([4,3,1,2])\n",
    "j = np.argsort(a)\n",
    "j"
   ]
  },
  {
   "cell_type": "code",
   "execution_count": 131,
   "metadata": {},
   "outputs": [
    {
     "data": {
      "text/plain": [
       "array([1, 2, 3, 4])"
      ]
     },
     "execution_count": 131,
     "metadata": {},
     "output_type": "execute_result"
    }
   ],
   "source": [
    "a[j]"
   ]
  },
  {
   "cell_type": "code",
   "execution_count": null,
   "metadata": {},
   "outputs": [],
   "source": []
  }
 ],
 "metadata": {
  "kernelspec": {
   "display_name": "Python 3",
   "language": "python",
   "name": "python3"
  },
  "language_info": {
   "codemirror_mode": {
    "name": "ipython",
    "version": 3
   },
   "file_extension": ".py",
   "mimetype": "text/x-python",
   "name": "python",
   "nbconvert_exporter": "python",
   "pygments_lexer": "ipython3",
   "version": "3.6.5"
  }
 },
 "nbformat": 4,
 "nbformat_minor": 2
}
